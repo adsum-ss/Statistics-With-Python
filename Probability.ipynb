{
 "cells": [
  {
   "cell_type": "code",
   "execution_count": 1,
   "id": "124e5c74",
   "metadata": {},
   "outputs": [],
   "source": [
    "from random import randint, choice"
   ]
  },
  {
   "cell_type": "markdown",
   "id": "975ba860",
   "metadata": {},
   "source": [
    "### Coin Toss Probability"
   ]
  },
  {
   "cell_type": "code",
   "execution_count": 19,
   "id": "b7bfc749",
   "metadata": {},
   "outputs": [],
   "source": [
    "coin = ['Head', 'Tail']"
   ]
  },
  {
   "cell_type": "code",
   "execution_count": 21,
   "id": "7915b58b",
   "metadata": {},
   "outputs": [
    {
     "name": "stdout",
     "output_type": "stream",
     "text": [
      "P(Head) :  50.012\n",
      "P(Tail) :  49.988\n"
     ]
    }
   ],
   "source": [
    "heads, tails = 0, 0\n",
    "\n",
    "for i in range(100000):\n",
    "    result = choice(coin)\n",
    "    \n",
    "    if result == 'Head' : heads += 1\n",
    "    if result == 'Tail' : tails += 1\n",
    "        \n",
    "print(\"P(Head) : \", 100 * heads / 100000)\n",
    "print(\"P(Tail) : \", 100 * tails / 100000)"
   ]
  },
  {
   "cell_type": "markdown",
   "id": "5d138780",
   "metadata": {},
   "source": [
    "#### A coin is tossed twice at random. What is the probability of getting two heads?"
   ]
  },
  {
   "cell_type": "code",
   "execution_count": 23,
   "id": "7a9a6f1a",
   "metadata": {},
   "outputs": [
    {
     "name": "stdout",
     "output_type": "stream",
     "text": [
      "P(HH) :  24.948\n"
     ]
    }
   ],
   "source": [
    "count = 0\n",
    "\n",
    "for i in range(100000):\n",
    "    \n",
    "    result1 = choice(coin)\n",
    "    result2 = choice(coin)\n",
    "    \n",
    "    if result1 == 'Head' and result2 == 'Head':\n",
    "        count += 1\n",
    "        \n",
    "print(\"P(HH) : \", 100 * count / 100000)"
   ]
  },
  {
   "cell_type": "markdown",
   "id": "112bc089",
   "metadata": {},
   "source": [
    "#### There are three coins in a bag. The third coin has tail on both sides. A coin is randomly chosen and tossed four times. If it is found that tail appeared four times, what is the probability that it is the third coin?"
   ]
  },
  {
   "cell_type": "code",
   "execution_count": 24,
   "id": "eb839cdf",
   "metadata": {},
   "outputs": [],
   "source": [
    "coin1 = ['Head', 'Tail']\n",
    "coin2 = ['Head', 'Tail']\n",
    "coin3 = ['Tail', 'Tail']"
   ]
  },
  {
   "cell_type": "code",
   "execution_count": 25,
   "id": "8340a01b",
   "metadata": {},
   "outputs": [],
   "source": [
    "coins = [coin1, coin2, coin3]"
   ]
  },
  {
   "cell_type": "code",
   "execution_count": 26,
   "id": "f70bccf4",
   "metadata": {},
   "outputs": [],
   "source": [
    "condition1, condition2 = 0, 0"
   ]
  },
  {
   "cell_type": "code",
   "execution_count": 30,
   "id": "bed37f4f",
   "metadata": {},
   "outputs": [
    {
     "name": "stdout",
     "output_type": "stream",
     "text": [
      "P(coin3) :  88.91963308629234\n"
     ]
    }
   ],
   "source": [
    "for i in range(100000):\n",
    "    coin_choice = choice(coins)\n",
    "    count = 0\n",
    "    \n",
    "    for i in range(4):\n",
    "        result = choice(coin_choice)\n",
    "        if result == 'Tail': count += 1\n",
    "    \n",
    "    if count == 4:\n",
    "        condition1 += 1\n",
    "        if coin_choice == coin3:\n",
    "            condition2 += 1\n",
    "            \n",
    "print(\"P(coin3) : \", 100 * condition2 / condition1)"
   ]
  },
  {
   "cell_type": "markdown",
   "id": "9e410f88",
   "metadata": {},
   "source": [
    "***"
   ]
  },
  {
   "cell_type": "markdown",
   "id": "ed2d640c",
   "metadata": {},
   "source": [
    "### Dice Rolling Probability"
   ]
  },
  {
   "cell_type": "markdown",
   "id": "052924f8",
   "metadata": {},
   "source": [
    "#### Probability of rolling a certain number"
   ]
  },
  {
   "cell_type": "code",
   "execution_count": 6,
   "id": "90b34670",
   "metadata": {},
   "outputs": [
    {
     "name": "stdout",
     "output_type": "stream",
     "text": [
      "P(1) :  16.673\n"
     ]
    }
   ],
   "source": [
    "count = 0\n",
    "\n",
    "for i in range(100000):\n",
    "    die = randint(1, 6)\n",
    "    \n",
    "    if die == 1 : count += 1\n",
    "    \n",
    "        \n",
    "print(\"P(1) : \", 100 * count / 100000)"
   ]
  },
  {
   "cell_type": "markdown",
   "id": "d68211df",
   "metadata": {},
   "source": [
    "#### A die is rolled once. Find the probability of gettting 1 or 6"
   ]
  },
  {
   "cell_type": "code",
   "execution_count": 7,
   "id": "7b096d81",
   "metadata": {},
   "outputs": [
    {
     "name": "stdout",
     "output_type": "stream",
     "text": [
      "P(1 or 6) :  33.305\n"
     ]
    }
   ],
   "source": [
    "count = 0\n",
    "\n",
    "for i in range(100000):\n",
    "    die = randint(1, 6)\n",
    "    \n",
    "    if die == 1 or die == 6: count += 1\n",
    "    \n",
    "        \n",
    "print(\"P(1 or 6) : \", 100 * count / 100000)"
   ]
  },
  {
   "cell_type": "markdown",
   "id": "d30ac367",
   "metadata": {},
   "source": [
    "#### A die is rolled once. Find the probability that the number is greater than 2"
   ]
  },
  {
   "cell_type": "code",
   "execution_count": 32,
   "id": "df3197f2",
   "metadata": {},
   "outputs": [
    {
     "name": "stdout",
     "output_type": "stream",
     "text": [
      "P(die>2) :  66.683\n"
     ]
    }
   ],
   "source": [
    "count = 0\n",
    "\n",
    "for i in range(100000):\n",
    "    die = randint(1, 6)\n",
    "    \n",
    "    if die > 2: count += 1\n",
    "    \n",
    "        \n",
    "print(\"P(die>2) : \", 100 * count / 100000)"
   ]
  },
  {
   "cell_type": "markdown",
   "id": "fb0156f2",
   "metadata": {},
   "source": [
    "#### Two dice, one white and one red, are rolled together. Find the probability of getting two selected numbers."
   ]
  },
  {
   "cell_type": "code",
   "execution_count": 9,
   "id": "647efd1d",
   "metadata": {},
   "outputs": [
    {
     "name": "stdout",
     "output_type": "stream",
     "text": [
      "P(1 and 6) :  2.76\n"
     ]
    }
   ],
   "source": [
    "count = 0\n",
    "\n",
    "for i in range(100000):\n",
    "    \n",
    "    die1 = randint(1, 6)\n",
    "    die2 = randint(1, 6)\n",
    "    \n",
    "    if die1 == 1 and die2 == 6: count += 1\n",
    "    \n",
    "        \n",
    "print(\"P(1 and 6) : \", 100 * count / 100000)"
   ]
  },
  {
   "cell_type": "markdown",
   "id": "d367ec5b",
   "metadata": {},
   "source": [
    "#### Two dice, one white and one red, are rolled together. Find the probability of getting a sum of 8"
   ]
  },
  {
   "cell_type": "code",
   "execution_count": 16,
   "id": "61e3ad4a",
   "metadata": {},
   "outputs": [
    {
     "name": "stdout",
     "output_type": "stream",
     "text": [
      "P(Total=8) :  27.46\n"
     ]
    }
   ],
   "source": [
    "count = 0\n",
    "\n",
    "for i in range(100000):\n",
    "    \n",
    "    die1 = randint(1, 6)\n",
    "    die2 = randint(1, 6)\n",
    "    \n",
    "    total = die1 + die2\n",
    "    \n",
    "    if total > 8: count += 1\n",
    "    \n",
    "        \n",
    "print(\"P(Total=8) : \", 100 * count / 100000)"
   ]
  }
 ],
 "metadata": {
  "kernelspec": {
   "display_name": "Python 3 (ipykernel)",
   "language": "python",
   "name": "python3"
  },
  "language_info": {
   "codemirror_mode": {
    "name": "ipython",
    "version": 3
   },
   "file_extension": ".py",
   "mimetype": "text/x-python",
   "name": "python",
   "nbconvert_exporter": "python",
   "pygments_lexer": "ipython3",
   "version": "3.9.6"
  }
 },
 "nbformat": 4,
 "nbformat_minor": 5
}
