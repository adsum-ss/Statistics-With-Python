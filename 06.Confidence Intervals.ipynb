{
 "cells": [
  {
   "cell_type": "code",
   "execution_count": 1,
   "id": "8d92d829",
   "metadata": {},
   "outputs": [],
   "source": [
    "import numpy as np\n",
    "from scipy import stats\n",
    "import matplotlib.pyplot as plt\n",
    "import seaborn as sns"
   ]
  },
  {
   "cell_type": "markdown",
   "id": "828e937c",
   "metadata": {},
   "source": [
    "## Confidence Intervals Using the Normal Distribution\n",
    "If we’re working with larger samples (n≥30), we can assume that the sampling distribution of the sample mean is normally distributed (thanks to the Central Limit Theorem) and can instead use the norm.interval() function from the scipy.stats library."
   ]
  },
  {
   "cell_type": "markdown",
   "id": "29ef05b8",
   "metadata": {},
   "source": [
    "#### 1. Load \"tips\" dataset from Seaborn library"
   ]
  },
  {
   "cell_type": "code",
   "execution_count": 2,
   "id": "d8db737f",
   "metadata": {},
   "outputs": [
    {
     "data": {
      "text/html": [
       "<div>\n",
       "<style scoped>\n",
       "    .dataframe tbody tr th:only-of-type {\n",
       "        vertical-align: middle;\n",
       "    }\n",
       "\n",
       "    .dataframe tbody tr th {\n",
       "        vertical-align: top;\n",
       "    }\n",
       "\n",
       "    .dataframe thead th {\n",
       "        text-align: right;\n",
       "    }\n",
       "</style>\n",
       "<table border=\"1\" class=\"dataframe\">\n",
       "  <thead>\n",
       "    <tr style=\"text-align: right;\">\n",
       "      <th></th>\n",
       "      <th>total_bill</th>\n",
       "      <th>tip</th>\n",
       "      <th>sex</th>\n",
       "      <th>smoker</th>\n",
       "      <th>day</th>\n",
       "      <th>time</th>\n",
       "      <th>size</th>\n",
       "    </tr>\n",
       "  </thead>\n",
       "  <tbody>\n",
       "    <tr>\n",
       "      <th>0</th>\n",
       "      <td>16.99</td>\n",
       "      <td>1.01</td>\n",
       "      <td>Female</td>\n",
       "      <td>No</td>\n",
       "      <td>Sun</td>\n",
       "      <td>Dinner</td>\n",
       "      <td>2</td>\n",
       "    </tr>\n",
       "    <tr>\n",
       "      <th>1</th>\n",
       "      <td>10.34</td>\n",
       "      <td>1.66</td>\n",
       "      <td>Male</td>\n",
       "      <td>No</td>\n",
       "      <td>Sun</td>\n",
       "      <td>Dinner</td>\n",
       "      <td>3</td>\n",
       "    </tr>\n",
       "    <tr>\n",
       "      <th>2</th>\n",
       "      <td>21.01</td>\n",
       "      <td>3.50</td>\n",
       "      <td>Male</td>\n",
       "      <td>No</td>\n",
       "      <td>Sun</td>\n",
       "      <td>Dinner</td>\n",
       "      <td>3</td>\n",
       "    </tr>\n",
       "    <tr>\n",
       "      <th>3</th>\n",
       "      <td>23.68</td>\n",
       "      <td>3.31</td>\n",
       "      <td>Male</td>\n",
       "      <td>No</td>\n",
       "      <td>Sun</td>\n",
       "      <td>Dinner</td>\n",
       "      <td>2</td>\n",
       "    </tr>\n",
       "    <tr>\n",
       "      <th>4</th>\n",
       "      <td>24.59</td>\n",
       "      <td>3.61</td>\n",
       "      <td>Female</td>\n",
       "      <td>No</td>\n",
       "      <td>Sun</td>\n",
       "      <td>Dinner</td>\n",
       "      <td>4</td>\n",
       "    </tr>\n",
       "  </tbody>\n",
       "</table>\n",
       "</div>"
      ],
      "text/plain": [
       "   total_bill   tip     sex smoker  day    time  size\n",
       "0       16.99  1.01  Female     No  Sun  Dinner     2\n",
       "1       10.34  1.66    Male     No  Sun  Dinner     3\n",
       "2       21.01  3.50    Male     No  Sun  Dinner     3\n",
       "3       23.68  3.31    Male     No  Sun  Dinner     2\n",
       "4       24.59  3.61  Female     No  Sun  Dinner     4"
      ]
     },
     "execution_count": 2,
     "metadata": {},
     "output_type": "execute_result"
    }
   ],
   "source": [
    "tips = sns.load_dataset('tips')\n",
    "tips.head()"
   ]
  },
  {
   "cell_type": "markdown",
   "id": "3e58e657",
   "metadata": {},
   "source": [
    "#### 2. Draw a set of vertical bar plots (based on \"total_bill\") grouped by \"day\" variable:"
   ]
  },
  {
   "cell_type": "code",
   "execution_count": 3,
   "id": "2ed1a0e7",
   "metadata": {},
   "outputs": [
    {
     "data": {
      "image/png": "[encoded data removed]",
      "text/plain": [
       "<Figure size 432x288 with 1 Axes>"
      ]
     },
     "metadata": {
      "needs_background": "light"
     },
     "output_type": "display_data"
    }
   ],
   "source": [
    "sns.barplot(x='day', y='total_bill', data=tips, ci=95);"
   ]
  },
  {
   "cell_type": "markdown",
   "id": "e71f4d50",
   "metadata": {},
   "source": [
    "#### 3. Subset a dataframe just including Sunday tips"
   ]
  },
  {
   "cell_type": "code",
   "execution_count": 4,
   "id": "967ee076",
   "metadata": {},
   "outputs": [
    {
     "data": {
      "text/plain": [
       "Sat     87\n",
       "Sun     76\n",
       "Thur    62\n",
       "Fri     19\n",
       "Name: day, dtype: int64"
      ]
     },
     "execution_count": 4,
     "metadata": {},
     "output_type": "execute_result"
    }
   ],
   "source": [
    "tips.day.value_counts()"
   ]
  },
  {
   "cell_type": "code",
   "execution_count": 5,
   "id": "36d7b9fa",
   "metadata": {},
   "outputs": [
    {
     "data": {
      "text/html": [
       "<div>\n",
       "<style scoped>\n",
       "    .dataframe tbody tr th:only-of-type {\n",
       "        vertical-align: middle;\n",
       "    }\n",
       "\n",
       "    .dataframe tbody tr th {\n",
       "        vertical-align: top;\n",
       "    }\n",
       "\n",
       "    .dataframe thead th {\n",
       "        text-align: right;\n",
       "    }\n",
       "</style>\n",
       "<table border=\"1\" class=\"dataframe\">\n",
       "  <thead>\n",
       "    <tr style=\"text-align: right;\">\n",
       "      <th></th>\n",
       "      <th>total_bill</th>\n",
       "      <th>tip</th>\n",
       "      <th>sex</th>\n",
       "      <th>smoker</th>\n",
       "      <th>day</th>\n",
       "      <th>time</th>\n",
       "      <th>size</th>\n",
       "    </tr>\n",
       "  </thead>\n",
       "  <tbody>\n",
       "    <tr>\n",
       "      <th>0</th>\n",
       "      <td>16.99</td>\n",
       "      <td>1.01</td>\n",
       "      <td>Female</td>\n",
       "      <td>No</td>\n",
       "      <td>Sun</td>\n",
       "      <td>Dinner</td>\n",
       "      <td>2</td>\n",
       "    </tr>\n",
       "    <tr>\n",
       "      <th>1</th>\n",
       "      <td>10.34</td>\n",
       "      <td>1.66</td>\n",
       "      <td>Male</td>\n",
       "      <td>No</td>\n",
       "      <td>Sun</td>\n",
       "      <td>Dinner</td>\n",
       "      <td>3</td>\n",
       "    </tr>\n",
       "    <tr>\n",
       "      <th>2</th>\n",
       "      <td>21.01</td>\n",
       "      <td>3.50</td>\n",
       "      <td>Male</td>\n",
       "      <td>No</td>\n",
       "      <td>Sun</td>\n",
       "      <td>Dinner</td>\n",
       "      <td>3</td>\n",
       "    </tr>\n",
       "    <tr>\n",
       "      <th>3</th>\n",
       "      <td>23.68</td>\n",
       "      <td>3.31</td>\n",
       "      <td>Male</td>\n",
       "      <td>No</td>\n",
       "      <td>Sun</td>\n",
       "      <td>Dinner</td>\n",
       "      <td>2</td>\n",
       "    </tr>\n",
       "    <tr>\n",
       "      <th>4</th>\n",
       "      <td>24.59</td>\n",
       "      <td>3.61</td>\n",
       "      <td>Female</td>\n",
       "      <td>No</td>\n",
       "      <td>Sun</td>\n",
       "      <td>Dinner</td>\n",
       "      <td>4</td>\n",
       "    </tr>\n",
       "  </tbody>\n",
       "</table>\n",
       "</div>"
      ],
      "text/plain": [
       "   total_bill   tip     sex smoker  day    time  size\n",
       "0       16.99  1.01  Female     No  Sun  Dinner     2\n",
       "1       10.34  1.66    Male     No  Sun  Dinner     3\n",
       "2       21.01  3.50    Male     No  Sun  Dinner     3\n",
       "3       23.68  3.31    Male     No  Sun  Dinner     2\n",
       "4       24.59  3.61  Female     No  Sun  Dinner     4"
      ]
     },
     "execution_count": 5,
     "metadata": {},
     "output_type": "execute_result"
    }
   ],
   "source": [
    "tipsSun = tips[tips['day'] == 'Sun']\n",
    "tipsSun.head()"
   ]
  },
  {
   "cell_type": "markdown",
   "id": "bc5e9329",
   "metadata": {},
   "source": [
    "#### 4. Calculate mean and std"
   ]
  },
  {
   "cell_type": "code",
   "execution_count": 6,
   "id": "70caf3ea",
   "metadata": {},
   "outputs": [
    {
     "data": {
      "text/plain": [
       "mean    21.410000\n",
       "std      8.832122\n",
       "Name: total_bill, dtype: float64"
      ]
     },
     "execution_count": 6,
     "metadata": {},
     "output_type": "execute_result"
    }
   ],
   "source": [
    "tipsSun['total_bill'].agg(['mean', 'std'])"
   ]
  },
  {
   "cell_type": "markdown",
   "id": "39c9757e",
   "metadata": {},
   "source": [
    "#### 5. Calculate standart error of the mean"
   ]
  },
  {
   "cell_type": "code",
   "execution_count": 7,
   "id": "cb4fee12",
   "metadata": {},
   "outputs": [],
   "source": [
    "sem = tipsSun['total_bill'].std() / np.sqrt(len(tipsSun))"
   ]
  },
  {
   "cell_type": "code",
   "execution_count": 8,
   "id": "02e126e9",
   "metadata": {},
   "outputs": [
    {
     "data": {
      "text/plain": [
       "1.0131138555021968"
      ]
     },
     "execution_count": 8,
     "metadata": {},
     "output_type": "execute_result"
    }
   ],
   "source": [
    "sem"
   ]
  },
  {
   "cell_type": "code",
   "execution_count": 9,
   "id": "0d36e741",
   "metadata": {},
   "outputs": [
    {
     "data": {
      "text/plain": [
       "1.0131138555021968"
      ]
     },
     "execution_count": 9,
     "metadata": {},
     "output_type": "execute_result"
    }
   ],
   "source": [
    "# with df.sem() function\n",
    "\n",
    "tipsSun['total_bill'].sem()"
   ]
  },
  {
   "cell_type": "markdown",
   "id": "b8734107",
   "metadata": {},
   "source": [
    "#### 6. Calculate the margin of error (95%)"
   ]
  },
  {
   "cell_type": "code",
   "execution_count": 10,
   "id": "39c1c132",
   "metadata": {},
   "outputs": [
    {
     "data": {
      "text/plain": [
       "1.959963984540054"
      ]
     },
     "execution_count": 10,
     "metadata": {},
     "output_type": "execute_result"
    }
   ],
   "source": [
    "z = stats.norm.ppf(0.975)\n",
    "z"
   ]
  },
  {
   "cell_type": "code",
   "execution_count": 11,
   "id": "7abdfafb",
   "metadata": {},
   "outputs": [
    {
     "data": {
      "text/plain": [
       "1.9856666690228222"
      ]
     },
     "execution_count": 11,
     "metadata": {},
     "output_type": "execute_result"
    }
   ],
   "source": [
    "moe = z * sem\n",
    "moe"
   ]
  },
  {
   "cell_type": "markdown",
   "id": "4dc39b71",
   "metadata": {},
   "source": [
    "#### 7. Calculate the upper confidence limit"
   ]
  },
  {
   "cell_type": "code",
   "execution_count": 12,
   "id": "6e747257",
   "metadata": {},
   "outputs": [
    {
     "data": {
      "text/plain": [
       "23.395666669022823"
      ]
     },
     "execution_count": 12,
     "metadata": {},
     "output_type": "execute_result"
    }
   ],
   "source": [
    "tipsSun['total_bill'].mean() + moe"
   ]
  },
  {
   "cell_type": "markdown",
   "id": "9c563862",
   "metadata": {},
   "source": [
    "#### 8. Calculate the lower confidence limit"
   ]
  },
  {
   "cell_type": "code",
   "execution_count": 13,
   "id": "4f8d5aa8",
   "metadata": {},
   "outputs": [
    {
     "data": {
      "text/plain": [
       "19.424333330977177"
      ]
     },
     "execution_count": 13,
     "metadata": {},
     "output_type": "execute_result"
    }
   ],
   "source": [
    "tipsSun['total_bill'].mean() - moe"
   ]
  },
  {
   "cell_type": "markdown",
   "id": "430f6585",
   "metadata": {},
   "source": [
    "#### 9. Calculate 95% Confidence Interval around the mean by using scipy.stats"
   ]
  },
  {
   "cell_type": "code",
   "execution_count": 14,
   "id": "14107a05",
   "metadata": {},
   "outputs": [
    {
     "data": {
      "text/plain": [
       "(19.424333330977177, 23.395666669022823)"
      ]
     },
     "execution_count": 14,
     "metadata": {},
     "output_type": "execute_result"
    }
   ],
   "source": [
    "stats.norm.interval(0.95, loc=tipsSun[\"total_bill\"].mean(), scale=sem)"
   ]
  },
  {
   "cell_type": "markdown",
   "id": "f80ddcf4",
   "metadata": {},
   "source": [
    "### Exercise 8.7 (Large Samples)\n",
    "*Source: Wackerly, D., Mendenhall, W., & Scheaffer, R. L. (2014). Mathematical statistics with applications. Cengage Learning.*"
   ]
  },
  {
   "cell_type": "markdown",
   "id": "a70e60d0",
   "metadata": {},
   "source": [
    "- The shopping times of n = 64 randomly selected customers at a local supermarket were recorded. \n",
    "\n",
    "- The average and variance of the 64 shopping times were 33 $minutes$ and 256 $minutes^2$, respectively. \n",
    "\n",
    "- Estimate μ, the true average shopping time per customer, with a confidence coefficient of 1 − α = .90."
   ]
  },
  {
   "cell_type": "code",
   "execution_count": 15,
   "id": "350aa2f9",
   "metadata": {},
   "outputs": [],
   "source": [
    "n = 64\n",
    "xbar = 33\n",
    "var = 256\n",
    "cl = 0.90\n",
    "s = np.sqrt(var)\n",
    "\n",
    "sem = s/np.sqrt(n)"
   ]
  },
  {
   "cell_type": "code",
   "execution_count": 16,
   "id": "a5818109",
   "metadata": {},
   "outputs": [
    {
     "data": {
      "text/plain": [
       "2.0"
      ]
     },
     "execution_count": 16,
     "metadata": {},
     "output_type": "execute_result"
    }
   ],
   "source": [
    "sem"
   ]
  },
  {
   "cell_type": "code",
   "execution_count": 17,
   "id": "8eccb18d",
   "metadata": {},
   "outputs": [
    {
     "data": {
      "text/plain": [
       "(29.710292746097053, 36.28970725390295)"
      ]
     },
     "execution_count": 17,
     "metadata": {},
     "output_type": "execute_result"
    }
   ],
   "source": [
    "stats.norm.interval(0.90, loc=xbar, scale=sem)"
   ]
  },
  {
   "cell_type": "markdown",
   "id": "f7d4109b",
   "metadata": {},
   "source": [
    "#### Proof"
   ]
  },
  {
   "attachments": {
    "CI.png": {
     "image/png": "[encoded data removed]"
    }
   },
   "cell_type": "markdown",
   "id": "52bdad11",
   "metadata": {},
   "source": [
    "![CI.png](attachment:CI.png)"
   ]
  },
  {
   "cell_type": "code",
   "execution_count": 18,
   "id": "01936288",
   "metadata": {},
   "outputs": [
    {
     "data": {
      "text/plain": [
       "1.6448536269514722"
      ]
     },
     "execution_count": 18,
     "metadata": {},
     "output_type": "execute_result"
    }
   ],
   "source": [
    "z = stats.norm.ppf(0.95)\n",
    "z"
   ]
  },
  {
   "cell_type": "code",
   "execution_count": 19,
   "id": "37148ef2",
   "metadata": {},
   "outputs": [
    {
     "data": {
      "text/plain": [
       "3.2897072539029444"
      ]
     },
     "execution_count": 19,
     "metadata": {},
     "output_type": "execute_result"
    }
   ],
   "source": [
    "moe = z * sem\n",
    "moe"
   ]
  },
  {
   "cell_type": "code",
   "execution_count": 20,
   "id": "fc5458c0",
   "metadata": {},
   "outputs": [
    {
     "data": {
      "text/plain": [
       "29.710292746097057"
      ]
     },
     "execution_count": 20,
     "metadata": {},
     "output_type": "execute_result"
    }
   ],
   "source": [
    "lower_limit = xbar - moe\n",
    "lower_limit"
   ]
  },
  {
   "cell_type": "code",
   "execution_count": 21,
   "id": "f5438cde",
   "metadata": {},
   "outputs": [
    {
     "data": {
      "text/plain": [
       "36.28970725390295"
      ]
     },
     "execution_count": 21,
     "metadata": {},
     "output_type": "execute_result"
    }
   ],
   "source": [
    "upper_limit = xbar + moe\n",
    "upper_limit"
   ]
  },
  {
   "cell_type": "markdown",
   "id": "591faeec",
   "metadata": {},
   "source": [
    "***"
   ]
  },
  {
   "cell_type": "markdown",
   "id": "51572ec6",
   "metadata": {},
   "source": [
    "### Exercise 8.11 (Small Samples)\n",
    "*Source: Wackerly, D., Mendenhall, W., & Scheaffer, R. L. (2014). Mathematical statistics with applications. Cengage Learning.*"
   ]
  },
  {
   "cell_type": "markdown",
   "id": "4fd75887",
   "metadata": {},
   "source": [
    "A manufacturer of gunpowder has developed a new powder, which was tested in eight shells. The resulting muzzle velocities, in feet per second, were as follows:\n",
    "\n",
    "3005 2925 2935 2965\n",
    "\n",
    "2995 3005 2937 2905\n",
    "\n",
    "Find a 95% confidence interval for the true average velocity μ for shells of this type. Assume that muzzle velocities are approximately normally distributed."
   ]
  },
  {
   "cell_type": "code",
   "execution_count": 22,
   "id": "6f22beb6",
   "metadata": {},
   "outputs": [],
   "source": [
    "x = [3005, 2925, 2935, 2965, 2995, 3005, 2937, 2905]"
   ]
  },
  {
   "cell_type": "code",
   "execution_count": 23,
   "id": "278b0f7d",
   "metadata": {},
   "outputs": [],
   "source": [
    "# Sample size\n",
    "n = 8\n",
    "\n",
    "# Sample mean\n",
    "xbar = np.mean(x)\n",
    "\n",
    "# Sample standard deviation\n",
    "s = np.std(x, ddof=1)\n",
    "\n",
    "# Confidence level\n",
    "cl = 0.95"
   ]
  },
  {
   "cell_type": "code",
   "execution_count": 24,
   "id": "da01591f",
   "metadata": {},
   "outputs": [
    {
     "data": {
      "text/plain": [
       "(2926.3202426713874, 2991.6797573286126)"
      ]
     },
     "execution_count": 24,
     "metadata": {},
     "output_type": "execute_result"
    }
   ],
   "source": [
    "stats.t.interval(0.95, df=n-1, loc=xbar, scale=s/np.sqrt(n))"
   ]
  },
  {
   "cell_type": "code",
   "execution_count": 25,
   "id": "a0d3a8e2",
   "metadata": {},
   "outputs": [
    {
     "data": {
      "text/plain": [
       "2926.3"
      ]
     },
     "execution_count": 25,
     "metadata": {},
     "output_type": "execute_result"
    }
   ],
   "source": [
    "2959 - 32.7"
   ]
  },
  {
   "cell_type": "markdown",
   "id": "71a7ffc5",
   "metadata": {},
   "source": [
    "#### Proof"
   ]
  },
  {
   "attachments": {
    "CI_small_samples.png": {
     "image/png": "[encoded data removed]"
    }
   },
   "cell_type": "markdown",
   "id": "e037d21c",
   "metadata": {},
   "source": [
    "![CI_small_samples.png](attachment:CI_small_samples.png)"
   ]
  },
  {
   "cell_type": "code",
   "execution_count": 26,
   "id": "443e5391",
   "metadata": {},
   "outputs": [
    {
     "data": {
      "text/plain": [
       "2.3646242510102993"
      ]
     },
     "execution_count": 26,
     "metadata": {},
     "output_type": "execute_result"
    }
   ],
   "source": [
    "t = stats.t.ppf(0.975, df=n-1)\n",
    "t"
   ]
  },
  {
   "cell_type": "code",
   "execution_count": 27,
   "id": "cd5e3b66",
   "metadata": {},
   "outputs": [
    {
     "data": {
      "text/plain": [
       "13.820274961085254"
      ]
     },
     "execution_count": 27,
     "metadata": {},
     "output_type": "execute_result"
    }
   ],
   "source": [
    "sem = s/np.sqrt(n)\n",
    "sem"
   ]
  },
  {
   "cell_type": "code",
   "execution_count": 28,
   "id": "52a588e1",
   "metadata": {},
   "outputs": [
    {
     "data": {
      "text/plain": [
       "32.67975732861261"
      ]
     },
     "execution_count": 28,
     "metadata": {},
     "output_type": "execute_result"
    }
   ],
   "source": [
    "moe = t * sem\n",
    "moe"
   ]
  },
  {
   "cell_type": "code",
   "execution_count": 29,
   "id": "b9d01ede",
   "metadata": {},
   "outputs": [
    {
     "data": {
      "text/plain": [
       "2926.3202426713874"
      ]
     },
     "execution_count": 29,
     "metadata": {},
     "output_type": "execute_result"
    }
   ],
   "source": [
    "lower_limit = xbar - moe\n",
    "lower_limit"
   ]
  },
  {
   "cell_type": "code",
   "execution_count": 30,
   "id": "b3b7e34a",
   "metadata": {},
   "outputs": [
    {
     "data": {
      "text/plain": [
       "2991.6797573286126"
      ]
     },
     "execution_count": 30,
     "metadata": {},
     "output_type": "execute_result"
    }
   ],
   "source": [
    "upper_limit = xbar + moe\n",
    "upper_limit"
   ]
  },
  {
   "cell_type": "code",
   "execution_count": null,
   "id": "4fb64dca",
   "metadata": {},
   "outputs": [],
   "source": []
  }
 ],
 "metadata": {
  "kernelspec": {
   "display_name": "Python 3 (ipykernel)",
   "language": "python",
   "name": "python3"
  },
  "language_info": {
   "codemirror_mode": {
    "name": "ipython",
    "version": 3
   },
   "file_extension": ".py",
   "mimetype": "text/x-python",
   "name": "python",
   "nbconvert_exporter": "python",
   "pygments_lexer": "ipython3",
   "version": "3.9.6"
  }
 },
 "nbformat": 4,
 "nbformat_minor": 5
}
