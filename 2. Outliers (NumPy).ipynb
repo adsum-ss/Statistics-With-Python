{
 "cells": [
  {
   "cell_type": "code",
   "execution_count": 1,
   "id": "743bf0c9",
   "metadata": {},
   "outputs": [],
   "source": [
    "import numpy as np\n",
    "import matplotlib.pyplot as plt\n",
    "%matplotlib inline"
   ]
  },
  {
   "cell_type": "code",
   "execution_count": 2,
   "id": "45f47678",
   "metadata": {},
   "outputs": [
    {
     "data": {
      "text/plain": [
       "array([32, 37, 40, 31, 48, 39, 35, 34, 27, 34, 37, 33, 30, 33, 31, 45, 39,\n",
       "       30, 45, 48, 30, 48, 25, 37, 38, 40, 49, 45, 35, 28, 32, 34, 32, 33,\n",
       "       27, 48, 36, 25, 39, 49, 35, 32, 49, 49, 39, 32, 26, 48, 32, 44, 25,\n",
       "       30, 25, 29, 25, 25, 48, 47, 43, 38, 29, 39, 33, 40, 44, 27, 25, 46,\n",
       "       46, 39, 42, 45, 26, 45, 43])"
      ]
     },
     "execution_count": 2,
     "metadata": {},
     "output_type": "execute_result"
    }
   ],
   "source": [
    "age = np.random.randint(25,50,75)\n",
    "age"
   ]
  },
  {
   "cell_type": "code",
   "execution_count": 3,
   "id": "47263eaf",
   "metadata": {},
   "outputs": [
    {
     "data": {
      "text/plain": [
       "array([-1, -1, 99, 99, 48, 39, 35, 34, 27, 34, 37, 33, 30, 33, 31, 45, 39,\n",
       "       30, 45, 48, 30, 48, 25, 37, 38, 40, 49, 45, 35, 28, 32, 34, 32, 33,\n",
       "       27, 48, 36, 25, 39, 49, 35, 32, 49, 49, 39, 32, 26, 48, 32, 44, 25,\n",
       "       30, 25, 29, 25, 25, 48, 47, 43, 38, 29, 39, 33, 40, 44, 27, 25, 46,\n",
       "       46, 39, 42, 45, 26, 45, 43])"
      ]
     },
     "execution_count": 3,
     "metadata": {},
     "output_type": "execute_result"
    }
   ],
   "source": [
    "age[0:2] = -1\n",
    "age[2:4] = 99\n",
    "age"
   ]
  },
  {
   "cell_type": "code",
   "execution_count": 4,
   "id": "5597bf72",
   "metadata": {},
   "outputs": [
    {
     "data": {
      "image/png": "[encoded data removed]",
      "text/plain": [
       "<Figure size 432x288 with 1 Axes>"
      ]
     },
     "metadata": {
      "needs_background": "light"
     },
     "output_type": "display_data"
    }
   ],
   "source": [
    "plt.hist(age);"
   ]
  },
  {
   "cell_type": "code",
   "execution_count": 5,
   "id": "9a11c205",
   "metadata": {},
   "outputs": [
    {
     "data": {
      "image/png": "[encoded data removed]",
      "text/plain": [
       "<Figure size 432x288 with 1 Axes>"
      ]
     },
     "metadata": {
      "needs_background": "light"
     },
     "output_type": "display_data"
    }
   ],
   "source": [
    "plt.hist(age, bins=40);"
   ]
  },
  {
   "cell_type": "code",
   "execution_count": 6,
   "id": "7d0a50ed",
   "metadata": {},
   "outputs": [
    {
     "data": {
      "image/png": "[encoded data removed]",
      "text/plain": [
       "<Figure size 432x288 with 1 Axes>"
      ]
     },
     "metadata": {
      "needs_background": "light"
     },
     "output_type": "display_data"
    }
   ],
   "source": [
    "plt.boxplot(age);"
   ]
  },
  {
   "cell_type": "code",
   "execution_count": 7,
   "id": "e255d63e",
   "metadata": {},
   "outputs": [
    {
     "data": {
      "text/plain": [
       "array([-1, -1])"
      ]
     },
     "execution_count": 7,
     "metadata": {},
     "output_type": "execute_result"
    }
   ],
   "source": [
    "age[age<25]"
   ]
  },
  {
   "cell_type": "code",
   "execution_count": 8,
   "id": "9ecaf8e4",
   "metadata": {},
   "outputs": [
    {
     "name": "stdout",
     "output_type": "stream",
     "text": [
      "-1\n",
      "-1\n"
     ]
    }
   ],
   "source": [
    "for i in range(len(age)):  \n",
    "    if age[i]<25:\n",
    "        print(age[i])"
   ]
  },
  {
   "cell_type": "code",
   "execution_count": 9,
   "id": "e18da9af",
   "metadata": {},
   "outputs": [
    {
     "data": {
      "text/plain": [
       "array([99, 99])"
      ]
     },
     "execution_count": 9,
     "metadata": {},
     "output_type": "execute_result"
    }
   ],
   "source": [
    "age[age>50]"
   ]
  },
  {
   "cell_type": "code",
   "execution_count": 10,
   "id": "eac04f14",
   "metadata": {},
   "outputs": [
    {
     "data": {
      "text/plain": [
       "array([-1, -1, 99, 99, 48, 39, 35, 34, 27, 34, 37, 33, 30, 33, 31, 45, 39,\n",
       "       30, 45, 48, 30, 48, 25, 37, 38, 40, 49, 45, 35, 28, 32, 34, 32, 33,\n",
       "       27, 48, 36, 25, 39, 49, 35, 32, 49, 49, 39, 32, 26, 48, 32, 44, 25,\n",
       "       30, 25, 29, 25, 25, 48, 47, 43, 38, 29, 39, 33, 40, 44, 27, 25, 46,\n",
       "       46, 39, 42, 45, 26, 45, 43])"
      ]
     },
     "execution_count": 10,
     "metadata": {},
     "output_type": "execute_result"
    }
   ],
   "source": [
    "age"
   ]
  },
  {
   "cell_type": "code",
   "execution_count": 11,
   "id": "48f07817",
   "metadata": {},
   "outputs": [
    {
     "data": {
      "text/plain": [
       "array([False, False,  True,  True, False, False, False, False, False,\n",
       "       False, False, False, False, False, False, False, False, False,\n",
       "       False, False, False, False, False, False, False, False, False,\n",
       "       False, False, False, False, False, False, False, False, False,\n",
       "       False, False, False, False, False, False, False, False, False,\n",
       "       False, False, False, False, False, False, False, False, False,\n",
       "       False, False, False, False, False, False, False, False, False,\n",
       "       False, False, False, False, False, False, False, False, False,\n",
       "       False, False, False])"
      ]
     },
     "execution_count": 11,
     "metadata": {},
     "output_type": "execute_result"
    }
   ],
   "source": [
    "age>50"
   ]
  },
  {
   "cell_type": "code",
   "execution_count": 12,
   "id": "2e8c3be6",
   "metadata": {},
   "outputs": [
    {
     "data": {
      "text/plain": [
       "array([-1, -1, 37, 37, 48, 39, 35, 34, 27, 34, 37, 33, 30, 33, 31, 45, 39,\n",
       "       30, 45, 48, 30, 48, 25, 37, 38, 40, 49, 45, 35, 28, 32, 34, 32, 33,\n",
       "       27, 48, 36, 25, 39, 49, 35, 32, 49, 49, 39, 32, 26, 48, 32, 44, 25,\n",
       "       30, 25, 29, 25, 25, 48, 47, 43, 38, 29, 39, 33, 40, 44, 27, 25, 46,\n",
       "       46, 39, 42, 45, 26, 45, 43])"
      ]
     },
     "execution_count": 12,
     "metadata": {},
     "output_type": "execute_result"
    }
   ],
   "source": [
    "age[age>50] = age.mean() \n",
    "age"
   ]
  },
  {
   "cell_type": "code",
   "execution_count": 13,
   "id": "fd0c5fc2",
   "metadata": {},
   "outputs": [
    {
     "data": {
      "text/plain": [
       "array([35, 35, 37, 37, 48, 39, 35, 34, 27, 34, 37, 33, 30, 33, 31, 45, 39,\n",
       "       30, 45, 48, 30, 48, 25, 37, 38, 40, 49, 45, 35, 28, 32, 34, 32, 33,\n",
       "       27, 48, 36, 25, 39, 49, 35, 32, 49, 49, 39, 32, 26, 48, 32, 44, 25,\n",
       "       30, 25, 29, 25, 25, 48, 47, 43, 38, 29, 39, 33, 40, 44, 27, 25, 46,\n",
       "       46, 39, 42, 45, 26, 45, 43])"
      ]
     },
     "execution_count": 13,
     "metadata": {},
     "output_type": "execute_result"
    }
   ],
   "source": [
    "age[age<25] = age.mean()\n",
    "age"
   ]
  },
  {
   "cell_type": "code",
   "execution_count": null,
   "id": "cf4fcafd",
   "metadata": {},
   "outputs": [],
   "source": [
    "# age[(age<25) | (age>50)] = age.mean()"
   ]
  },
  {
   "cell_type": "code",
   "execution_count": 14,
   "id": "206abdf6",
   "metadata": {},
   "outputs": [
    {
     "data": {
      "text/plain": [
       "array([25, 25, 25, 25, 25, 25, 25, 26, 26, 27, 27, 27, 28, 29, 29, 30, 30,\n",
       "       30, 30, 31, 32, 32, 32, 32, 32, 33, 33, 33, 33, 34, 34, 34, 35, 35,\n",
       "       35, 35, 35, 36, 37, 37, 37, 37, 38, 38, 39, 39, 39, 39, 39, 39, 40,\n",
       "       40, 42, 43, 43, 44, 44, 45, 45, 45, 45, 45, 46, 46, 47, 48, 48, 48,\n",
       "       48, 48, 48, 49, 49, 49, 49])"
      ]
     },
     "execution_count": 14,
     "metadata": {},
     "output_type": "execute_result"
    }
   ],
   "source": [
    "age.sort()\n",
    "age"
   ]
  },
  {
   "cell_type": "code",
   "execution_count": 15,
   "id": "26dc3585",
   "metadata": {},
   "outputs": [
    {
     "data": {
      "text/plain": [
       "array([49, 49, 49, 49, 48, 48, 48, 48, 48, 48, 47, 46, 46, 45, 45, 45, 45,\n",
       "       45, 44, 44, 43, 43, 42, 40, 40, 39, 39, 39, 39, 39, 39, 38, 38, 37,\n",
       "       37, 37, 37, 36, 35, 35, 35, 35, 35, 34, 34, 34, 33, 33, 33, 33, 32,\n",
       "       32, 32, 32, 32, 31, 30, 30, 30, 30, 29, 29, 28, 27, 27, 27, 26, 26,\n",
       "       25, 25, 25, 25, 25, 25, 25])"
      ]
     },
     "execution_count": 15,
     "metadata": {},
     "output_type": "execute_result"
    }
   ],
   "source": [
    "age[::-1]"
   ]
  },
  {
   "cell_type": "code",
   "execution_count": null,
   "id": "def8097c",
   "metadata": {},
   "outputs": [],
   "source": []
  }
 ],
 "metadata": {
  "kernelspec": {
   "display_name": "Python 3 (ipykernel)",
   "language": "python",
   "name": "python3"
  },
  "language_info": {
   "codemirror_mode": {
    "name": "ipython",
    "version": 3
   },
   "file_extension": ".py",
   "mimetype": "text/x-python",
   "name": "python",
   "nbconvert_exporter": "python",
   "pygments_lexer": "ipython3",
   "version": "3.9.6"
  }
 },
 "nbformat": 4,
 "nbformat_minor": 5
}
