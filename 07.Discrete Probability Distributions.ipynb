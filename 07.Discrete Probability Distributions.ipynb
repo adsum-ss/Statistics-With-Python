{
 "cells": [
  {
   "cell_type": "code",
   "execution_count": 1,
   "id": "f902d877",
   "metadata": {},
   "outputs": [],
   "source": [
    "import numpy as np\n",
    "import pandas as pd\n",
    "from scipy import stats\n",
    "import matplotlib.pyplot as plt"
   ]
  },
  {
   "cell_type": "markdown",
   "id": "238aabd8",
   "metadata": {},
   "source": [
    "## Binomial Distribution\n",
    "Source: Wackerly, D., Mendenhall, W., & Scheaffer, R. L. (2014). Mathematical statistics with applications. Cengage Learning.\n",
    "\n",
    "### Exercise 3.40\n",
    "\n",
    "The probability that a patient recovers from a stomach disease is 0.8.\n",
    "\n",
    "Suppose 20 people are known to have contracted this disease.\n",
    "\n",
    "What is the probability that\n",
    "\n",
    "a. exactly 14 recover?\n",
    "\n",
    "this is P(X=14)"
   ]
  },
  {
   "cell_type": "code",
   "execution_count": 2,
   "id": "b19cc779",
   "metadata": {},
   "outputs": [],
   "source": [
    "n = 20\n",
    "p = .8\n",
    "x = 14"
   ]
  },
  {
   "cell_type": "code",
   "execution_count": 3,
   "id": "c9ccc89f",
   "metadata": {},
   "outputs": [
    {
     "data": {
      "text/plain": [
       "0.10909970097305016"
      ]
     },
     "execution_count": 3,
     "metadata": {},
     "output_type": "execute_result"
    }
   ],
   "source": [
    "# probability mass function\n",
    "\n",
    "stats.binom.pmf(x, n, p)"
   ]
  },
  {
   "cell_type": "code",
   "execution_count": 4,
   "id": "eb81594f",
   "metadata": {},
   "outputs": [
    {
     "data": {
      "text/plain": [
       "16.0"
      ]
     },
     "execution_count": 4,
     "metadata": {},
     "output_type": "execute_result"
    }
   ],
   "source": [
    "stats.binom.mean(n, p)  # n * p"
   ]
  },
  {
   "cell_type": "markdown",
   "id": "4916243a",
   "metadata": {},
   "source": [
    "b. at least 10 recover?\n",
    "\n",
    "this is P(X≥10)=P(10)+P(11)+P(12)+...+P(20)"
   ]
  },
  {
   "cell_type": "code",
   "execution_count": 5,
   "id": "b82913c3",
   "metadata": {},
   "outputs": [],
   "source": [
    "x = 10"
   ]
  },
  {
   "cell_type": "code",
   "execution_count": 6,
   "id": "b4cbeb4e",
   "metadata": {},
   "outputs": [
    {
     "data": {
      "text/plain": [
       "0.997405172599326"
      ]
     },
     "execution_count": 6,
     "metadata": {},
     "output_type": "execute_result"
    }
   ],
   "source": [
    "1 - stats.binom.cdf(x, n, p)"
   ]
  },
  {
   "cell_type": "markdown",
   "id": "b2aef0b1",
   "metadata": {},
   "source": [
    "c. at least 14 but not more than 18 recover?\n",
    "\n",
    "this is P(14≤X≤18)=P(14)+P(15)+...+P(18)"
   ]
  },
  {
   "cell_type": "code",
   "execution_count": 7,
   "id": "1513fb2e",
   "metadata": {},
   "outputs": [],
   "source": [
    "x1 = 14\n",
    "x2 = 18"
   ]
  },
  {
   "cell_type": "code",
   "execution_count": 8,
   "id": "fb6f7a4a",
   "metadata": {},
   "outputs": [
    {
     "data": {
      "text/plain": [
       "0.844132196156189"
      ]
     },
     "execution_count": 8,
     "metadata": {},
     "output_type": "execute_result"
    }
   ],
   "source": [
    "stats.binom.cdf(x2,n,p) - stats.binom.cdf(x1-1,n,p)"
   ]
  },
  {
   "cell_type": "code",
   "execution_count": 9,
   "id": "46a29d51",
   "metadata": {},
   "outputs": [
    {
     "data": {
      "text/plain": [
       "0.8441321961561888"
      ]
     },
     "execution_count": 9,
     "metadata": {},
     "output_type": "execute_result"
    }
   ],
   "source": [
    "# solution-2\n",
    "\n",
    "stats.binom.pmf(14,n,p) + stats.binom.pmf(15,n,p) + stats.binom.pmf(16,n,p) + stats.binom.pmf(17,n,p) + stats.binom.pmf(18,n,p)"
   ]
  },
  {
   "cell_type": "markdown",
   "id": "6148419c",
   "metadata": {},
   "source": [
    "d. at most 16 recover?\n",
    "\n",
    "this is P(X≤16)=1−P(X>16)=P(17)+P(18)+P(19)+P(20)"
   ]
  },
  {
   "cell_type": "code",
   "execution_count": 10,
   "id": "09189bcf",
   "metadata": {},
   "outputs": [],
   "source": [
    "x = 16"
   ]
  },
  {
   "cell_type": "code",
   "execution_count": 11,
   "id": "06b1b4f3",
   "metadata": {},
   "outputs": [
    {
     "data": {
      "text/plain": [
       "0.5885511380434314"
      ]
     },
     "execution_count": 11,
     "metadata": {},
     "output_type": "execute_result"
    }
   ],
   "source": [
    "stats.binom.cdf(x,n,p)"
   ]
  },
  {
   "cell_type": "markdown",
   "id": "dd0d6e58",
   "metadata": {},
   "source": [
    "e. Construct discrete probability distribution table and draw a graph"
   ]
  },
  {
   "cell_type": "code",
   "execution_count": 12,
   "id": "b86ff904",
   "metadata": {},
   "outputs": [
    {
     "name": "stdout",
     "output_type": "stream",
     "text": [
      "0\t1.0485759999999954e-14\n",
      "1\t8.388607999999964e-13\n",
      "2\t3.187671039999986e-11\n",
      "3\t7.650410495999971e-10\n",
      "4\t1.3005697843199968e-08\n",
      "5\t1.664729323929596e-07\n",
      "6\t1.664729323929598e-06\n",
      "7\t1.3317834591436782e-05\n",
      "8\t8.656592484433914e-05\n",
      "9\t0.0004616849325031411\n",
      "10\t0.0020314137030138213\n",
      "11\t0.007386958920050267\n",
      "12\t0.02216087676015084\n",
      "13\t0.05454985048652511\n",
      "14\t0.10909970097305016\n",
      "15\t0.17455952155688043\n",
      "16\t0.2181994019461004\n",
      "17\t0.20536414300809458\n",
      "18\t0.13690942867206324\n",
      "19\t0.05764607523034235\n",
      "20\t0.011529215046068483\n"
     ]
    }
   ],
   "source": [
    "dist = []\n",
    "\n",
    "for i in range(n+1):\n",
    "    dist.append(stats.binom.pmf(i,n,p))\n",
    "    print(str(i) + \"\\t\" + str(stats.binom.pmf(i,n,p)))"
   ]
  },
  {
   "cell_type": "code",
   "execution_count": 13,
   "id": "efa3a85b",
   "metadata": {},
   "outputs": [
    {
     "data": {
      "image/png": "[encoded data removed]",
      "text/plain": [
       "<Figure size 432x288 with 1 Axes>"
      ]
     },
     "metadata": {
      "needs_background": "light"
     },
     "output_type": "display_data"
    }
   ],
   "source": [
    "plt.bar(list(range(n+1)), dist)\n",
    "plt.show;"
   ]
  },
  {
   "cell_type": "markdown",
   "id": "3d56af88",
   "metadata": {},
   "source": [
    "***"
   ]
  },
  {
   "cell_type": "markdown",
   "id": "ad46aada",
   "metadata": {},
   "source": [
    "#  Poisson Distribution\n",
    "*Source: Wackerly, D., Mendenhall, W., & Scheaffer, R. L. (2014). Mathematical statistics with applications. Cengage Learning.*\n",
    "\n",
    "Suppose that a random system of police patrol is devised so that a patrol officer may visit a given beat location Y = 0, 1, 2, 3, . . . times per half-hour period, with each location being visited an average of once per time period.\n",
    "\n",
    "Assume that Y possesses, approximately, a Poisson probability distribution.\n",
    "\n",
    "Calculate the probability that the patrol officer will miss a given location during a half-hour period.\n",
    "\n",
    "What is the probability that it will be visited once?\n",
    "\n",
    "Twice?\n",
    "\n",
    "At least once?"
   ]
  },
  {
   "cell_type": "code",
   "execution_count": 14,
   "id": "14de2eff",
   "metadata": {},
   "outputs": [],
   "source": [
    "#For this example the time period is a half-hour, and the mean number of visits per half-hour interval is λ = 1. Then\n",
    "\n",
    "mu = 1"
   ]
  },
  {
   "cell_type": "markdown",
   "id": "25457b24",
   "metadata": {},
   "source": [
    "P(Y = 0) = ?"
   ]
  },
  {
   "cell_type": "code",
   "execution_count": 15,
   "id": "5f2455ea",
   "metadata": {},
   "outputs": [
    {
     "data": {
      "text/plain": [
       "0.36787944117144233"
      ]
     },
     "execution_count": 15,
     "metadata": {},
     "output_type": "execute_result"
    }
   ],
   "source": [
    "stats.poisson.pmf(0, mu)"
   ]
  },
  {
   "cell_type": "markdown",
   "id": "29f326bf",
   "metadata": {},
   "source": [
    "P(Y = 1) = ?"
   ]
  },
  {
   "cell_type": "code",
   "execution_count": 16,
   "id": "ccfbcaf4",
   "metadata": {},
   "outputs": [
    {
     "data": {
      "text/plain": [
       "0.36787944117144233"
      ]
     },
     "execution_count": 16,
     "metadata": {},
     "output_type": "execute_result"
    }
   ],
   "source": [
    "stats.poisson.pmf(1, mu)"
   ]
  },
  {
   "cell_type": "markdown",
   "id": "37b7eba1",
   "metadata": {},
   "source": [
    "P(Y = 2) = ?"
   ]
  },
  {
   "cell_type": "code",
   "execution_count": 17,
   "id": "beb7a297",
   "metadata": {},
   "outputs": [
    {
     "data": {
      "text/plain": [
       "0.18393972058572114"
      ]
     },
     "execution_count": 17,
     "metadata": {},
     "output_type": "execute_result"
    }
   ],
   "source": [
    "stats.poisson.pmf(2, mu)"
   ]
  },
  {
   "cell_type": "markdown",
   "id": "157cdf9c",
   "metadata": {},
   "source": [
    "P(Y ≥ 1) = ?"
   ]
  },
  {
   "cell_type": "code",
   "execution_count": 18,
   "id": "82c02d11",
   "metadata": {},
   "outputs": [
    {
     "data": {
      "text/plain": [
       "0.6321205588285577"
      ]
     },
     "execution_count": 18,
     "metadata": {},
     "output_type": "execute_result"
    }
   ],
   "source": [
    "1 - stats.poisson.pmf(0, mu)"
   ]
  },
  {
   "cell_type": "code",
   "execution_count": 19,
   "id": "6048cca0",
   "metadata": {},
   "outputs": [
    {
     "data": {
      "text/plain": [
       "0.6321205588285576"
      ]
     },
     "execution_count": 19,
     "metadata": {},
     "output_type": "execute_result"
    }
   ],
   "source": [
    "1 - stats.poisson.cdf(0, mu)"
   ]
  },
  {
   "cell_type": "markdown",
   "id": "1a7453f9",
   "metadata": {},
   "source": [
    "P(Y ≥ 3) = ?"
   ]
  },
  {
   "cell_type": "code",
   "execution_count": 20,
   "id": "c56106b1",
   "metadata": {},
   "outputs": [
    {
     "data": {
      "text/plain": [
       "0.08030139707139416"
      ]
     },
     "execution_count": 20,
     "metadata": {},
     "output_type": "execute_result"
    }
   ],
   "source": [
    "1 - stats.poisson.cdf(2, mu)"
   ]
  },
  {
   "cell_type": "code",
   "execution_count": null,
   "id": "300b7136",
   "metadata": {},
   "outputs": [],
   "source": []
  }
 ],
 "metadata": {
  "kernelspec": {
   "display_name": "Python 3 (ipykernel)",
   "language": "python",
   "name": "python3"
  },
  "language_info": {
   "codemirror_mode": {
    "name": "ipython",
    "version": 3
   },
   "file_extension": ".py",
   "mimetype": "text/x-python",
   "name": "python",
   "nbconvert_exporter": "python",
   "pygments_lexer": "ipython3",
   "version": "3.9.6"
  }
 },
 "nbformat": 4,
 "nbformat_minor": 5
}
