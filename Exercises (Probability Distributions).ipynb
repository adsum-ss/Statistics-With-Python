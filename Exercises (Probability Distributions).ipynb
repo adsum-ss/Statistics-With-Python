{
 "cells": [
  {
   "cell_type": "code",
   "execution_count": 1,
   "id": "6e309f04",
   "metadata": {},
   "outputs": [],
   "source": [
    "import numpy as np\n",
    "from scipy import stats\n",
    "import matplotlib.pyplot as plt\n",
    "import seaborn as sns"
   ]
  },
  {
   "cell_type": "markdown",
   "id": "b2b3b455",
   "metadata": {},
   "source": [
    "<div class=\"alert alert-block alert-danger\">\n",
    "    \n",
    "<b>EXERCISE 1. \n",
    "\n",
    "Answer the following questions by looking at the distribution table or coding with Python.\n",
    "\n",
    "</b>\n",
    "    \n",
    "</div>"
   ]
  },
  {
   "cell_type": "markdown",
   "id": "ec7ce4f1",
   "metadata": {},
   "source": [
    "#### 1. A salesperson has found that the probability of a sale on a single contact is approximately .03. If the salesperson contacts 100 prospects, what is the approximate probability of making at least one sale? \n",
    "*(Wackerly, Ex.3.135)*"
   ]
  },
  {
   "cell_type": "code",
   "execution_count": 2,
   "id": "b39660ad",
   "metadata": {},
   "outputs": [],
   "source": [
    "n = 100\n",
    "p = 0.03"
   ]
  },
  {
   "cell_type": "code",
   "execution_count": 3,
   "id": "f386a1cf",
   "metadata": {},
   "outputs": [
    {
     "data": {
      "text/plain": [
       "0.9524474920745942"
      ]
     },
     "execution_count": 3,
     "metadata": {},
     "output_type": "execute_result"
    }
   ],
   "source": [
    "1 - stats.binom.cdf(0, n, p)"
   ]
  },
  {
   "cell_type": "markdown",
   "id": "428d3995",
   "metadata": {},
   "source": [
    "#### 2. Ten coins are tossed simultaneously. Find the probability of getting\n",
    "- at least seven heads\n",
    "- exactly seven heads\n",
    "- at most seven heads"
   ]
  },
  {
   "cell_type": "code",
   "execution_count": 4,
   "id": "e5601c1b",
   "metadata": {},
   "outputs": [
    {
     "data": {
      "text/plain": [
       "0.171875"
      ]
     },
     "execution_count": 4,
     "metadata": {},
     "output_type": "execute_result"
    }
   ],
   "source": [
    "1 - stats.binom.cdf(6, 10, 0.5)   # at least seven heads"
   ]
  },
  {
   "cell_type": "code",
   "execution_count": 5,
   "id": "4155425e",
   "metadata": {},
   "outputs": [
    {
     "data": {
      "text/plain": [
       "0.11718749999999999"
      ]
     },
     "execution_count": 5,
     "metadata": {},
     "output_type": "execute_result"
    }
   ],
   "source": [
    "stats.binom.pmf(7, 10, 0.5)   # exactly seven heads"
   ]
  },
  {
   "cell_type": "code",
   "execution_count": 6,
   "id": "f63300c9",
   "metadata": {},
   "outputs": [
    {
     "data": {
      "text/plain": [
       "0.9453125"
      ]
     },
     "execution_count": 6,
     "metadata": {},
     "output_type": "execute_result"
    }
   ],
   "source": [
    "stats.binom.cdf(7, 10, 0.5)   # at most seven heads"
   ]
  },
  {
   "cell_type": "markdown",
   "id": "1ed5a70a",
   "metadata": {},
   "source": [
    "<div class=\"alert alert-block alert-danger\">\n",
    "    \n",
    "<b>EXERCISE 2. \n",
    "    \n",
    "The cycle time for trucks hauling concrete to a highway construction site is uniformly distributed over the interval 50 to 70 minutes. What is the probability that the cycle time exceeds 65 minutes  if it is known that the cycle time exceeds 55 minutes?\n",
    "      \n",
    "</b>\n",
    "    \n",
    "*(Wackerly, Ex.4.51)*\n",
    "    \n",
    "</div>"
   ]
  },
  {
   "cell_type": "code",
   "execution_count": null,
   "id": "aec69195",
   "metadata": {},
   "outputs": [],
   "source": [
    "scale = range (70 - 50)\n",
    "loc = lower limit"
   ]
  },
  {
   "cell_type": "code",
   "execution_count": null,
   "id": "d71a2a1b",
   "metadata": {},
   "outputs": [],
   "source": [
    "P(CT>65 | CT>55) = P(CT>65) / P(CT>55)"
   ]
  },
  {
   "cell_type": "code",
   "execution_count": 7,
   "id": "d3f2ef24",
   "metadata": {},
   "outputs": [
    {
     "data": {
      "text/plain": [
       "0.25"
      ]
     },
     "execution_count": 7,
     "metadata": {},
     "output_type": "execute_result"
    }
   ],
   "source": [
    "M1 = 1 - stats.uniform.cdf(65,50,20)\n",
    "M1"
   ]
  },
  {
   "cell_type": "code",
   "execution_count": 8,
   "id": "a2296a57",
   "metadata": {},
   "outputs": [
    {
     "data": {
      "text/plain": [
       "0.75"
      ]
     },
     "execution_count": 8,
     "metadata": {},
     "output_type": "execute_result"
    }
   ],
   "source": [
    "M2 = 1 - stats.uniform.cdf(55,50,20)\n",
    "M2"
   ]
  },
  {
   "cell_type": "code",
   "execution_count": 9,
   "id": "820ca8bb",
   "metadata": {},
   "outputs": [
    {
     "data": {
      "text/plain": [
       "0.3333333333333333"
      ]
     },
     "execution_count": 9,
     "metadata": {},
     "output_type": "execute_result"
    }
   ],
   "source": [
    "M1 / M2"
   ]
  },
  {
   "cell_type": "markdown",
   "id": "141a4396",
   "metadata": {},
   "source": [
    "***"
   ]
  },
  {
   "cell_type": "code",
   "execution_count": null,
   "id": "306a2efa",
   "metadata": {},
   "outputs": [],
   "source": [
    "P(CT>65 | CT>55) = P(CT>65) / P(CT>55)"
   ]
  },
  {
   "cell_type": "code",
   "execution_count": 10,
   "id": "6787bb9f",
   "metadata": {},
   "outputs": [],
   "source": [
    "P1 = 5/20\n",
    "P2 = 15/20"
   ]
  },
  {
   "cell_type": "code",
   "execution_count": 11,
   "id": "acbe53c1",
   "metadata": {},
   "outputs": [
    {
     "data": {
      "text/plain": [
       "0.3333333333333333"
      ]
     },
     "execution_count": 11,
     "metadata": {},
     "output_type": "execute_result"
    }
   ],
   "source": [
    "P = P1 / P2\n",
    "P"
   ]
  },
  {
   "cell_type": "markdown",
   "id": "5215e12f",
   "metadata": {},
   "source": [
    "<div class=\"alert alert-block alert-danger\">\n",
    "    \n",
    "<b>EXERCISE 3. \n",
    "\n",
    "The width of bolts of fabric is normally distributed with mean 950 mm (millimeters) and standard deviation 10 mm.\n",
    "\n",
    "</b>\n",
    "    \n",
    "</div>"
   ]
  },
  {
   "cell_type": "markdown",
   "id": "bf9aafb3",
   "metadata": {},
   "source": [
    "#### 1. What is the probability that a randomly chosen bolt has a width of between 947 and 958mm?"
   ]
  },
  {
   "cell_type": "code",
   "execution_count": 12,
   "id": "a6b7fa31",
   "metadata": {},
   "outputs": [],
   "source": [
    "mu = 950\n",
    "sigma = 10 \n",
    "x1 = 947\n",
    "x2 = 958"
   ]
  },
  {
   "cell_type": "code",
   "execution_count": 13,
   "id": "743d8993",
   "metadata": {},
   "outputs": [
    {
     "data": {
      "text/plain": [
       "0.406056023605556"
      ]
     },
     "execution_count": 13,
     "metadata": {},
     "output_type": "execute_result"
    }
   ],
   "source": [
    "stats.norm.cdf(x2, mu, sigma) - stats.norm.cdf(x1, mu, sigma)"
   ]
  },
  {
   "cell_type": "markdown",
   "id": "4a349a4b",
   "metadata": {},
   "source": [
    "#### 2. What is the appropriate value for C such that a randomly chosen bolt has a width less than C with probability .8531? \n",
    "*(Wackerly, Ex.4.73)*"
   ]
  },
  {
   "cell_type": "code",
   "execution_count": 14,
   "id": "463591ff",
   "metadata": {},
   "outputs": [],
   "source": [
    "mu = 950\n",
    "sigma = 10 "
   ]
  },
  {
   "cell_type": "code",
   "execution_count": 15,
   "id": "6e61358c",
   "metadata": {},
   "outputs": [],
   "source": [
    "q = 0.8531"
   ]
  },
  {
   "cell_type": "code",
   "execution_count": 16,
   "id": "b5d7799d",
   "metadata": {},
   "outputs": [
    {
     "data": {
      "text/plain": [
       "960.4982190962642"
      ]
     },
     "execution_count": 16,
     "metadata": {},
     "output_type": "execute_result"
    }
   ],
   "source": [
    "stats.norm.ppf(q, mu, sigma)"
   ]
  },
  {
   "cell_type": "markdown",
   "id": "457c9e85",
   "metadata": {},
   "source": [
    "<div class=\"alert alert-block alert-danger\">\n",
    "    \n",
    "<b>EXERCISE 4. \n",
    "    \n",
    "Suppose scores on exams in statistics are normally distributed with an unknown population mean and a population standard deviation of 3 points. A random sample of 36 scores is taken and gives a sample mean (sample mean score) of 68. Find a confidence interval estimate for the population mean exam score (the mean score on all exams). Find a 90% confidence interval for the true (population) mean of statistics exam scores.</b>\n",
    "    \n",
    "</div>"
   ]
  },
  {
   "cell_type": "code",
   "execution_count": 17,
   "id": "ee9776c8",
   "metadata": {},
   "outputs": [],
   "source": [
    "n = 36                 # size of the sample\n",
    "xbar = 68              # sample mean\n",
    "ci = 0.90              # confidence interval\n",
    "s = 3                  # standard deviation\n",
    "\n",
    "sem = s/np.sqrt(n)     # standard error of the mean"
   ]
  },
  {
   "cell_type": "code",
   "execution_count": 18,
   "id": "f98258c8",
   "metadata": {},
   "outputs": [
    {
     "data": {
      "text/plain": [
       "(67.17757318652427, 68.82242681347573)"
      ]
     },
     "execution_count": 18,
     "metadata": {},
     "output_type": "execute_result"
    }
   ],
   "source": [
    "stats.norm.interval(ci, loc=xbar, scale=sem)"
   ]
  },
  {
   "cell_type": "markdown",
   "id": "955c0dde",
   "metadata": {},
   "source": [
    "#### Proof"
   ]
  },
  {
   "cell_type": "code",
   "execution_count": 19,
   "id": "be61988a",
   "metadata": {},
   "outputs": [
    {
     "data": {
      "text/plain": [
       "1.6448536269514722"
      ]
     },
     "execution_count": 19,
     "metadata": {},
     "output_type": "execute_result"
    }
   ],
   "source": [
    "z = stats.norm.ppf(0.95)\n",
    "z"
   ]
  },
  {
   "cell_type": "code",
   "execution_count": 20,
   "id": "4f774fdf",
   "metadata": {},
   "outputs": [
    {
     "data": {
      "text/plain": [
       "0.8224268134757361"
      ]
     },
     "execution_count": 20,
     "metadata": {},
     "output_type": "execute_result"
    }
   ],
   "source": [
    "moe = z * sem\n",
    "moe"
   ]
  },
  {
   "cell_type": "code",
   "execution_count": 21,
   "id": "0c462e92",
   "metadata": {},
   "outputs": [
    {
     "data": {
      "text/plain": [
       "67.17757318652427"
      ]
     },
     "execution_count": 21,
     "metadata": {},
     "output_type": "execute_result"
    }
   ],
   "source": [
    "lower_limit = xbar - moe\n",
    "lower_limit"
   ]
  },
  {
   "cell_type": "code",
   "execution_count": 22,
   "id": "25f8444d",
   "metadata": {},
   "outputs": [
    {
     "data": {
      "text/plain": [
       "68.82242681347573"
      ]
     },
     "execution_count": 22,
     "metadata": {},
     "output_type": "execute_result"
    }
   ],
   "source": [
    "upper_limit = xbar + moe\n",
    "upper_limit"
   ]
  },
  {
   "cell_type": "markdown",
   "id": "b76fb1b5",
   "metadata": {},
   "source": [
    "<div class=\"alert alert-block alert-danger\">\n",
    "    \n",
    "<b>EXERCISE 5.  \n",
    "    \n",
    "What is the normal body temperature for healthy humans? A random sample of 130 healthy human body temperatures provided by Allen Shoemaker yielded 98.25 degrees and standard deviation 0.73 degrees.</b>\n",
    "    \n",
    "</div>"
   ]
  },
  {
   "cell_type": "markdown",
   "id": "82c87e13",
   "metadata": {},
   "source": [
    "#### 1. Give a 99% confidence interval for the average body temperature of healthy people."
   ]
  },
  {
   "cell_type": "code",
   "execution_count": 23,
   "id": "ad1b518a",
   "metadata": {},
   "outputs": [],
   "source": [
    "n = 130                 # size of the sample\n",
    "xbar = 98.25            # sample mean\n",
    "ci = 0.99               # confidence interval\n",
    "s = 0.73                # standard deviation of sample\n",
    "\n",
    "sem = s/np.sqrt(n)      # standard error of the mean"
   ]
  },
  {
   "cell_type": "code",
   "execution_count": 24,
   "id": "bbe0fcb0",
   "metadata": {},
   "outputs": [
    {
     "data": {
      "text/plain": [
       "(98.08508192246582, 98.41491807753418)"
      ]
     },
     "execution_count": 24,
     "metadata": {},
     "output_type": "execute_result"
    }
   ],
   "source": [
    "stats.norm.interval(ci, loc=xbar, scale=sem)"
   ]
  },
  {
   "cell_type": "code",
   "execution_count": 25,
   "id": "ceb1bf2f",
   "metadata": {},
   "outputs": [
    {
     "data": {
      "text/plain": [
       "(98.04393365571609, 98.45606634428391)"
      ]
     },
     "execution_count": 25,
     "metadata": {},
     "output_type": "execute_result"
    }
   ],
   "source": [
    "stats.norm.interval(ci, loc=xbar, scale=0.080)"
   ]
  },
  {
   "cell_type": "markdown",
   "id": "4decf36a",
   "metadata": {},
   "source": [
    "#### 2. Does the confidence interval obtained in part (a) contain the value 98.6 degrees, the accepted average temperature cited by physicians and others? What conclusions can you draw? (Wackerly, Ex.8.60)"
   ]
  },
  {
   "cell_type": "markdown",
   "id": "c4e8186d",
   "metadata": {},
   "source": [
    "No. The confidence interval we obtained doesn't contain the value 98.6 degrees. It is possible that the standard for normal is no longer valid."
   ]
  },
  {
   "cell_type": "markdown",
   "id": "284e451e",
   "metadata": {},
   "source": [
    "***"
   ]
  },
  {
   "cell_type": "markdown",
   "id": "e1927163",
   "metadata": {},
   "source": [
    "*Source: Wackerly, D., Mendenhall, W., & Scheaffer, R. L. (2014). Mathematical statistics with applications. Cengage Learning.*"
   ]
  }
 ],
 "metadata": {
  "kernelspec": {
   "display_name": "Python 3 (ipykernel)",
   "language": "python",
   "name": "python3"
  },
  "language_info": {
   "codemirror_mode": {
    "name": "ipython",
    "version": 3
   },
   "file_extension": ".py",
   "mimetype": "text/x-python",
   "name": "python",
   "nbconvert_exporter": "python",
   "pygments_lexer": "ipython3",
   "version": "3.9.6"
  }
 },
 "nbformat": 4,
 "nbformat_minor": 5
}
