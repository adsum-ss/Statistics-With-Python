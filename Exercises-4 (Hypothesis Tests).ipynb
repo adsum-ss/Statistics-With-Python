{
 "cells": [
  {
   "cell_type": "code",
   "execution_count": 1,
   "id": "6f0767f4",
   "metadata": {},
   "outputs": [],
   "source": [
    "import pandas as pd\n",
    "import numpy as np\n",
    "import seaborn as sns\n",
    "\n",
    "import scipy.stats as stats\n",
    "import matplotlib.pyplot as plt\n",
    "%matplotlib inline\n",
    "\n",
    "import warnings;\n",
    "warnings.filterwarnings('ignore')"
   ]
  },
  {
   "cell_type": "markdown",
   "id": "31a306dc",
   "metadata": {},
   "source": [
    "<div class=\"alert alert-block alert-danger\">\n",
    "    \n",
    "<b>EXERCISE 1.</b> The hourly wages in a particular industry are normally distributed with mean \\\\$13.20 and standard deviation \\\\$2.50. A company in this industry employs 40 workers, paying them an average of $12.20 per hour. Can this company be accused of paying substandard wages? Use an α = .01 level test. (Wackerly, Ex.10.18)\n",
    "    \n",
    "</div>"
   ]
  },
  {
   "cell_type": "code",
   "execution_count": 2,
   "id": "fc7dc0a9",
   "metadata": {},
   "outputs": [],
   "source": [
    "mu = 13.20\n",
    "sigma = 2.50\n",
    "x = 12.20\n",
    "n = 40"
   ]
  },
  {
   "cell_type": "code",
   "execution_count": null,
   "id": "2dc2462b",
   "metadata": {},
   "outputs": [],
   "source": [
    "# HYPOTHESIS\n",
    "\n",
    "# H0: mu = 13.20\n",
    "# H1: mu < 13.20"
   ]
  },
  {
   "cell_type": "code",
   "execution_count": null,
   "id": "a9661f12",
   "metadata": {},
   "outputs": [],
   "source": [
    "# STATE DECISION RULE\n",
    "\n",
    "# If z is smaller than -2.326, reject the null hypothesis."
   ]
  },
  {
   "cell_type": "code",
   "execution_count": 3,
   "id": "0315efe6",
   "metadata": {},
   "outputs": [
    {
     "data": {
      "text/plain": [
       "-2.5298221281347035"
      ]
     },
     "execution_count": 3,
     "metadata": {},
     "output_type": "execute_result"
    }
   ],
   "source": [
    "# TEST STATISTIC\n",
    "\n",
    "z = (x-mu) / (sigma / np.sqrt(n))\n",
    "z"
   ]
  },
  {
   "cell_type": "code",
   "execution_count": 4,
   "id": "90fd3839",
   "metadata": {},
   "outputs": [
    {
     "data": {
      "text/plain": [
       "True"
      ]
     },
     "execution_count": 4,
     "metadata": {},
     "output_type": "execute_result"
    }
   ],
   "source": [
    "z < -2.326"
   ]
  },
  {
   "cell_type": "code",
   "execution_count": null,
   "id": "9acb19c9",
   "metadata": {},
   "outputs": [],
   "source": [
    "# Since z=-2.530 is smaller than -2.326, so we can reject the null hypothesis."
   ]
  },
  {
   "cell_type": "code",
   "execution_count": 5,
   "id": "df4212c6",
   "metadata": {},
   "outputs": [
    {
     "data": {
      "text/plain": [
       "0.005706018193000826"
      ]
     },
     "execution_count": 5,
     "metadata": {},
     "output_type": "execute_result"
    }
   ],
   "source": [
    "# P-VALUE\n",
    "\n",
    "pvalue = stats.norm.cdf(z)\n",
    "pvalue"
   ]
  },
  {
   "cell_type": "code",
   "execution_count": 6,
   "id": "a269583b",
   "metadata": {},
   "outputs": [
    {
     "name": "stdout",
     "output_type": "stream",
     "text": [
      "Reject The Null\n"
     ]
    }
   ],
   "source": [
    "# CONCLUSION (DECISION)\n",
    "\n",
    "alpha = 0.01\n",
    "\n",
    "if pvalue < alpha:\n",
    "    print('Reject The Null')\n",
    "else:\n",
    "    print('Fail to Reject The Null')"
   ]
  },
  {
   "cell_type": "code",
   "execution_count": null,
   "id": "49e3998f",
   "metadata": {},
   "outputs": [],
   "source": [
    "# this company can be accused of paying substandard wages"
   ]
  },
  {
   "cell_type": "markdown",
   "id": "a331165d",
   "metadata": {},
   "source": [
    "<div class=\"alert alert-block alert-danger\">\n",
    "    \n",
    "<b>EXERCISE 2.</b> Shear strength measurements derived from unconfined compression tests for two types of soils gave the results shown in the following document (measurements in tons per square foot). Do the soils appear to differ with respect to average shear strength, at the 1% significance level?\n",
    "    \n",
    "</div>"
   ]
  },
  {
   "cell_type": "code",
   "execution_count": 7,
   "id": "09106c1f",
   "metadata": {},
   "outputs": [],
   "source": [
    "soil = pd.read_excel(\"soil.xlsx\")"
   ]
  },
  {
   "cell_type": "code",
   "execution_count": 8,
   "id": "f9cc71d1",
   "metadata": {},
   "outputs": [
    {
     "data": {
      "text/html": [
       "<div>\n",
       "<style scoped>\n",
       "    .dataframe tbody tr th:only-of-type {\n",
       "        vertical-align: middle;\n",
       "    }\n",
       "\n",
       "    .dataframe tbody tr th {\n",
       "        vertical-align: top;\n",
       "    }\n",
       "\n",
       "    .dataframe thead th {\n",
       "        text-align: right;\n",
       "    }\n",
       "</style>\n",
       "<table border=\"1\" class=\"dataframe\">\n",
       "  <thead>\n",
       "    <tr style=\"text-align: right;\">\n",
       "      <th></th>\n",
       "      <th>Soil1</th>\n",
       "      <th>Soil2</th>\n",
       "    </tr>\n",
       "  </thead>\n",
       "  <tbody>\n",
       "    <tr>\n",
       "      <th>0</th>\n",
       "      <td>1.442</td>\n",
       "      <td>1.364</td>\n",
       "    </tr>\n",
       "    <tr>\n",
       "      <th>1</th>\n",
       "      <td>1.943</td>\n",
       "      <td>1.878</td>\n",
       "    </tr>\n",
       "    <tr>\n",
       "      <th>2</th>\n",
       "      <td>1.110</td>\n",
       "      <td>1.337</td>\n",
       "    </tr>\n",
       "    <tr>\n",
       "      <th>3</th>\n",
       "      <td>1.912</td>\n",
       "      <td>1.828</td>\n",
       "    </tr>\n",
       "    <tr>\n",
       "      <th>4</th>\n",
       "      <td>1.553</td>\n",
       "      <td>1.371</td>\n",
       "    </tr>\n",
       "  </tbody>\n",
       "</table>\n",
       "</div>"
      ],
      "text/plain": [
       "   Soil1  Soil2\n",
       "0  1.442  1.364\n",
       "1  1.943  1.878\n",
       "2  1.110  1.337\n",
       "3  1.912  1.828\n",
       "4  1.553  1.371"
      ]
     },
     "execution_count": 8,
     "metadata": {},
     "output_type": "execute_result"
    }
   ],
   "source": [
    "soil.head()"
   ]
  },
  {
   "cell_type": "code",
   "execution_count": 9,
   "id": "20cb80d6",
   "metadata": {},
   "outputs": [
    {
     "data": {
      "text/plain": [
       "(35, 2)"
      ]
     },
     "execution_count": 9,
     "metadata": {},
     "output_type": "execute_result"
    }
   ],
   "source": [
    "soil.shape"
   ]
  },
  {
   "cell_type": "code",
   "execution_count": 10,
   "id": "d76c567a",
   "metadata": {},
   "outputs": [
    {
     "name": "stdout",
     "output_type": "stream",
     "text": [
      "<class 'pandas.core.frame.DataFrame'>\n",
      "RangeIndex: 35 entries, 0 to 34\n",
      "Data columns (total 2 columns):\n",
      " #   Column  Non-Null Count  Dtype  \n",
      "---  ------  --------------  -----  \n",
      " 0   Soil1   30 non-null     float64\n",
      " 1   Soil2   35 non-null     float64\n",
      "dtypes: float64(2)\n",
      "memory usage: 688.0 bytes\n"
     ]
    }
   ],
   "source": [
    "soil.info()"
   ]
  },
  {
   "cell_type": "code",
   "execution_count": 11,
   "id": "89bfbc52",
   "metadata": {},
   "outputs": [
    {
     "data": {
      "text/plain": [
       "LeveneResult(statistic=0.31486292982090475, pvalue=0.5767018253541134)"
      ]
     },
     "execution_count": 11,
     "metadata": {},
     "output_type": "execute_result"
    }
   ],
   "source": [
    "# Perform Levene test for equal variances\n",
    "\n",
    "# H0: The population variances are equal\n",
    "# H1: There is a difference between the variances in the population\n",
    "\n",
    "# The small p-value suggests that the populations do not have equal variances.\n",
    "\n",
    "leveneTest = stats.levene(soil.Soil1.dropna(), soil.Soil2)\n",
    "leveneTest"
   ]
  },
  {
   "cell_type": "code",
   "execution_count": 12,
   "id": "af195c89",
   "metadata": {},
   "outputs": [
    {
     "data": {
      "text/plain": [
       "False"
      ]
     },
     "execution_count": 12,
     "metadata": {},
     "output_type": "execute_result"
    }
   ],
   "source": [
    "leveneTest.pvalue < 0.01"
   ]
  },
  {
   "cell_type": "code",
   "execution_count": null,
   "id": "c1d2a84b",
   "metadata": {},
   "outputs": [],
   "source": [
    "# Equal Variances Assumed"
   ]
  },
  {
   "cell_type": "code",
   "execution_count": null,
   "id": "1a5cd683",
   "metadata": {},
   "outputs": [],
   "source": [
    "# HYPOTHESIS\n",
    "\n",
    "# H0: mu1 = mu2\n",
    "# H1: mu1 != mu2"
   ]
  },
  {
   "cell_type": "code",
   "execution_count": 13,
   "id": "f2c72f6a",
   "metadata": {},
   "outputs": [
    {
     "data": {
      "text/plain": [
       "Ttest_indResult(statistic=5.1681473319343345, pvalue=2.59322873235282e-06)"
      ]
     },
     "execution_count": 13,
     "metadata": {},
     "output_type": "execute_result"
    }
   ],
   "source": [
    "# TEST STATISTIC AND P-VALUE\n",
    "\n",
    "IndTest = stats.ttest_ind(soil.Soil1.dropna(), soil.Soil2, equal_var=True)\n",
    "IndTest"
   ]
  },
  {
   "cell_type": "code",
   "execution_count": 14,
   "id": "1abec674",
   "metadata": {},
   "outputs": [
    {
     "name": "stdout",
     "output_type": "stream",
     "text": [
      "Reject The Null\n"
     ]
    }
   ],
   "source": [
    "# CONCLUSION (DECISION)\n",
    "\n",
    "alpha = 0.01\n",
    "\n",
    "if IndTest.pvalue < alpha:\n",
    "    print('Reject The Null')\n",
    "else:\n",
    "    print('Fail to Reject The Null')"
   ]
  },
  {
   "cell_type": "code",
   "execution_count": null,
   "id": "2e823044",
   "metadata": {},
   "outputs": [],
   "source": [
    "# There is enough evidence to conclude the mean shear strength for the two soil types is different."
   ]
  },
  {
   "cell_type": "markdown",
   "id": "dd502d5a",
   "metadata": {},
   "source": [
    "<div class=\"alert alert-block alert-danger\">\n",
    "    \n",
    "<b>EXERCISE 3.</b> The following dataset is based on data provided by the World Bank (https://datacatalog.worldbank.org/dataset/education-statistics). World Bank Edstats.\n",
    "    \n",
    "</div>"
   ]
  },
  {
   "cell_type": "markdown",
   "id": "41df24a1",
   "metadata": {},
   "source": [
    "#### 1. Get descriptive statistics (the central tendency, dispersion and shape of a dataset’s distribution) for each continent group (AS, EU, AF, NA, SA, OC)."
   ]
  },
  {
   "cell_type": "code",
   "execution_count": 15,
   "id": "a479ef56",
   "metadata": {},
   "outputs": [],
   "source": [
    "pisaTest = pd.read_excel(\"2015 PISA Test.xlsx\")"
   ]
  },
  {
   "cell_type": "code",
   "execution_count": 16,
   "id": "9c5b0364",
   "metadata": {},
   "outputs": [
    {
     "data": {
      "text/html": [
       "<div>\n",
       "<style scoped>\n",
       "    .dataframe tbody tr th:only-of-type {\n",
       "        vertical-align: middle;\n",
       "    }\n",
       "\n",
       "    .dataframe tbody tr th {\n",
       "        vertical-align: top;\n",
       "    }\n",
       "\n",
       "    .dataframe thead th {\n",
       "        text-align: right;\n",
       "    }\n",
       "</style>\n",
       "<table border=\"1\" class=\"dataframe\">\n",
       "  <thead>\n",
       "    <tr style=\"text-align: right;\">\n",
       "      <th></th>\n",
       "      <th>Country Code</th>\n",
       "      <th>Continent_Code</th>\n",
       "      <th>internet_users_per_100</th>\n",
       "      <th>Math</th>\n",
       "      <th>Reading</th>\n",
       "      <th>Science</th>\n",
       "    </tr>\n",
       "  </thead>\n",
       "  <tbody>\n",
       "    <tr>\n",
       "      <th>0</th>\n",
       "      <td>ALB</td>\n",
       "      <td>EU</td>\n",
       "      <td>63.252933</td>\n",
       "      <td>413.1570</td>\n",
       "      <td>405.2588</td>\n",
       "      <td>427.2250</td>\n",
       "    </tr>\n",
       "    <tr>\n",
       "      <th>1</th>\n",
       "      <td>ARE</td>\n",
       "      <td>AS</td>\n",
       "      <td>90.500000</td>\n",
       "      <td>427.4827</td>\n",
       "      <td>433.5423</td>\n",
       "      <td>436.7311</td>\n",
       "    </tr>\n",
       "    <tr>\n",
       "      <th>2</th>\n",
       "      <td>ARG</td>\n",
       "      <td>SA</td>\n",
       "      <td>68.043064</td>\n",
       "      <td>409.0333</td>\n",
       "      <td>425.3031</td>\n",
       "      <td>432.2262</td>\n",
       "    </tr>\n",
       "    <tr>\n",
       "      <th>3</th>\n",
       "      <td>AUS</td>\n",
       "      <td>OC</td>\n",
       "      <td>84.560519</td>\n",
       "      <td>493.8962</td>\n",
       "      <td>502.9006</td>\n",
       "      <td>509.9939</td>\n",
       "    </tr>\n",
       "    <tr>\n",
       "      <th>4</th>\n",
       "      <td>AUT</td>\n",
       "      <td>EU</td>\n",
       "      <td>83.940142</td>\n",
       "      <td>496.7423</td>\n",
       "      <td>484.8656</td>\n",
       "      <td>495.0375</td>\n",
       "    </tr>\n",
       "    <tr>\n",
       "      <th>...</th>\n",
       "      <td>...</td>\n",
       "      <td>...</td>\n",
       "      <td>...</td>\n",
       "      <td>...</td>\n",
       "      <td>...</td>\n",
       "      <td>...</td>\n",
       "    </tr>\n",
       "    <tr>\n",
       "      <th>65</th>\n",
       "      <td>TUN</td>\n",
       "      <td>AF</td>\n",
       "      <td>48.519836</td>\n",
       "      <td>366.8180</td>\n",
       "      <td>361.0555</td>\n",
       "      <td>386.4034</td>\n",
       "    </tr>\n",
       "    <tr>\n",
       "      <th>66</th>\n",
       "      <td>TUR</td>\n",
       "      <td>EU</td>\n",
       "      <td>53.744979</td>\n",
       "      <td>420.4540</td>\n",
       "      <td>428.3351</td>\n",
       "      <td>425.4895</td>\n",
       "    </tr>\n",
       "    <tr>\n",
       "      <th>67</th>\n",
       "      <td>URY</td>\n",
       "      <td>SA</td>\n",
       "      <td>64.600000</td>\n",
       "      <td>417.9919</td>\n",
       "      <td>436.5721</td>\n",
       "      <td>435.3630</td>\n",
       "    </tr>\n",
       "    <tr>\n",
       "      <th>68</th>\n",
       "      <td>USA</td>\n",
       "      <td>NaN</td>\n",
       "      <td>74.554202</td>\n",
       "      <td>469.6285</td>\n",
       "      <td>496.9351</td>\n",
       "      <td>496.2424</td>\n",
       "    </tr>\n",
       "    <tr>\n",
       "      <th>69</th>\n",
       "      <td>VNM</td>\n",
       "      <td>AS</td>\n",
       "      <td>43.500000</td>\n",
       "      <td>494.5183</td>\n",
       "      <td>486.7738</td>\n",
       "      <td>524.6445</td>\n",
       "    </tr>\n",
       "  </tbody>\n",
       "</table>\n",
       "<p>70 rows × 6 columns</p>\n",
       "</div>"
      ],
      "text/plain": [
       "   Country Code Continent_Code  internet_users_per_100      Math   Reading  \\\n",
       "0           ALB             EU               63.252933  413.1570  405.2588   \n",
       "1           ARE             AS               90.500000  427.4827  433.5423   \n",
       "2           ARG             SA               68.043064  409.0333  425.3031   \n",
       "3           AUS             OC               84.560519  493.8962  502.9006   \n",
       "4           AUT             EU               83.940142  496.7423  484.8656   \n",
       "..          ...            ...                     ...       ...       ...   \n",
       "65          TUN             AF               48.519836  366.8180  361.0555   \n",
       "66          TUR             EU               53.744979  420.4540  428.3351   \n",
       "67          URY             SA               64.600000  417.9919  436.5721   \n",
       "68          USA            NaN               74.554202  469.6285  496.9351   \n",
       "69          VNM             AS               43.500000  494.5183  486.7738   \n",
       "\n",
       "     Science  \n",
       "0   427.2250  \n",
       "1   436.7311  \n",
       "2   432.2262  \n",
       "3   509.9939  \n",
       "4   495.0375  \n",
       "..       ...  \n",
       "65  386.4034  \n",
       "66  425.4895  \n",
       "67  435.3630  \n",
       "68  496.2424  \n",
       "69  524.6445  \n",
       "\n",
       "[70 rows x 6 columns]"
      ]
     },
     "execution_count": 16,
     "metadata": {},
     "output_type": "execute_result"
    }
   ],
   "source": [
    "pisaTest"
   ]
  },
  {
   "cell_type": "code",
   "execution_count": 17,
   "id": "b0e0a884",
   "metadata": {},
   "outputs": [
    {
     "name": "stdout",
     "output_type": "stream",
     "text": [
      "<class 'pandas.core.frame.DataFrame'>\n",
      "RangeIndex: 70 entries, 0 to 69\n",
      "Data columns (total 6 columns):\n",
      " #   Column                  Non-Null Count  Dtype  \n",
      "---  ------                  --------------  -----  \n",
      " 0   Country Code            70 non-null     object \n",
      " 1   Continent_Code          65 non-null     object \n",
      " 2   internet_users_per_100  70 non-null     float64\n",
      " 3   Math                    70 non-null     float64\n",
      " 4   Reading                 70 non-null     float64\n",
      " 5   Science                 70 non-null     float64\n",
      "dtypes: float64(4), object(2)\n",
      "memory usage: 3.4+ KB\n"
     ]
    }
   ],
   "source": [
    "pisaTest.info()"
   ]
  },
  {
   "cell_type": "code",
   "execution_count": 18,
   "id": "fb4ceb5d",
   "metadata": {},
   "outputs": [
    {
     "data": {
      "text/html": [
       "<div>\n",
       "<style scoped>\n",
       "    .dataframe tbody tr th:only-of-type {\n",
       "        vertical-align: middle;\n",
       "    }\n",
       "\n",
       "    .dataframe tbody tr th {\n",
       "        vertical-align: top;\n",
       "    }\n",
       "\n",
       "    .dataframe thead th {\n",
       "        text-align: right;\n",
       "    }\n",
       "</style>\n",
       "<table border=\"1\" class=\"dataframe\">\n",
       "  <thead>\n",
       "    <tr style=\"text-align: right;\">\n",
       "      <th></th>\n",
       "      <th>Country Code</th>\n",
       "      <th>Continent_Code</th>\n",
       "      <th>internet_users_per_100</th>\n",
       "      <th>Math</th>\n",
       "      <th>Reading</th>\n",
       "      <th>Science</th>\n",
       "    </tr>\n",
       "  </thead>\n",
       "  <tbody>\n",
       "    <tr>\n",
       "      <th>8</th>\n",
       "      <td>CAN</td>\n",
       "      <td>NaN</td>\n",
       "      <td>88.470000</td>\n",
       "      <td>515.6474</td>\n",
       "      <td>526.6678</td>\n",
       "      <td>527.7047</td>\n",
       "    </tr>\n",
       "    <tr>\n",
       "      <th>13</th>\n",
       "      <td>CRI</td>\n",
       "      <td>NaN</td>\n",
       "      <td>59.762950</td>\n",
       "      <td>400.2534</td>\n",
       "      <td>427.4875</td>\n",
       "      <td>419.6080</td>\n",
       "    </tr>\n",
       "    <tr>\n",
       "      <th>18</th>\n",
       "      <td>DOM</td>\n",
       "      <td>NaN</td>\n",
       "      <td>54.215766</td>\n",
       "      <td>327.7020</td>\n",
       "      <td>357.7377</td>\n",
       "      <td>331.6388</td>\n",
       "    </tr>\n",
       "    <tr>\n",
       "      <th>45</th>\n",
       "      <td>MEX</td>\n",
       "      <td>NaN</td>\n",
       "      <td>57.431043</td>\n",
       "      <td>408.0235</td>\n",
       "      <td>423.2765</td>\n",
       "      <td>415.7099</td>\n",
       "    </tr>\n",
       "    <tr>\n",
       "      <th>68</th>\n",
       "      <td>USA</td>\n",
       "      <td>NaN</td>\n",
       "      <td>74.554202</td>\n",
       "      <td>469.6285</td>\n",
       "      <td>496.9351</td>\n",
       "      <td>496.2424</td>\n",
       "    </tr>\n",
       "  </tbody>\n",
       "</table>\n",
       "</div>"
      ],
      "text/plain": [
       "   Country Code Continent_Code  internet_users_per_100      Math   Reading  \\\n",
       "8           CAN            NaN               88.470000  515.6474  526.6678   \n",
       "13          CRI            NaN               59.762950  400.2534  427.4875   \n",
       "18          DOM            NaN               54.215766  327.7020  357.7377   \n",
       "45          MEX            NaN               57.431043  408.0235  423.2765   \n",
       "68          USA            NaN               74.554202  469.6285  496.9351   \n",
       "\n",
       "     Science  \n",
       "8   527.7047  \n",
       "13  419.6080  \n",
       "18  331.6388  \n",
       "45  415.7099  \n",
       "68  496.2424  "
      ]
     },
     "execution_count": 18,
     "metadata": {},
     "output_type": "execute_result"
    }
   ],
   "source": [
    "pisaTest[pisaTest['Continent_Code'].isnull()]"
   ]
  },
  {
   "cell_type": "code",
   "execution_count": 19,
   "id": "7db1bd98",
   "metadata": {},
   "outputs": [
    {
     "data": {
      "text/plain": [
       "array(['EU', 'AS', 'SA', 'OC', nan, 'AF'], dtype=object)"
      ]
     },
     "execution_count": 19,
     "metadata": {},
     "output_type": "execute_result"
    }
   ],
   "source": [
    "pisaTest['Continent_Code'].unique()"
   ]
  },
  {
   "cell_type": "code",
   "execution_count": 20,
   "id": "b5a31a8a",
   "metadata": {},
   "outputs": [],
   "source": [
    "pisaTest['Continent_Code'].fillna('NA', inplace=True)"
   ]
  },
  {
   "cell_type": "code",
   "execution_count": 21,
   "id": "08d56e55",
   "metadata": {},
   "outputs": [
    {
     "data": {
      "text/plain": [
       "array(['EU', 'AS', 'SA', 'OC', 'NA', 'AF'], dtype=object)"
      ]
     },
     "execution_count": 21,
     "metadata": {},
     "output_type": "execute_result"
    }
   ],
   "source": [
    "pisaTest['Continent_Code'].unique()"
   ]
  },
  {
   "cell_type": "code",
   "execution_count": 22,
   "id": "6cb0e9cc",
   "metadata": {},
   "outputs": [
    {
     "data": {
      "text/html": [
       "<div>\n",
       "<style scoped>\n",
       "    .dataframe tbody tr th:only-of-type {\n",
       "        vertical-align: middle;\n",
       "    }\n",
       "\n",
       "    .dataframe tbody tr th {\n",
       "        vertical-align: top;\n",
       "    }\n",
       "\n",
       "    .dataframe thead th {\n",
       "        text-align: right;\n",
       "    }\n",
       "</style>\n",
       "<table border=\"1\" class=\"dataframe\">\n",
       "  <thead>\n",
       "    <tr style=\"text-align: right;\">\n",
       "      <th></th>\n",
       "      <th>Continent_Code</th>\n",
       "      <th>AF</th>\n",
       "      <th>AS</th>\n",
       "      <th>EU</th>\n",
       "      <th>NA</th>\n",
       "      <th>OC</th>\n",
       "      <th>SA</th>\n",
       "    </tr>\n",
       "  </thead>\n",
       "  <tbody>\n",
       "    <tr>\n",
       "      <th rowspan=\"7\" valign=\"top\">internet_users_per_100</th>\n",
       "      <th>count</th>\n",
       "      <td>2.000000</td>\n",
       "      <td>17.000000</td>\n",
       "      <td>37.000000</td>\n",
       "      <td>5.000000</td>\n",
       "      <td>2.000000</td>\n",
       "      <td>7.000000</td>\n",
       "    </tr>\n",
       "    <tr>\n",
       "      <th>mean</th>\n",
       "      <td>43.359918</td>\n",
       "      <td>68.455613</td>\n",
       "      <td>77.274888</td>\n",
       "      <td>66.886792</td>\n",
       "      <td>86.391704</td>\n",
       "      <td>60.180494</td>\n",
       "    </tr>\n",
       "    <tr>\n",
       "      <th>std</th>\n",
       "      <td>7.297226</td>\n",
       "      <td>21.086060</td>\n",
       "      <td>12.425773</td>\n",
       "      <td>14.364359</td>\n",
       "      <td>2.589686</td>\n",
       "      <td>9.772455</td>\n",
       "    </tr>\n",
       "    <tr>\n",
       "      <th>var</th>\n",
       "      <td>53.249507</td>\n",
       "      <td>444.621918</td>\n",
       "      <td>154.399841</td>\n",
       "      <td>206.334814</td>\n",
       "      <td>6.706475</td>\n",
       "      <td>95.500869</td>\n",
       "    </tr>\n",
       "    <tr>\n",
       "      <th>sem</th>\n",
       "      <td>5.159918</td>\n",
       "      <td>5.114121</td>\n",
       "      <td>2.042785</td>\n",
       "      <td>6.423937</td>\n",
       "      <td>1.831185</td>\n",
       "      <td>3.693641</td>\n",
       "    </tr>\n",
       "    <tr>\n",
       "      <th>min</th>\n",
       "      <td>38.200000</td>\n",
       "      <td>21.976068</td>\n",
       "      <td>53.744979</td>\n",
       "      <td>54.215766</td>\n",
       "      <td>84.560519</td>\n",
       "      <td>40.900000</td>\n",
       "    </tr>\n",
       "    <tr>\n",
       "      <th>max</th>\n",
       "      <td>48.519836</td>\n",
       "      <td>92.884826</td>\n",
       "      <td>98.200000</td>\n",
       "      <td>88.470000</td>\n",
       "      <td>88.222889</td>\n",
       "      <td>69.198471</td>\n",
       "    </tr>\n",
       "    <tr>\n",
       "      <th rowspan=\"7\" valign=\"top\">Math</th>\n",
       "      <th>count</th>\n",
       "      <td>2.000000</td>\n",
       "      <td>17.000000</td>\n",
       "      <td>37.000000</td>\n",
       "      <td>5.000000</td>\n",
       "      <td>2.000000</td>\n",
       "      <td>7.000000</td>\n",
       "    </tr>\n",
       "    <tr>\n",
       "      <th>mean</th>\n",
       "      <td>363.212100</td>\n",
       "      <td>466.216647</td>\n",
       "      <td>477.981449</td>\n",
       "      <td>424.250960</td>\n",
       "      <td>494.559750</td>\n",
       "      <td>402.887700</td>\n",
       "    </tr>\n",
       "    <tr>\n",
       "      <th>std</th>\n",
       "      <td>5.099513</td>\n",
       "      <td>64.356490</td>\n",
       "      <td>35.150403</td>\n",
       "      <td>71.717058</td>\n",
       "      <td>0.938401</td>\n",
       "      <td>18.128894</td>\n",
       "    </tr>\n",
       "    <tr>\n",
       "      <th>var</th>\n",
       "      <td>26.005030</td>\n",
       "      <td>4141.757822</td>\n",
       "      <td>1235.550805</td>\n",
       "      <td>5143.336351</td>\n",
       "      <td>0.880597</td>\n",
       "      <td>328.656783</td>\n",
       "    </tr>\n",
       "    <tr>\n",
       "      <th>sem</th>\n",
       "      <td>3.605900</td>\n",
       "      <td>15.608742</td>\n",
       "      <td>5.778691</td>\n",
       "      <td>32.072843</td>\n",
       "      <td>0.663550</td>\n",
       "      <td>6.852078</td>\n",
       "    </tr>\n",
       "    <tr>\n",
       "      <th>min</th>\n",
       "      <td>359.606200</td>\n",
       "      <td>380.259000</td>\n",
       "      <td>371.311400</td>\n",
       "      <td>327.702000</td>\n",
       "      <td>493.896200</td>\n",
       "      <td>377.069500</td>\n",
       "    </tr>\n",
       "    <tr>\n",
       "      <th>max</th>\n",
       "      <td>366.818000</td>\n",
       "      <td>564.189700</td>\n",
       "      <td>521.250600</td>\n",
       "      <td>515.647400</td>\n",
       "      <td>495.223300</td>\n",
       "      <td>422.671400</td>\n",
       "    </tr>\n",
       "    <tr>\n",
       "      <th rowspan=\"7\" valign=\"top\">Reading</th>\n",
       "      <th>count</th>\n",
       "      <td>2.000000</td>\n",
       "      <td>17.000000</td>\n",
       "      <td>37.000000</td>\n",
       "      <td>5.000000</td>\n",
       "      <td>2.000000</td>\n",
       "      <td>7.000000</td>\n",
       "    </tr>\n",
       "    <tr>\n",
       "      <th>mean</th>\n",
       "      <td>355.457400</td>\n",
       "      <td>454.059682</td>\n",
       "      <td>476.164608</td>\n",
       "      <td>446.420920</td>\n",
       "      <td>506.085650</td>\n",
       "      <td>425.359229</td>\n",
       "    </tr>\n",
       "    <tr>\n",
       "      <th>std</th>\n",
       "      <td>7.916909</td>\n",
       "      <td>57.048962</td>\n",
       "      <td>37.720545</td>\n",
       "      <td>66.614744</td>\n",
       "      <td>4.504341</td>\n",
       "      <td>19.709688</td>\n",
       "    </tr>\n",
       "    <tr>\n",
       "      <th>var</th>\n",
       "      <td>62.677447</td>\n",
       "      <td>3254.584049</td>\n",
       "      <td>1422.839540</td>\n",
       "      <td>4437.524053</td>\n",
       "      <td>20.289087</td>\n",
       "      <td>388.471816</td>\n",
       "    </tr>\n",
       "    <tr>\n",
       "      <th>sem</th>\n",
       "      <td>5.598100</td>\n",
       "      <td>13.836406</td>\n",
       "      <td>6.201219</td>\n",
       "      <td>29.791019</td>\n",
       "      <td>3.185050</td>\n",
       "      <td>7.449562</td>\n",
       "    </tr>\n",
       "    <tr>\n",
       "      <th>min</th>\n",
       "      <td>349.859300</td>\n",
       "      <td>346.549000</td>\n",
       "      <td>351.741500</td>\n",
       "      <td>357.737700</td>\n",
       "      <td>502.900600</td>\n",
       "      <td>397.541400</td>\n",
       "    </tr>\n",
       "    <tr>\n",
       "      <th>max</th>\n",
       "      <td>361.055500</td>\n",
       "      <td>535.100200</td>\n",
       "      <td>526.424700</td>\n",
       "      <td>526.667800</td>\n",
       "      <td>509.270700</td>\n",
       "      <td>458.570900</td>\n",
       "    </tr>\n",
       "    <tr>\n",
       "      <th rowspan=\"7\" valign=\"top\">Science</th>\n",
       "      <th>count</th>\n",
       "      <td>2.000000</td>\n",
       "      <td>17.000000</td>\n",
       "      <td>37.000000</td>\n",
       "      <td>5.000000</td>\n",
       "      <td>2.000000</td>\n",
       "      <td>7.000000</td>\n",
       "    </tr>\n",
       "    <tr>\n",
       "      <th>mean</th>\n",
       "      <td>381.074250</td>\n",
       "      <td>467.945847</td>\n",
       "      <td>478.299381</td>\n",
       "      <td>438.180760</td>\n",
       "      <td>511.648700</td>\n",
       "      <td>421.747186</td>\n",
       "    </tr>\n",
       "    <tr>\n",
       "      <th>std</th>\n",
       "      <td>7.536556</td>\n",
       "      <td>56.671371</td>\n",
       "      <td>34.450616</td>\n",
       "      <td>76.789918</td>\n",
       "      <td>2.340241</td>\n",
       "      <td>18.470319</td>\n",
       "    </tr>\n",
       "    <tr>\n",
       "      <th>var</th>\n",
       "      <td>56.799679</td>\n",
       "      <td>3211.644321</td>\n",
       "      <td>1186.844969</td>\n",
       "      <td>5896.691519</td>\n",
       "      <td>5.476726</td>\n",
       "      <td>341.152678</td>\n",
       "    </tr>\n",
       "    <tr>\n",
       "      <th>sem</th>\n",
       "      <td>5.329150</td>\n",
       "      <td>13.744826</td>\n",
       "      <td>5.663646</td>\n",
       "      <td>34.341495</td>\n",
       "      <td>1.654800</td>\n",
       "      <td>6.981124</td>\n",
       "    </tr>\n",
       "    <tr>\n",
       "      <th>min</th>\n",
       "      <td>375.745100</td>\n",
       "      <td>386.485400</td>\n",
       "      <td>383.682400</td>\n",
       "      <td>331.638800</td>\n",
       "      <td>509.993900</td>\n",
       "      <td>396.683600</td>\n",
       "    </tr>\n",
       "    <tr>\n",
       "      <th>max</th>\n",
       "      <td>386.403400</td>\n",
       "      <td>555.574700</td>\n",
       "      <td>534.193700</td>\n",
       "      <td>527.704700</td>\n",
       "      <td>513.303500</td>\n",
       "      <td>446.956100</td>\n",
       "    </tr>\n",
       "  </tbody>\n",
       "</table>\n",
       "</div>"
      ],
      "text/plain": [
       "Continent_Code                        AF           AS           EU  \\\n",
       "internet_users_per_100 count    2.000000    17.000000    37.000000   \n",
       "                       mean    43.359918    68.455613    77.274888   \n",
       "                       std      7.297226    21.086060    12.425773   \n",
       "                       var     53.249507   444.621918   154.399841   \n",
       "                       sem      5.159918     5.114121     2.042785   \n",
       "                       min     38.200000    21.976068    53.744979   \n",
       "                       max     48.519836    92.884826    98.200000   \n",
       "Math                   count    2.000000    17.000000    37.000000   \n",
       "                       mean   363.212100   466.216647   477.981449   \n",
       "                       std      5.099513    64.356490    35.150403   \n",
       "                       var     26.005030  4141.757822  1235.550805   \n",
       "                       sem      3.605900    15.608742     5.778691   \n",
       "                       min    359.606200   380.259000   371.311400   \n",
       "                       max    366.818000   564.189700   521.250600   \n",
       "Reading                count    2.000000    17.000000    37.000000   \n",
       "                       mean   355.457400   454.059682   476.164608   \n",
       "                       std      7.916909    57.048962    37.720545   \n",
       "                       var     62.677447  3254.584049  1422.839540   \n",
       "                       sem      5.598100    13.836406     6.201219   \n",
       "                       min    349.859300   346.549000   351.741500   \n",
       "                       max    361.055500   535.100200   526.424700   \n",
       "Science                count    2.000000    17.000000    37.000000   \n",
       "                       mean   381.074250   467.945847   478.299381   \n",
       "                       std      7.536556    56.671371    34.450616   \n",
       "                       var     56.799679  3211.644321  1186.844969   \n",
       "                       sem      5.329150    13.744826     5.663646   \n",
       "                       min    375.745100   386.485400   383.682400   \n",
       "                       max    386.403400   555.574700   534.193700   \n",
       "\n",
       "Continent_Code                         NA          OC          SA  \n",
       "internet_users_per_100 count     5.000000    2.000000    7.000000  \n",
       "                       mean     66.886792   86.391704   60.180494  \n",
       "                       std      14.364359    2.589686    9.772455  \n",
       "                       var     206.334814    6.706475   95.500869  \n",
       "                       sem       6.423937    1.831185    3.693641  \n",
       "                       min      54.215766   84.560519   40.900000  \n",
       "                       max      88.470000   88.222889   69.198471  \n",
       "Math                   count     5.000000    2.000000    7.000000  \n",
       "                       mean    424.250960  494.559750  402.887700  \n",
       "                       std      71.717058    0.938401   18.128894  \n",
       "                       var    5143.336351    0.880597  328.656783  \n",
       "                       sem      32.072843    0.663550    6.852078  \n",
       "                       min     327.702000  493.896200  377.069500  \n",
       "                       max     515.647400  495.223300  422.671400  \n",
       "Reading                count     5.000000    2.000000    7.000000  \n",
       "                       mean    446.420920  506.085650  425.359229  \n",
       "                       std      66.614744    4.504341   19.709688  \n",
       "                       var    4437.524053   20.289087  388.471816  \n",
       "                       sem      29.791019    3.185050    7.449562  \n",
       "                       min     357.737700  502.900600  397.541400  \n",
       "                       max     526.667800  509.270700  458.570900  \n",
       "Science                count     5.000000    2.000000    7.000000  \n",
       "                       mean    438.180760  511.648700  421.747186  \n",
       "                       std      76.789918    2.340241   18.470319  \n",
       "                       var    5896.691519    5.476726  341.152678  \n",
       "                       sem      34.341495    1.654800    6.981124  \n",
       "                       min     331.638800  509.993900  396.683600  \n",
       "                       max     527.704700  513.303500  446.956100  "
      ]
     },
     "execution_count": 22,
     "metadata": {},
     "output_type": "execute_result"
    }
   ],
   "source": [
    "pisaTest.groupby('Continent_Code').agg(['count', 'mean', 'std', 'var', 'sem', min, max]).T"
   ]
  },
  {
   "cell_type": "code",
   "execution_count": 23,
   "id": "c1c4ff9c",
   "metadata": {},
   "outputs": [
    {
     "data": {
      "text/html": [
       "<div>\n",
       "<style scoped>\n",
       "    .dataframe tbody tr th:only-of-type {\n",
       "        vertical-align: middle;\n",
       "    }\n",
       "\n",
       "    .dataframe tbody tr th {\n",
       "        vertical-align: top;\n",
       "    }\n",
       "\n",
       "    .dataframe thead th {\n",
       "        text-align: right;\n",
       "    }\n",
       "</style>\n",
       "<table border=\"1\" class=\"dataframe\">\n",
       "  <thead>\n",
       "    <tr style=\"text-align: right;\">\n",
       "      <th></th>\n",
       "      <th></th>\n",
       "      <th>internet_users_per_100</th>\n",
       "      <th>Math</th>\n",
       "      <th>Reading</th>\n",
       "      <th>Science</th>\n",
       "    </tr>\n",
       "    <tr>\n",
       "      <th>Continent_Code</th>\n",
       "      <th></th>\n",
       "      <th></th>\n",
       "      <th></th>\n",
       "      <th></th>\n",
       "      <th></th>\n",
       "    </tr>\n",
       "  </thead>\n",
       "  <tbody>\n",
       "    <tr>\n",
       "      <th rowspan=\"3\" valign=\"top\">AF</th>\n",
       "      <th>0.25</th>\n",
       "      <td>40.779959</td>\n",
       "      <td>361.409150</td>\n",
       "      <td>352.658350</td>\n",
       "      <td>378.409675</td>\n",
       "    </tr>\n",
       "    <tr>\n",
       "      <th>0.50</th>\n",
       "      <td>43.359918</td>\n",
       "      <td>363.212100</td>\n",
       "      <td>355.457400</td>\n",
       "      <td>381.074250</td>\n",
       "    </tr>\n",
       "    <tr>\n",
       "      <th>0.75</th>\n",
       "      <td>45.939877</td>\n",
       "      <td>365.015050</td>\n",
       "      <td>358.256450</td>\n",
       "      <td>383.738825</td>\n",
       "    </tr>\n",
       "    <tr>\n",
       "      <th rowspan=\"3\" valign=\"top\">AS</th>\n",
       "      <th>0.25</th>\n",
       "      <td>50.300000</td>\n",
       "      <td>403.833200</td>\n",
       "      <td>408.102200</td>\n",
       "      <td>417.611200</td>\n",
       "    </tr>\n",
       "    <tr>\n",
       "      <th>0.50</th>\n",
       "      <td>74.000000</td>\n",
       "      <td>459.816000</td>\n",
       "      <td>433.542300</td>\n",
       "      <td>456.483600</td>\n",
       "    </tr>\n",
       "    <tr>\n",
       "      <th>0.75</th>\n",
       "      <td>84.948353</td>\n",
       "      <td>531.296100</td>\n",
       "      <td>508.690500</td>\n",
       "      <td>523.277400</td>\n",
       "    </tr>\n",
       "    <tr>\n",
       "      <th rowspan=\"3\" valign=\"top\">EU</th>\n",
       "      <th>0.25</th>\n",
       "      <td>68.632900</td>\n",
       "      <td>464.040100</td>\n",
       "      <td>452.514300</td>\n",
       "      <td>460.774900</td>\n",
       "    </tr>\n",
       "    <tr>\n",
       "      <th>0.50</th>\n",
       "      <td>76.184000</td>\n",
       "      <td>489.728700</td>\n",
       "      <td>487.250100</td>\n",
       "      <td>490.225000</td>\n",
       "    </tr>\n",
       "    <tr>\n",
       "      <th>0.75</th>\n",
       "      <td>87.479056</td>\n",
       "      <td>503.722000</td>\n",
       "      <td>499.814600</td>\n",
       "      <td>501.936900</td>\n",
       "    </tr>\n",
       "    <tr>\n",
       "      <th rowspan=\"3\" valign=\"top\">NA</th>\n",
       "      <th>0.25</th>\n",
       "      <td>57.431043</td>\n",
       "      <td>400.253400</td>\n",
       "      <td>423.276500</td>\n",
       "      <td>415.709900</td>\n",
       "    </tr>\n",
       "    <tr>\n",
       "      <th>0.50</th>\n",
       "      <td>59.762950</td>\n",
       "      <td>408.023500</td>\n",
       "      <td>427.487500</td>\n",
       "      <td>419.608000</td>\n",
       "    </tr>\n",
       "    <tr>\n",
       "      <th>0.75</th>\n",
       "      <td>74.554202</td>\n",
       "      <td>469.628500</td>\n",
       "      <td>496.935100</td>\n",
       "      <td>496.242400</td>\n",
       "    </tr>\n",
       "    <tr>\n",
       "      <th rowspan=\"3\" valign=\"top\">OC</th>\n",
       "      <th>0.25</th>\n",
       "      <td>85.476112</td>\n",
       "      <td>494.227975</td>\n",
       "      <td>504.493125</td>\n",
       "      <td>510.821300</td>\n",
       "    </tr>\n",
       "    <tr>\n",
       "      <th>0.50</th>\n",
       "      <td>86.391704</td>\n",
       "      <td>494.559750</td>\n",
       "      <td>506.085650</td>\n",
       "      <td>511.648700</td>\n",
       "    </tr>\n",
       "    <tr>\n",
       "      <th>0.75</th>\n",
       "      <td>87.307296</td>\n",
       "      <td>494.891525</td>\n",
       "      <td>507.678175</td>\n",
       "      <td>512.476100</td>\n",
       "    </tr>\n",
       "    <tr>\n",
       "      <th rowspan=\"3\" valign=\"top\">SA</th>\n",
       "      <th>0.25</th>\n",
       "      <td>57.116462</td>\n",
       "      <td>388.102200</td>\n",
       "      <td>416.126900</td>\n",
       "      <td>408.205450</td>\n",
       "    </tr>\n",
       "    <tr>\n",
       "      <th>0.50</th>\n",
       "      <td>64.289000</td>\n",
       "      <td>409.033300</td>\n",
       "      <td>425.303100</td>\n",
       "      <td>424.590500</td>\n",
       "    </tr>\n",
       "    <tr>\n",
       "      <th>0.75</th>\n",
       "      <td>66.321532</td>\n",
       "      <td>417.617650</td>\n",
       "      <td>431.922700</td>\n",
       "      <td>433.794600</td>\n",
       "    </tr>\n",
       "  </tbody>\n",
       "</table>\n",
       "</div>"
      ],
      "text/plain": [
       "                     internet_users_per_100        Math     Reading  \\\n",
       "Continent_Code                                                        \n",
       "AF             0.25               40.779959  361.409150  352.658350   \n",
       "               0.50               43.359918  363.212100  355.457400   \n",
       "               0.75               45.939877  365.015050  358.256450   \n",
       "AS             0.25               50.300000  403.833200  408.102200   \n",
       "               0.50               74.000000  459.816000  433.542300   \n",
       "               0.75               84.948353  531.296100  508.690500   \n",
       "EU             0.25               68.632900  464.040100  452.514300   \n",
       "               0.50               76.184000  489.728700  487.250100   \n",
       "               0.75               87.479056  503.722000  499.814600   \n",
       "NA             0.25               57.431043  400.253400  423.276500   \n",
       "               0.50               59.762950  408.023500  427.487500   \n",
       "               0.75               74.554202  469.628500  496.935100   \n",
       "OC             0.25               85.476112  494.227975  504.493125   \n",
       "               0.50               86.391704  494.559750  506.085650   \n",
       "               0.75               87.307296  494.891525  507.678175   \n",
       "SA             0.25               57.116462  388.102200  416.126900   \n",
       "               0.50               64.289000  409.033300  425.303100   \n",
       "               0.75               66.321532  417.617650  431.922700   \n",
       "\n",
       "                        Science  \n",
       "Continent_Code                   \n",
       "AF             0.25  378.409675  \n",
       "               0.50  381.074250  \n",
       "               0.75  383.738825  \n",
       "AS             0.25  417.611200  \n",
       "               0.50  456.483600  \n",
       "               0.75  523.277400  \n",
       "EU             0.25  460.774900  \n",
       "               0.50  490.225000  \n",
       "               0.75  501.936900  \n",
       "NA             0.25  415.709900  \n",
       "               0.50  419.608000  \n",
       "               0.75  496.242400  \n",
       "OC             0.25  510.821300  \n",
       "               0.50  511.648700  \n",
       "               0.75  512.476100  \n",
       "SA             0.25  408.205450  \n",
       "               0.50  424.590500  \n",
       "               0.75  433.794600  "
      ]
     },
     "execution_count": 23,
     "metadata": {},
     "output_type": "execute_result"
    }
   ],
   "source": [
    "pisaTest.groupby('Continent_Code').quantile([.25, .5, .75])"
   ]
  },
  {
   "cell_type": "code",
   "execution_count": 24,
   "id": "c557d7ae",
   "metadata": {},
   "outputs": [
    {
     "data": {
      "text/html": [
       "<div>\n",
       "<style scoped>\n",
       "    .dataframe tbody tr th:only-of-type {\n",
       "        vertical-align: middle;\n",
       "    }\n",
       "\n",
       "    .dataframe tbody tr th {\n",
       "        vertical-align: top;\n",
       "    }\n",
       "\n",
       "    .dataframe thead th {\n",
       "        text-align: right;\n",
       "    }\n",
       "</style>\n",
       "<table border=\"1\" class=\"dataframe\">\n",
       "  <thead>\n",
       "    <tr style=\"text-align: right;\">\n",
       "      <th></th>\n",
       "      <th></th>\n",
       "      <th>internet_users_per_100</th>\n",
       "      <th>Math</th>\n",
       "      <th>Reading</th>\n",
       "      <th>Science</th>\n",
       "    </tr>\n",
       "    <tr>\n",
       "      <th>Continent_Code</th>\n",
       "      <th></th>\n",
       "      <th></th>\n",
       "      <th></th>\n",
       "      <th></th>\n",
       "      <th></th>\n",
       "    </tr>\n",
       "  </thead>\n",
       "  <tbody>\n",
       "    <tr>\n",
       "      <th rowspan=\"4\" valign=\"top\">AF</th>\n",
       "      <th>internet_users_per_100</th>\n",
       "      <td>1.000000</td>\n",
       "      <td>1.000000</td>\n",
       "      <td>1.000000</td>\n",
       "      <td>1.000000</td>\n",
       "    </tr>\n",
       "    <tr>\n",
       "      <th>Math</th>\n",
       "      <td>1.000000</td>\n",
       "      <td>1.000000</td>\n",
       "      <td>1.000000</td>\n",
       "      <td>1.000000</td>\n",
       "    </tr>\n",
       "    <tr>\n",
       "      <th>Reading</th>\n",
       "      <td>1.000000</td>\n",
       "      <td>1.000000</td>\n",
       "      <td>1.000000</td>\n",
       "      <td>1.000000</td>\n",
       "    </tr>\n",
       "    <tr>\n",
       "      <th>Science</th>\n",
       "      <td>1.000000</td>\n",
       "      <td>1.000000</td>\n",
       "      <td>1.000000</td>\n",
       "      <td>1.000000</td>\n",
       "    </tr>\n",
       "    <tr>\n",
       "      <th rowspan=\"4\" valign=\"top\">AS</th>\n",
       "      <th>internet_users_per_100</th>\n",
       "      <td>1.000000</td>\n",
       "      <td>0.382206</td>\n",
       "      <td>0.358864</td>\n",
       "      <td>0.326062</td>\n",
       "    </tr>\n",
       "    <tr>\n",
       "      <th>Math</th>\n",
       "      <td>0.382206</td>\n",
       "      <td>1.000000</td>\n",
       "      <td>0.950766</td>\n",
       "      <td>0.976521</td>\n",
       "    </tr>\n",
       "    <tr>\n",
       "      <th>Reading</th>\n",
       "      <td>0.358864</td>\n",
       "      <td>0.950766</td>\n",
       "      <td>1.000000</td>\n",
       "      <td>0.967582</td>\n",
       "    </tr>\n",
       "    <tr>\n",
       "      <th>Science</th>\n",
       "      <td>0.326062</td>\n",
       "      <td>0.976521</td>\n",
       "      <td>0.967582</td>\n",
       "      <td>1.000000</td>\n",
       "    </tr>\n",
       "    <tr>\n",
       "      <th rowspan=\"4\" valign=\"top\">EU</th>\n",
       "      <th>internet_users_per_100</th>\n",
       "      <td>1.000000</td>\n",
       "      <td>0.640105</td>\n",
       "      <td>0.591298</td>\n",
       "      <td>0.621850</td>\n",
       "    </tr>\n",
       "    <tr>\n",
       "      <th>Math</th>\n",
       "      <td>0.640105</td>\n",
       "      <td>1.000000</td>\n",
       "      <td>0.946071</td>\n",
       "      <td>0.965628</td>\n",
       "    </tr>\n",
       "    <tr>\n",
       "      <th>Reading</th>\n",
       "      <td>0.591298</td>\n",
       "      <td>0.946071</td>\n",
       "      <td>1.000000</td>\n",
       "      <td>0.957500</td>\n",
       "    </tr>\n",
       "    <tr>\n",
       "      <th>Science</th>\n",
       "      <td>0.621850</td>\n",
       "      <td>0.965628</td>\n",
       "      <td>0.957500</td>\n",
       "      <td>1.000000</td>\n",
       "    </tr>\n",
       "    <tr>\n",
       "      <th rowspan=\"4\" valign=\"top\">NA</th>\n",
       "      <th>internet_users_per_100</th>\n",
       "      <td>1.000000</td>\n",
       "      <td>0.938760</td>\n",
       "      <td>0.939705</td>\n",
       "      <td>0.922947</td>\n",
       "    </tr>\n",
       "    <tr>\n",
       "      <th>Math</th>\n",
       "      <td>0.938760</td>\n",
       "      <td>1.000000</td>\n",
       "      <td>0.995240</td>\n",
       "      <td>0.994786</td>\n",
       "    </tr>\n",
       "    <tr>\n",
       "      <th>Reading</th>\n",
       "      <td>0.939705</td>\n",
       "      <td>0.995240</td>\n",
       "      <td>1.000000</td>\n",
       "      <td>0.998817</td>\n",
       "    </tr>\n",
       "    <tr>\n",
       "      <th>Science</th>\n",
       "      <td>0.922947</td>\n",
       "      <td>0.994786</td>\n",
       "      <td>0.998817</td>\n",
       "      <td>1.000000</td>\n",
       "    </tr>\n",
       "    <tr>\n",
       "      <th rowspan=\"4\" valign=\"top\">OC</th>\n",
       "      <th>internet_users_per_100</th>\n",
       "      <td>1.000000</td>\n",
       "      <td>1.000000</td>\n",
       "      <td>1.000000</td>\n",
       "      <td>1.000000</td>\n",
       "    </tr>\n",
       "    <tr>\n",
       "      <th>Math</th>\n",
       "      <td>1.000000</td>\n",
       "      <td>1.000000</td>\n",
       "      <td>1.000000</td>\n",
       "      <td>1.000000</td>\n",
       "    </tr>\n",
       "    <tr>\n",
       "      <th>Reading</th>\n",
       "      <td>1.000000</td>\n",
       "      <td>1.000000</td>\n",
       "      <td>1.000000</td>\n",
       "      <td>1.000000</td>\n",
       "    </tr>\n",
       "    <tr>\n",
       "      <th>Science</th>\n",
       "      <td>1.000000</td>\n",
       "      <td>1.000000</td>\n",
       "      <td>1.000000</td>\n",
       "      <td>1.000000</td>\n",
       "    </tr>\n",
       "    <tr>\n",
       "      <th rowspan=\"4\" valign=\"top\">SA</th>\n",
       "      <th>internet_users_per_100</th>\n",
       "      <td>1.000000</td>\n",
       "      <td>0.700917</td>\n",
       "      <td>0.670150</td>\n",
       "      <td>0.756945</td>\n",
       "    </tr>\n",
       "    <tr>\n",
       "      <th>Math</th>\n",
       "      <td>0.700917</td>\n",
       "      <td>1.000000</td>\n",
       "      <td>0.829681</td>\n",
       "      <td>0.917029</td>\n",
       "    </tr>\n",
       "    <tr>\n",
       "      <th>Reading</th>\n",
       "      <td>0.670150</td>\n",
       "      <td>0.829681</td>\n",
       "      <td>1.000000</td>\n",
       "      <td>0.949564</td>\n",
       "    </tr>\n",
       "    <tr>\n",
       "      <th>Science</th>\n",
       "      <td>0.756945</td>\n",
       "      <td>0.917029</td>\n",
       "      <td>0.949564</td>\n",
       "      <td>1.000000</td>\n",
       "    </tr>\n",
       "  </tbody>\n",
       "</table>\n",
       "</div>"
      ],
      "text/plain": [
       "                                       internet_users_per_100      Math  \\\n",
       "Continent_Code                                                            \n",
       "AF             internet_users_per_100                1.000000  1.000000   \n",
       "               Math                                  1.000000  1.000000   \n",
       "               Reading                               1.000000  1.000000   \n",
       "               Science                               1.000000  1.000000   \n",
       "AS             internet_users_per_100                1.000000  0.382206   \n",
       "               Math                                  0.382206  1.000000   \n",
       "               Reading                               0.358864  0.950766   \n",
       "               Science                               0.326062  0.976521   \n",
       "EU             internet_users_per_100                1.000000  0.640105   \n",
       "               Math                                  0.640105  1.000000   \n",
       "               Reading                               0.591298  0.946071   \n",
       "               Science                               0.621850  0.965628   \n",
       "NA             internet_users_per_100                1.000000  0.938760   \n",
       "               Math                                  0.938760  1.000000   \n",
       "               Reading                               0.939705  0.995240   \n",
       "               Science                               0.922947  0.994786   \n",
       "OC             internet_users_per_100                1.000000  1.000000   \n",
       "               Math                                  1.000000  1.000000   \n",
       "               Reading                               1.000000  1.000000   \n",
       "               Science                               1.000000  1.000000   \n",
       "SA             internet_users_per_100                1.000000  0.700917   \n",
       "               Math                                  0.700917  1.000000   \n",
       "               Reading                               0.670150  0.829681   \n",
       "               Science                               0.756945  0.917029   \n",
       "\n",
       "                                        Reading   Science  \n",
       "Continent_Code                                             \n",
       "AF             internet_users_per_100  1.000000  1.000000  \n",
       "               Math                    1.000000  1.000000  \n",
       "               Reading                 1.000000  1.000000  \n",
       "               Science                 1.000000  1.000000  \n",
       "AS             internet_users_per_100  0.358864  0.326062  \n",
       "               Math                    0.950766  0.976521  \n",
       "               Reading                 1.000000  0.967582  \n",
       "               Science                 0.967582  1.000000  \n",
       "EU             internet_users_per_100  0.591298  0.621850  \n",
       "               Math                    0.946071  0.965628  \n",
       "               Reading                 1.000000  0.957500  \n",
       "               Science                 0.957500  1.000000  \n",
       "NA             internet_users_per_100  0.939705  0.922947  \n",
       "               Math                    0.995240  0.994786  \n",
       "               Reading                 1.000000  0.998817  \n",
       "               Science                 0.998817  1.000000  \n",
       "OC             internet_users_per_100  1.000000  1.000000  \n",
       "               Math                    1.000000  1.000000  \n",
       "               Reading                 1.000000  1.000000  \n",
       "               Science                 1.000000  1.000000  \n",
       "SA             internet_users_per_100  0.670150  0.756945  \n",
       "               Math                    0.829681  0.917029  \n",
       "               Reading                 1.000000  0.949564  \n",
       "               Science                 0.949564  1.000000  "
      ]
     },
     "execution_count": 24,
     "metadata": {},
     "output_type": "execute_result"
    }
   ],
   "source": [
    "pisaTest.groupby('Continent_Code').corr()"
   ]
  },
  {
   "cell_type": "markdown",
   "id": "0fb7536c",
   "metadata": {},
   "source": [
    "***"
   ]
  },
  {
   "cell_type": "code",
   "execution_count": 25,
   "id": "d7bbc0cb",
   "metadata": {},
   "outputs": [
    {
     "data": {
      "text/plain": [
       "internet_users_per_100   -0.597903\n",
       "Math                     -0.383761\n",
       "Reading                  -0.604482\n",
       "Science                  -0.392631\n",
       "dtype: float64"
      ]
     },
     "execution_count": 25,
     "metadata": {},
     "output_type": "execute_result"
    }
   ],
   "source": [
    "pisaTest.skew(numeric_only=True)"
   ]
  },
  {
   "cell_type": "code",
   "execution_count": 26,
   "id": "299db7f7",
   "metadata": {},
   "outputs": [
    {
     "data": {
      "text/html": [
       "<div>\n",
       "<style scoped>\n",
       "    .dataframe tbody tr th:only-of-type {\n",
       "        vertical-align: middle;\n",
       "    }\n",
       "\n",
       "    .dataframe tbody tr th {\n",
       "        vertical-align: top;\n",
       "    }\n",
       "\n",
       "    .dataframe thead th {\n",
       "        text-align: right;\n",
       "    }\n",
       "</style>\n",
       "<table border=\"1\" class=\"dataframe\">\n",
       "  <thead>\n",
       "    <tr style=\"text-align: right;\">\n",
       "      <th></th>\n",
       "      <th>internet_users_per_100</th>\n",
       "      <th>Math</th>\n",
       "      <th>Reading</th>\n",
       "      <th>Science</th>\n",
       "    </tr>\n",
       "    <tr>\n",
       "      <th>Continent_Code</th>\n",
       "      <th></th>\n",
       "      <th></th>\n",
       "      <th></th>\n",
       "      <th></th>\n",
       "    </tr>\n",
       "  </thead>\n",
       "  <tbody>\n",
       "    <tr>\n",
       "      <th>AF</th>\n",
       "      <td>NaN</td>\n",
       "      <td>NaN</td>\n",
       "      <td>NaN</td>\n",
       "      <td>NaN</td>\n",
       "    </tr>\n",
       "    <tr>\n",
       "      <th>AS</th>\n",
       "      <td>-0.775229</td>\n",
       "      <td>0.144656</td>\n",
       "      <td>-0.099169</td>\n",
       "      <td>0.135810</td>\n",
       "    </tr>\n",
       "    <tr>\n",
       "      <th>EU</th>\n",
       "      <td>-0.049351</td>\n",
       "      <td>-1.245494</td>\n",
       "      <td>-1.325443</td>\n",
       "      <td>-0.881399</td>\n",
       "    </tr>\n",
       "    <tr>\n",
       "      <th>NA</th>\n",
       "      <td>1.021132</td>\n",
       "      <td>-0.069123</td>\n",
       "      <td>-0.100080</td>\n",
       "      <td>-0.288850</td>\n",
       "    </tr>\n",
       "    <tr>\n",
       "      <th>OC</th>\n",
       "      <td>NaN</td>\n",
       "      <td>NaN</td>\n",
       "      <td>NaN</td>\n",
       "      <td>NaN</td>\n",
       "    </tr>\n",
       "    <tr>\n",
       "      <th>SA</th>\n",
       "      <td>-1.469258</td>\n",
       "      <td>-0.372256</td>\n",
       "      <td>0.325499</td>\n",
       "      <td>-0.207071</td>\n",
       "    </tr>\n",
       "  </tbody>\n",
       "</table>\n",
       "</div>"
      ],
      "text/plain": [
       "                internet_users_per_100      Math   Reading   Science\n",
       "Continent_Code                                                      \n",
       "AF                                 NaN       NaN       NaN       NaN\n",
       "AS                           -0.775229  0.144656 -0.099169  0.135810\n",
       "EU                           -0.049351 -1.245494 -1.325443 -0.881399\n",
       "NA                            1.021132 -0.069123 -0.100080 -0.288850\n",
       "OC                                 NaN       NaN       NaN       NaN\n",
       "SA                           -1.469258 -0.372256  0.325499 -0.207071"
      ]
     },
     "execution_count": 26,
     "metadata": {},
     "output_type": "execute_result"
    }
   ],
   "source": [
    "pisaTest.groupby('Continent_Code').skew(numeric_only=True)"
   ]
  },
  {
   "cell_type": "code",
   "execution_count": 27,
   "id": "3176145d",
   "metadata": {},
   "outputs": [
    {
     "data": {
      "text/plain": [
       "internet_users_per_100    0.117203\n",
       "Math                     -0.753192\n",
       "Reading                  -0.559449\n",
       "Science                  -0.609420\n",
       "dtype: float64"
      ]
     },
     "execution_count": 27,
     "metadata": {},
     "output_type": "execute_result"
    }
   ],
   "source": [
    "pisaTest.kurtosis(numeric_only=True)"
   ]
  },
  {
   "cell_type": "code",
   "execution_count": 28,
   "id": "abbcddc2",
   "metadata": {},
   "outputs": [
    {
     "data": {
      "text/html": [
       "<div>\n",
       "<style scoped>\n",
       "    .dataframe tbody tr th:only-of-type {\n",
       "        vertical-align: middle;\n",
       "    }\n",
       "\n",
       "    .dataframe tbody tr th {\n",
       "        vertical-align: top;\n",
       "    }\n",
       "\n",
       "    .dataframe thead th {\n",
       "        text-align: right;\n",
       "    }\n",
       "</style>\n",
       "<table border=\"1\" class=\"dataframe\">\n",
       "  <thead>\n",
       "    <tr style=\"text-align: right;\">\n",
       "      <th></th>\n",
       "      <th>internet_users_per_100</th>\n",
       "      <th>Math</th>\n",
       "      <th>Reading</th>\n",
       "      <th>Science</th>\n",
       "    </tr>\n",
       "    <tr>\n",
       "      <th>Continent_Code</th>\n",
       "      <th></th>\n",
       "      <th></th>\n",
       "      <th></th>\n",
       "      <th></th>\n",
       "    </tr>\n",
       "  </thead>\n",
       "  <tbody>\n",
       "    <tr>\n",
       "      <th>AF</th>\n",
       "      <td>NaN</td>\n",
       "      <td>NaN</td>\n",
       "      <td>NaN</td>\n",
       "      <td>NaN</td>\n",
       "    </tr>\n",
       "    <tr>\n",
       "      <th>AS</th>\n",
       "      <td>-0.323744</td>\n",
       "      <td>-1.626302</td>\n",
       "      <td>-1.220215</td>\n",
       "      <td>-1.668903</td>\n",
       "    </tr>\n",
       "    <tr>\n",
       "      <th>EU</th>\n",
       "      <td>-0.845386</td>\n",
       "      <td>1.104173</td>\n",
       "      <td>1.909195</td>\n",
       "      <td>0.336346</td>\n",
       "    </tr>\n",
       "    <tr>\n",
       "      <th>NA</th>\n",
       "      <td>-0.460021</td>\n",
       "      <td>-0.377645</td>\n",
       "      <td>-1.001579</td>\n",
       "      <td>-0.636785</td>\n",
       "    </tr>\n",
       "    <tr>\n",
       "      <th>OC</th>\n",
       "      <td>NaN</td>\n",
       "      <td>NaN</td>\n",
       "      <td>NaN</td>\n",
       "      <td>NaN</td>\n",
       "    </tr>\n",
       "    <tr>\n",
       "      <th>SA</th>\n",
       "      <td>2.256484</td>\n",
       "      <td>-1.964049</td>\n",
       "      <td>0.588333</td>\n",
       "      <td>-1.217229</td>\n",
       "    </tr>\n",
       "  </tbody>\n",
       "</table>\n",
       "</div>"
      ],
      "text/plain": [
       "                internet_users_per_100      Math   Reading   Science\n",
       "Continent_Code                                                      \n",
       "AF                                 NaN       NaN       NaN       NaN\n",
       "AS                           -0.323744 -1.626302 -1.220215 -1.668903\n",
       "EU                           -0.845386  1.104173  1.909195  0.336346\n",
       "NA                           -0.460021 -0.377645 -1.001579 -0.636785\n",
       "OC                                 NaN       NaN       NaN       NaN\n",
       "SA                            2.256484 -1.964049  0.588333 -1.217229"
      ]
     },
     "execution_count": 28,
     "metadata": {},
     "output_type": "execute_result"
    }
   ],
   "source": [
    "pisaTest.groupby('Continent_Code').apply(pd.DataFrame.kurt)"
   ]
  },
  {
   "cell_type": "code",
   "execution_count": 29,
   "id": "0b764a8e",
   "metadata": {},
   "outputs": [
    {
     "data": {
      "image/png": "[encoded data removed]",
      "text/plain": [
       "<Figure size 1152x864 with 4 Axes>"
      ]
     },
     "metadata": {
      "needs_background": "light"
     },
     "output_type": "display_data"
    }
   ],
   "source": [
    "fig, ax = plt.subplots(2,2, figsize=(16,12))\n",
    "\n",
    "sns.histplot(pisaTest, x=\"internet_users_per_100\", hue=\"Continent_Code\", ax=ax[0,0])\n",
    "sns.histplot(pisaTest, x=\"Math\", hue=\"Continent_Code\", ax=ax[0,1])\n",
    "sns.histplot(pisaTest, x=\"Reading\", hue=\"Continent_Code\", ax=ax[1,0])\n",
    "sns.histplot(pisaTest, x=\"Science\", hue=\"Continent_Code\", ax=ax[1,1]);"
   ]
  },
  {
   "cell_type": "markdown",
   "id": "351fe8ed",
   "metadata": {},
   "source": [
    "***"
   ]
  },
  {
   "cell_type": "markdown",
   "id": "47c47741",
   "metadata": {},
   "source": [
    "#### 2. Determine whether there is any difference (on the average) for the math scores among European (EU) and Asian (AS) countries (assume normality and equal variances). Draw side-by-side box plots."
   ]
  },
  {
   "cell_type": "code",
   "execution_count": 30,
   "id": "4e5bf0e7",
   "metadata": {},
   "outputs": [
    {
     "data": {
      "text/plain": [
       "Continent_Code\n",
       "AF     2\n",
       "AS    17\n",
       "EU    37\n",
       "NA     5\n",
       "OC     2\n",
       "SA     7\n",
       "dtype: int64"
      ]
     },
     "execution_count": 30,
     "metadata": {},
     "output_type": "execute_result"
    }
   ],
   "source": [
    "pisaTest.groupby('Continent_Code').size()"
   ]
  },
  {
   "cell_type": "code",
   "execution_count": 31,
   "id": "807960e4",
   "metadata": {},
   "outputs": [],
   "source": [
    "sample1 = pisaTest[pisaTest['Continent_Code'] == 'EU']['Math']\n",
    "sample2 = pisaTest[pisaTest['Continent_Code'] == 'AS']['Math']"
   ]
  },
  {
   "cell_type": "code",
   "execution_count": 32,
   "id": "fdcc1220",
   "metadata": {},
   "outputs": [],
   "source": [
    "# H0: mu1 = mu2\n",
    "# H1: mu1 != mu2"
   ]
  },
  {
   "cell_type": "code",
   "execution_count": 33,
   "id": "55d76c93",
   "metadata": {},
   "outputs": [],
   "source": [
    "IndTest = stats.ttest_ind(sample1, sample2, equal_var=True)"
   ]
  },
  {
   "cell_type": "code",
   "execution_count": 34,
   "id": "a4f17684",
   "metadata": {},
   "outputs": [
    {
     "data": {
      "text/plain": [
       "Ttest_indResult(statistic=0.8700553179679787, pvalue=0.38826888111307556)"
      ]
     },
     "execution_count": 34,
     "metadata": {},
     "output_type": "execute_result"
    }
   ],
   "source": [
    "IndTest"
   ]
  },
  {
   "cell_type": "code",
   "execution_count": 35,
   "id": "b0346dfd",
   "metadata": {},
   "outputs": [
    {
     "data": {
      "text/plain": [
       "Ttest_indResult(statistic=0.8700553179679787, pvalue=0.38826888111307556)"
      ]
     },
     "execution_count": 35,
     "metadata": {},
     "output_type": "execute_result"
    }
   ],
   "source": [
    "# solution-2\n",
    "\n",
    "IndTest2 = stats.ttest_ind_from_stats(mean1=sample1.mean(), std1=sample1.std(), nobs1=sample1.count(), \n",
    "                                      mean2=sample2.mean(), std2=sample2.std(), nobs2=sample2.count(), \n",
    "                                      equal_var=True)\n",
    "IndTest2"
   ]
  },
  {
   "cell_type": "code",
   "execution_count": 36,
   "id": "748af5ea",
   "metadata": {},
   "outputs": [
    {
     "name": "stdout",
     "output_type": "stream",
     "text": [
      "Fail to Reject The Null\n"
     ]
    }
   ],
   "source": [
    "# DECISION\n",
    "\n",
    "alpha = 0.05\n",
    "\n",
    "if IndTest.pvalue < alpha:\n",
    "    print('Reject The Null')\n",
    "else:\n",
    "    print('Fail to Reject The Null')"
   ]
  },
  {
   "cell_type": "code",
   "execution_count": 37,
   "id": "d49e0a94",
   "metadata": {},
   "outputs": [
    {
     "data": {
      "image/png": "[encoded data removed]",
      "text/plain": [
       "<Figure size 432x288 with 1 Axes>"
      ]
     },
     "metadata": {
      "needs_background": "light"
     },
     "output_type": "display_data"
    }
   ],
   "source": [
    "plt.boxplot([sample1, sample2], vert=False, labels=['EU', 'AS'])\n",
    "\n",
    "plt.grid();"
   ]
  },
  {
   "cell_type": "markdown",
   "id": "d8643534",
   "metadata": {},
   "source": [
    "***"
   ]
  },
  {
   "cell_type": "markdown",
   "id": "9da75f15",
   "metadata": {},
   "source": [
    "<div class=\"alert alert-block alert-danger\">\n",
    "    \n",
    "<b>EXERCISE 4.</b> The sample dataset has placement test scores (out of 100 points) for four subject areas: English, Reading, Math, and Writing. Students in the sample completed all 4 placement tests when they enrolled in the university. Suppose we are particularly interested in the English and Math sections, and want to determine whether students tended to score higher on their English or Math test, on average. We could use a paired t test to test if there was a significant difference in the average of the two tests.\n",
    "    \n",
    "</div>"
   ]
  },
  {
   "cell_type": "code",
   "execution_count": 38,
   "id": "fd7e335f",
   "metadata": {},
   "outputs": [],
   "source": [
    "students = pd.read_excel(\"students_2014.xlsx\")"
   ]
  },
  {
   "cell_type": "code",
   "execution_count": 39,
   "id": "8dcd39ae",
   "metadata": {},
   "outputs": [
    {
     "data": {
      "text/html": [
       "<div>\n",
       "<style scoped>\n",
       "    .dataframe tbody tr th:only-of-type {\n",
       "        vertical-align: middle;\n",
       "    }\n",
       "\n",
       "    .dataframe tbody tr th {\n",
       "        vertical-align: top;\n",
       "    }\n",
       "\n",
       "    .dataframe thead th {\n",
       "        text-align: right;\n",
       "    }\n",
       "</style>\n",
       "<table border=\"1\" class=\"dataframe\">\n",
       "  <thead>\n",
       "    <tr style=\"text-align: right;\">\n",
       "      <th></th>\n",
       "      <th>ids</th>\n",
       "      <th>bday</th>\n",
       "      <th>enrolldate</th>\n",
       "      <th>expgradate</th>\n",
       "      <th>Rank</th>\n",
       "      <th>Major</th>\n",
       "      <th>Gender</th>\n",
       "      <th>Athlete</th>\n",
       "      <th>Height</th>\n",
       "      <th>Weight</th>\n",
       "      <th>...</th>\n",
       "      <th>English</th>\n",
       "      <th>Reading</th>\n",
       "      <th>Math</th>\n",
       "      <th>Writing</th>\n",
       "      <th>State</th>\n",
       "      <th>LiveOnCampus</th>\n",
       "      <th>HowCommute</th>\n",
       "      <th>CommuteTime</th>\n",
       "      <th>SleepTime</th>\n",
       "      <th>StudyTime</th>\n",
       "    </tr>\n",
       "  </thead>\n",
       "  <tbody>\n",
       "    <tr>\n",
       "      <th>0</th>\n",
       "      <td>43783.0</td>\n",
       "      <td>1995-03-22</td>\n",
       "      <td>NaT</td>\n",
       "      <td>NaT</td>\n",
       "      <td>NaN</td>\n",
       "      <td>NaN</td>\n",
       "      <td>0.0</td>\n",
       "      <td>0.0</td>\n",
       "      <td>72.35</td>\n",
       "      <td>NaN</td>\n",
       "      <td>...</td>\n",
       "      <td>88.24</td>\n",
       "      <td>81.50</td>\n",
       "      <td>60.02</td>\n",
       "      <td>81.44</td>\n",
       "      <td>In state</td>\n",
       "      <td>1.0</td>\n",
       "      <td>NaN</td>\n",
       "      <td>NaN</td>\n",
       "      <td>7.0</td>\n",
       "      <td>1.0</td>\n",
       "    </tr>\n",
       "    <tr>\n",
       "      <th>1</th>\n",
       "      <td>20278.0</td>\n",
       "      <td>1995-01-01</td>\n",
       "      <td>NaT</td>\n",
       "      <td>NaT</td>\n",
       "      <td>NaN</td>\n",
       "      <td>Philosophy</td>\n",
       "      <td>0.0</td>\n",
       "      <td>0.0</td>\n",
       "      <td>70.66</td>\n",
       "      <td>179.20</td>\n",
       "      <td>...</td>\n",
       "      <td>89.45</td>\n",
       "      <td>85.25</td>\n",
       "      <td>70.19</td>\n",
       "      <td>73.27</td>\n",
       "      <td>NaN</td>\n",
       "      <td>1.0</td>\n",
       "      <td>NaN</td>\n",
       "      <td>NaN</td>\n",
       "      <td>5.0</td>\n",
       "      <td>2.0</td>\n",
       "    </tr>\n",
       "    <tr>\n",
       "      <th>2</th>\n",
       "      <td>20389.0</td>\n",
       "      <td>1994-12-31</td>\n",
       "      <td>NaT</td>\n",
       "      <td>NaT</td>\n",
       "      <td>NaN</td>\n",
       "      <td>NaN</td>\n",
       "      <td>0.0</td>\n",
       "      <td>0.0</td>\n",
       "      <td>70.68</td>\n",
       "      <td>198.52</td>\n",
       "      <td>...</td>\n",
       "      <td>96.73</td>\n",
       "      <td>86.88</td>\n",
       "      <td>71.20</td>\n",
       "      <td>84.24</td>\n",
       "      <td>In state</td>\n",
       "      <td>NaN</td>\n",
       "      <td>NaN</td>\n",
       "      <td>NaN</td>\n",
       "      <td>8.0</td>\n",
       "      <td>7.0</td>\n",
       "    </tr>\n",
       "    <tr>\n",
       "      <th>3</th>\n",
       "      <td>22820.0</td>\n",
       "      <td>1994-12-01</td>\n",
       "      <td>NaT</td>\n",
       "      <td>NaT</td>\n",
       "      <td>NaN</td>\n",
       "      <td>business administration</td>\n",
       "      <td>1.0</td>\n",
       "      <td>0.0</td>\n",
       "      <td>NaN</td>\n",
       "      <td>198.34</td>\n",
       "      <td>...</td>\n",
       "      <td>74.06</td>\n",
       "      <td>88.68</td>\n",
       "      <td>55.89</td>\n",
       "      <td>73.16</td>\n",
       "      <td>In state</td>\n",
       "      <td>1.0</td>\n",
       "      <td>NaN</td>\n",
       "      <td>NaN</td>\n",
       "      <td>2.0</td>\n",
       "      <td>6.0</td>\n",
       "    </tr>\n",
       "    <tr>\n",
       "      <th>4</th>\n",
       "      <td>24559.0</td>\n",
       "      <td>1994-11-10</td>\n",
       "      <td>NaT</td>\n",
       "      <td>NaT</td>\n",
       "      <td>NaN</td>\n",
       "      <td>NaN</td>\n",
       "      <td>1.0</td>\n",
       "      <td>1.0</td>\n",
       "      <td>67.43</td>\n",
       "      <td>128.17</td>\n",
       "      <td>...</td>\n",
       "      <td>82.61</td>\n",
       "      <td>77.30</td>\n",
       "      <td>65.52</td>\n",
       "      <td>80.45</td>\n",
       "      <td>Out of state</td>\n",
       "      <td>1.0</td>\n",
       "      <td>NaN</td>\n",
       "      <td>NaN</td>\n",
       "      <td>7.0</td>\n",
       "      <td>3.0</td>\n",
       "    </tr>\n",
       "    <tr>\n",
       "      <th>...</th>\n",
       "      <td>...</td>\n",
       "      <td>...</td>\n",
       "      <td>...</td>\n",
       "      <td>...</td>\n",
       "      <td>...</td>\n",
       "      <td>...</td>\n",
       "      <td>...</td>\n",
       "      <td>...</td>\n",
       "      <td>...</td>\n",
       "      <td>...</td>\n",
       "      <td>...</td>\n",
       "      <td>...</td>\n",
       "      <td>...</td>\n",
       "      <td>...</td>\n",
       "      <td>...</td>\n",
       "      <td>...</td>\n",
       "      <td>...</td>\n",
       "      <td>...</td>\n",
       "      <td>...</td>\n",
       "      <td>...</td>\n",
       "      <td>...</td>\n",
       "    </tr>\n",
       "    <tr>\n",
       "      <th>430</th>\n",
       "      <td>34021.0</td>\n",
       "      <td>1987-07-18</td>\n",
       "      <td>2011-08-01</td>\n",
       "      <td>2017-05-08</td>\n",
       "      <td>4.0</td>\n",
       "      <td>accounting</td>\n",
       "      <td>1.0</td>\n",
       "      <td>0.0</td>\n",
       "      <td>NaN</td>\n",
       "      <td>NaN</td>\n",
       "      <td>...</td>\n",
       "      <td>87.72</td>\n",
       "      <td>84.99</td>\n",
       "      <td>65.31</td>\n",
       "      <td>NaN</td>\n",
       "      <td>In state</td>\n",
       "      <td>0.0</td>\n",
       "      <td>1.0</td>\n",
       "      <td>18.0</td>\n",
       "      <td>1.0</td>\n",
       "      <td>10.0</td>\n",
       "    </tr>\n",
       "    <tr>\n",
       "      <th>431</th>\n",
       "      <td>40697.0</td>\n",
       "      <td>1987-04-29</td>\n",
       "      <td>2011-08-01</td>\n",
       "      <td>2016-05-09</td>\n",
       "      <td>4.0</td>\n",
       "      <td>NaN</td>\n",
       "      <td>0.0</td>\n",
       "      <td>0.0</td>\n",
       "      <td>68.50</td>\n",
       "      <td>131.92</td>\n",
       "      <td>...</td>\n",
       "      <td>91.01</td>\n",
       "      <td>86.87</td>\n",
       "      <td>70.25</td>\n",
       "      <td>82.67</td>\n",
       "      <td>In state</td>\n",
       "      <td>0.0</td>\n",
       "      <td>3.0</td>\n",
       "      <td>26.0</td>\n",
       "      <td>6.0</td>\n",
       "      <td>15.0</td>\n",
       "    </tr>\n",
       "    <tr>\n",
       "      <th>432</th>\n",
       "      <td>34272.0</td>\n",
       "      <td>NaT</td>\n",
       "      <td>2011-08-01</td>\n",
       "      <td>2016-05-09</td>\n",
       "      <td>4.0</td>\n",
       "      <td>nursing</td>\n",
       "      <td>0.0</td>\n",
       "      <td>1.0</td>\n",
       "      <td>68.10</td>\n",
       "      <td>130.07</td>\n",
       "      <td>...</td>\n",
       "      <td>81.05</td>\n",
       "      <td>85.76</td>\n",
       "      <td>58.16</td>\n",
       "      <td>81.87</td>\n",
       "      <td>NaN</td>\n",
       "      <td>0.0</td>\n",
       "      <td>3.0</td>\n",
       "      <td>29.0</td>\n",
       "      <td>6.0</td>\n",
       "      <td>10.0</td>\n",
       "    </tr>\n",
       "    <tr>\n",
       "      <th>433</th>\n",
       "      <td>33628.0</td>\n",
       "      <td>NaT</td>\n",
       "      <td>2011-08-01</td>\n",
       "      <td>2017-05-08</td>\n",
       "      <td>4.0</td>\n",
       "      <td>Nursing</td>\n",
       "      <td>1.0</td>\n",
       "      <td>1.0</td>\n",
       "      <td>69.27</td>\n",
       "      <td>157.26</td>\n",
       "      <td>...</td>\n",
       "      <td>75.59</td>\n",
       "      <td>85.97</td>\n",
       "      <td>66.84</td>\n",
       "      <td>79.35</td>\n",
       "      <td>In state</td>\n",
       "      <td>0.0</td>\n",
       "      <td>1.0</td>\n",
       "      <td>14.0</td>\n",
       "      <td>4.0</td>\n",
       "      <td>10.0</td>\n",
       "    </tr>\n",
       "    <tr>\n",
       "      <th>434</th>\n",
       "      <td>39298.0</td>\n",
       "      <td>NaT</td>\n",
       "      <td>2011-08-01</td>\n",
       "      <td>2017-05-08</td>\n",
       "      <td>4.0</td>\n",
       "      <td>NaN</td>\n",
       "      <td>1.0</td>\n",
       "      <td>1.0</td>\n",
       "      <td>66.68</td>\n",
       "      <td>152.33</td>\n",
       "      <td>...</td>\n",
       "      <td>75.65</td>\n",
       "      <td>77.24</td>\n",
       "      <td>60.24</td>\n",
       "      <td>75.23</td>\n",
       "      <td>In state</td>\n",
       "      <td>0.0</td>\n",
       "      <td>3.0</td>\n",
       "      <td>27.0</td>\n",
       "      <td>2.0</td>\n",
       "      <td>10.0</td>\n",
       "    </tr>\n",
       "  </tbody>\n",
       "</table>\n",
       "<p>435 rows × 23 columns</p>\n",
       "</div>"
      ],
      "text/plain": [
       "         ids       bday enrolldate expgradate  Rank                    Major  \\\n",
       "0    43783.0 1995-03-22        NaT        NaT   NaN                      NaN   \n",
       "1    20278.0 1995-01-01        NaT        NaT   NaN               Philosophy   \n",
       "2    20389.0 1994-12-31        NaT        NaT   NaN                      NaN   \n",
       "3    22820.0 1994-12-01        NaT        NaT   NaN  business administration   \n",
       "4    24559.0 1994-11-10        NaT        NaT   NaN                      NaN   \n",
       "..       ...        ...        ...        ...   ...                      ...   \n",
       "430  34021.0 1987-07-18 2011-08-01 2017-05-08   4.0               accounting   \n",
       "431  40697.0 1987-04-29 2011-08-01 2016-05-09   4.0                      NaN   \n",
       "432  34272.0        NaT 2011-08-01 2016-05-09   4.0                  nursing   \n",
       "433  33628.0        NaT 2011-08-01 2017-05-08   4.0                  Nursing   \n",
       "434  39298.0        NaT 2011-08-01 2017-05-08   4.0                      NaN   \n",
       "\n",
       "     Gender  Athlete  Height  Weight  ...  English  Reading   Math  Writing  \\\n",
       "0       0.0      0.0   72.35     NaN  ...    88.24    81.50  60.02    81.44   \n",
       "1       0.0      0.0   70.66  179.20  ...    89.45    85.25  70.19    73.27   \n",
       "2       0.0      0.0   70.68  198.52  ...    96.73    86.88  71.20    84.24   \n",
       "3       1.0      0.0     NaN  198.34  ...    74.06    88.68  55.89    73.16   \n",
       "4       1.0      1.0   67.43  128.17  ...    82.61    77.30  65.52    80.45   \n",
       "..      ...      ...     ...     ...  ...      ...      ...    ...      ...   \n",
       "430     1.0      0.0     NaN     NaN  ...    87.72    84.99  65.31      NaN   \n",
       "431     0.0      0.0   68.50  131.92  ...    91.01    86.87  70.25    82.67   \n",
       "432     0.0      1.0   68.10  130.07  ...    81.05    85.76  58.16    81.87   \n",
       "433     1.0      1.0   69.27  157.26  ...    75.59    85.97  66.84    79.35   \n",
       "434     1.0      1.0   66.68  152.33  ...    75.65    77.24  60.24    75.23   \n",
       "\n",
       "            State  LiveOnCampus  HowCommute CommuteTime  SleepTime  StudyTime  \n",
       "0        In state           1.0         NaN         NaN        7.0        1.0  \n",
       "1             NaN           1.0         NaN         NaN        5.0        2.0  \n",
       "2        In state           NaN         NaN         NaN        8.0        7.0  \n",
       "3        In state           1.0         NaN         NaN        2.0        6.0  \n",
       "4    Out of state           1.0         NaN         NaN        7.0        3.0  \n",
       "..            ...           ...         ...         ...        ...        ...  \n",
       "430      In state           0.0         1.0        18.0        1.0       10.0  \n",
       "431      In state           0.0         3.0        26.0        6.0       15.0  \n",
       "432           NaN           0.0         3.0        29.0        6.0       10.0  \n",
       "433      In state           0.0         1.0        14.0        4.0       10.0  \n",
       "434      In state           0.0         3.0        27.0        2.0       10.0  \n",
       "\n",
       "[435 rows x 23 columns]"
      ]
     },
     "execution_count": 39,
     "metadata": {},
     "output_type": "execute_result"
    }
   ],
   "source": [
    "students"
   ]
  },
  {
   "cell_type": "code",
   "execution_count": 40,
   "id": "ed56d5cb",
   "metadata": {},
   "outputs": [
    {
     "name": "stdout",
     "output_type": "stream",
     "text": [
      "<class 'pandas.core.frame.DataFrame'>\n",
      "RangeIndex: 435 entries, 0 to 434\n",
      "Data columns (total 2 columns):\n",
      " #   Column   Non-Null Count  Dtype  \n",
      "---  ------   --------------  -----  \n",
      " 0   English  409 non-null    float64\n",
      " 1   Math     422 non-null    float64\n",
      "dtypes: float64(2)\n",
      "memory usage: 6.9 KB\n"
     ]
    }
   ],
   "source": [
    "students[['English', 'Math']].info()"
   ]
  },
  {
   "cell_type": "code",
   "execution_count": 41,
   "id": "dddfbc9c",
   "metadata": {},
   "outputs": [
    {
     "data": {
      "text/html": [
       "<div>\n",
       "<style scoped>\n",
       "    .dataframe tbody tr th:only-of-type {\n",
       "        vertical-align: middle;\n",
       "    }\n",
       "\n",
       "    .dataframe tbody tr th {\n",
       "        vertical-align: top;\n",
       "    }\n",
       "\n",
       "    .dataframe thead th {\n",
       "        text-align: right;\n",
       "    }\n",
       "</style>\n",
       "<table border=\"1\" class=\"dataframe\">\n",
       "  <thead>\n",
       "    <tr style=\"text-align: right;\">\n",
       "      <th></th>\n",
       "      <th>count</th>\n",
       "      <th>mean</th>\n",
       "      <th>std</th>\n",
       "      <th>min</th>\n",
       "      <th>25%</th>\n",
       "      <th>50%</th>\n",
       "      <th>75%</th>\n",
       "      <th>max</th>\n",
       "    </tr>\n",
       "  </thead>\n",
       "  <tbody>\n",
       "    <tr>\n",
       "      <th>English</th>\n",
       "      <td>409.0</td>\n",
       "      <td>82.787555</td>\n",
       "      <td>6.839803</td>\n",
       "      <td>59.83</td>\n",
       "      <td>78.3300</td>\n",
       "      <td>83.150</td>\n",
       "      <td>87.1700</td>\n",
       "      <td>101.95</td>\n",
       "    </tr>\n",
       "    <tr>\n",
       "      <th>Math</th>\n",
       "      <td>422.0</td>\n",
       "      <td>65.468009</td>\n",
       "      <td>8.375930</td>\n",
       "      <td>35.32</td>\n",
       "      <td>60.2025</td>\n",
       "      <td>65.445</td>\n",
       "      <td>70.5675</td>\n",
       "      <td>93.78</td>\n",
       "    </tr>\n",
       "  </tbody>\n",
       "</table>\n",
       "</div>"
      ],
      "text/plain": [
       "         count       mean       std    min      25%     50%      75%     max\n",
       "English  409.0  82.787555  6.839803  59.83  78.3300  83.150  87.1700  101.95\n",
       "Math     422.0  65.468009  8.375930  35.32  60.2025  65.445  70.5675   93.78"
      ]
     },
     "execution_count": 41,
     "metadata": {},
     "output_type": "execute_result"
    }
   ],
   "source": [
    "students[['English', 'Math']].describe().T"
   ]
  },
  {
   "cell_type": "code",
   "execution_count": null,
   "id": "c4847064",
   "metadata": {},
   "outputs": [],
   "source": [
    "# The mean English score is much higher than the mean Math score and \n",
    "# max-min scores of English are higher than max-min scores of Math.\n",
    "# There are missing values on both sides."
   ]
  },
  {
   "cell_type": "code",
   "execution_count": 42,
   "id": "6f4ac026",
   "metadata": {},
   "outputs": [
    {
     "data": {
      "text/plain": [
       "(26, 13)"
      ]
     },
     "execution_count": 42,
     "metadata": {},
     "output_type": "execute_result"
    }
   ],
   "source": [
    "students.English.isnull().sum(), students.Math.isnull().sum()"
   ]
  },
  {
   "cell_type": "code",
   "execution_count": 43,
   "id": "42865e02",
   "metadata": {},
   "outputs": [],
   "source": [
    "sections = students[['English', 'Math']].dropna()"
   ]
  },
  {
   "cell_type": "code",
   "execution_count": 44,
   "id": "9a0f888a",
   "metadata": {},
   "outputs": [
    {
     "data": {
      "text/html": [
       "<div>\n",
       "<style scoped>\n",
       "    .dataframe tbody tr th:only-of-type {\n",
       "        vertical-align: middle;\n",
       "    }\n",
       "\n",
       "    .dataframe tbody tr th {\n",
       "        vertical-align: top;\n",
       "    }\n",
       "\n",
       "    .dataframe thead th {\n",
       "        text-align: right;\n",
       "    }\n",
       "</style>\n",
       "<table border=\"1\" class=\"dataframe\">\n",
       "  <thead>\n",
       "    <tr style=\"text-align: right;\">\n",
       "      <th></th>\n",
       "      <th>English</th>\n",
       "      <th>Math</th>\n",
       "    </tr>\n",
       "  </thead>\n",
       "  <tbody>\n",
       "    <tr>\n",
       "      <th>0</th>\n",
       "      <td>88.24</td>\n",
       "      <td>60.02</td>\n",
       "    </tr>\n",
       "    <tr>\n",
       "      <th>1</th>\n",
       "      <td>89.45</td>\n",
       "      <td>70.19</td>\n",
       "    </tr>\n",
       "    <tr>\n",
       "      <th>2</th>\n",
       "      <td>96.73</td>\n",
       "      <td>71.20</td>\n",
       "    </tr>\n",
       "    <tr>\n",
       "      <th>3</th>\n",
       "      <td>74.06</td>\n",
       "      <td>55.89</td>\n",
       "    </tr>\n",
       "    <tr>\n",
       "      <th>4</th>\n",
       "      <td>82.61</td>\n",
       "      <td>65.52</td>\n",
       "    </tr>\n",
       "    <tr>\n",
       "      <th>...</th>\n",
       "      <td>...</td>\n",
       "      <td>...</td>\n",
       "    </tr>\n",
       "    <tr>\n",
       "      <th>430</th>\n",
       "      <td>87.72</td>\n",
       "      <td>65.31</td>\n",
       "    </tr>\n",
       "    <tr>\n",
       "      <th>431</th>\n",
       "      <td>91.01</td>\n",
       "      <td>70.25</td>\n",
       "    </tr>\n",
       "    <tr>\n",
       "      <th>432</th>\n",
       "      <td>81.05</td>\n",
       "      <td>58.16</td>\n",
       "    </tr>\n",
       "    <tr>\n",
       "      <th>433</th>\n",
       "      <td>75.59</td>\n",
       "      <td>66.84</td>\n",
       "    </tr>\n",
       "    <tr>\n",
       "      <th>434</th>\n",
       "      <td>75.65</td>\n",
       "      <td>60.24</td>\n",
       "    </tr>\n",
       "  </tbody>\n",
       "</table>\n",
       "<p>398 rows × 2 columns</p>\n",
       "</div>"
      ],
      "text/plain": [
       "     English   Math\n",
       "0      88.24  60.02\n",
       "1      89.45  70.19\n",
       "2      96.73  71.20\n",
       "3      74.06  55.89\n",
       "4      82.61  65.52\n",
       "..       ...    ...\n",
       "430    87.72  65.31\n",
       "431    91.01  70.25\n",
       "432    81.05  58.16\n",
       "433    75.59  66.84\n",
       "434    75.65  60.24\n",
       "\n",
       "[398 rows x 2 columns]"
      ]
     },
     "execution_count": 44,
     "metadata": {},
     "output_type": "execute_result"
    }
   ],
   "source": [
    "sections"
   ]
  },
  {
   "cell_type": "code",
   "execution_count": 45,
   "id": "6de36e86",
   "metadata": {},
   "outputs": [
    {
     "name": "stdout",
     "output_type": "stream",
     "text": [
      "<class 'pandas.core.frame.DataFrame'>\n",
      "Int64Index: 398 entries, 0 to 434\n",
      "Data columns (total 2 columns):\n",
      " #   Column   Non-Null Count  Dtype  \n",
      "---  ------   --------------  -----  \n",
      " 0   English  398 non-null    float64\n",
      " 1   Math     398 non-null    float64\n",
      "dtypes: float64(2)\n",
      "memory usage: 9.3 KB\n"
     ]
    }
   ],
   "source": [
    "sections.info()"
   ]
  },
  {
   "cell_type": "markdown",
   "id": "5e891790",
   "metadata": {},
   "source": [
    "#### paired samples descriptive statistics"
   ]
  },
  {
   "cell_type": "code",
   "execution_count": null,
   "id": "57757a37",
   "metadata": {},
   "outputs": [],
   "source": [
    "# H0: d_bar = 0   (d : difference)\n",
    "# H1: d_bar != 0  "
   ]
  },
  {
   "cell_type": "code",
   "execution_count": 46,
   "id": "6b8e50ad",
   "metadata": {},
   "outputs": [
    {
     "data": {
      "text/html": [
       "<div>\n",
       "<style scoped>\n",
       "    .dataframe tbody tr th:only-of-type {\n",
       "        vertical-align: middle;\n",
       "    }\n",
       "\n",
       "    .dataframe tbody tr th {\n",
       "        vertical-align: top;\n",
       "    }\n",
       "\n",
       "    .dataframe thead th {\n",
       "        text-align: right;\n",
       "    }\n",
       "</style>\n",
       "<table border=\"1\" class=\"dataframe\">\n",
       "  <thead>\n",
       "    <tr style=\"text-align: right;\">\n",
       "      <th></th>\n",
       "      <th>count</th>\n",
       "      <th>mean</th>\n",
       "      <th>std</th>\n",
       "      <th>min</th>\n",
       "      <th>25%</th>\n",
       "      <th>50%</th>\n",
       "      <th>75%</th>\n",
       "      <th>max</th>\n",
       "    </tr>\n",
       "  </thead>\n",
       "  <tbody>\n",
       "    <tr>\n",
       "      <th>English</th>\n",
       "      <td>398.0</td>\n",
       "      <td>82.744095</td>\n",
       "      <td>6.844801</td>\n",
       "      <td>59.83</td>\n",
       "      <td>78.2250</td>\n",
       "      <td>83.145</td>\n",
       "      <td>87.1650</td>\n",
       "      <td>101.95</td>\n",
       "    </tr>\n",
       "    <tr>\n",
       "      <th>Math</th>\n",
       "      <td>398.0</td>\n",
       "      <td>65.446834</td>\n",
       "      <td>8.462137</td>\n",
       "      <td>35.32</td>\n",
       "      <td>60.2025</td>\n",
       "      <td>65.495</td>\n",
       "      <td>70.5225</td>\n",
       "      <td>93.78</td>\n",
       "    </tr>\n",
       "  </tbody>\n",
       "</table>\n",
       "</div>"
      ],
      "text/plain": [
       "         count       mean       std    min      25%     50%      75%     max\n",
       "English  398.0  82.744095  6.844801  59.83  78.2250  83.145  87.1650  101.95\n",
       "Math     398.0  65.446834  8.462137  35.32  60.2025  65.495  70.5225   93.78"
      ]
     },
     "execution_count": 46,
     "metadata": {},
     "output_type": "execute_result"
    }
   ],
   "source": [
    "sections.describe().T"
   ]
  },
  {
   "cell_type": "code",
   "execution_count": 47,
   "id": "235aef7f",
   "metadata": {},
   "outputs": [
    {
     "data": {
      "text/plain": [
       "English    0.343099\n",
       "Math       0.424169\n",
       "dtype: float64"
      ]
     },
     "execution_count": 47,
     "metadata": {},
     "output_type": "execute_result"
    }
   ],
   "source": [
    "sections[['English', 'Math']].sem()  # standard error"
   ]
  },
  {
   "cell_type": "code",
   "execution_count": 48,
   "id": "ab86d85e",
   "metadata": {},
   "outputs": [
    {
     "data": {
      "text/html": [
       "<div>\n",
       "<style scoped>\n",
       "    .dataframe tbody tr th:only-of-type {\n",
       "        vertical-align: middle;\n",
       "    }\n",
       "\n",
       "    .dataframe tbody tr th {\n",
       "        vertical-align: top;\n",
       "    }\n",
       "\n",
       "    .dataframe thead th {\n",
       "        text-align: right;\n",
       "    }\n",
       "</style>\n",
       "<table border=\"1\" class=\"dataframe\">\n",
       "  <thead>\n",
       "    <tr style=\"text-align: right;\">\n",
       "      <th></th>\n",
       "      <th>English</th>\n",
       "      <th>Math</th>\n",
       "    </tr>\n",
       "  </thead>\n",
       "  <tbody>\n",
       "    <tr>\n",
       "      <th>English</th>\n",
       "      <td>1.000000</td>\n",
       "      <td>0.243014</td>\n",
       "    </tr>\n",
       "    <tr>\n",
       "      <th>Math</th>\n",
       "      <td>0.243014</td>\n",
       "      <td>1.000000</td>\n",
       "    </tr>\n",
       "  </tbody>\n",
       "</table>\n",
       "</div>"
      ],
      "text/plain": [
       "          English      Math\n",
       "English  1.000000  0.243014\n",
       "Math     0.243014  1.000000"
      ]
     },
     "execution_count": 48,
     "metadata": {},
     "output_type": "execute_result"
    }
   ],
   "source": [
    "sections.corr()"
   ]
  },
  {
   "cell_type": "code",
   "execution_count": null,
   "id": "b6fc123f",
   "metadata": {},
   "outputs": [],
   "source": [
    "# English and Math scores are weakly and positively correlated (r = .243)"
   ]
  },
  {
   "cell_type": "code",
   "execution_count": 49,
   "id": "6edc1611",
   "metadata": {},
   "outputs": [
    {
     "data": {
      "image/png": "[encoded data removed]",
      "text/plain": [
       "<Figure size 432x288 with 1 Axes>"
      ]
     },
     "metadata": {
      "needs_background": "light"
     },
     "output_type": "display_data"
    }
   ],
   "source": [
    "plt.boxplot([sections['English'], sections['Math']], vert=False\n",
    "            , labels=['English', 'Math'])\n",
    "plt.grid();"
   ]
  },
  {
   "cell_type": "markdown",
   "id": "0550bc81",
   "metadata": {},
   "source": [
    "#### paired samples tests"
   ]
  },
  {
   "cell_type": "code",
   "execution_count": 50,
   "id": "a282b2d7",
   "metadata": {},
   "outputs": [
    {
     "data": {
      "text/plain": [
       "17.29726130653266"
      ]
     },
     "execution_count": 50,
     "metadata": {},
     "output_type": "execute_result"
    }
   ],
   "source": [
    "s_mean = (sections['English'] - sections['Math']).mean()\n",
    "s_mean"
   ]
  },
  {
   "cell_type": "code",
   "execution_count": 51,
   "id": "e97eb9eb",
   "metadata": {},
   "outputs": [
    {
     "data": {
      "text/plain": [
       "9.503025782864302"
      ]
     },
     "execution_count": 51,
     "metadata": {},
     "output_type": "execute_result"
    }
   ],
   "source": [
    "s_sd = (sections['English'] - sections['Math']).std()  # standard deviation\n",
    "s_sd"
   ]
  },
  {
   "cell_type": "code",
   "execution_count": 52,
   "id": "b1b07d93",
   "metadata": {},
   "outputs": [
    {
     "data": {
      "text/plain": [
       "0.4763436405515758"
      ]
     },
     "execution_count": 52,
     "metadata": {},
     "output_type": "execute_result"
    }
   ],
   "source": [
    "s_se = (sections['English'] - sections['Math']).sem()  # standard error\n",
    "s_se"
   ]
  },
  {
   "cell_type": "code",
   "execution_count": 53,
   "id": "7b57c8ec",
   "metadata": {},
   "outputs": [
    {
     "data": {
      "text/plain": [
       "(16.36364492678688, 18.230877686278443)"
      ]
     },
     "execution_count": 53,
     "metadata": {},
     "output_type": "execute_result"
    }
   ],
   "source": [
    "# 95% confidence interval of the difference\n",
    "\n",
    "stats.norm.interval(0.95, loc=s_mean, scale=s_se)"
   ]
  },
  {
   "cell_type": "code",
   "execution_count": 54,
   "id": "84b4b92d",
   "metadata": {},
   "outputs": [
    {
     "data": {
      "text/plain": [
       "Ttest_relResult(statistic=36.312568981719856, pvalue=3.0710987192210606e-128)"
      ]
     },
     "execution_count": 54,
     "metadata": {},
     "output_type": "execute_result"
    }
   ],
   "source": [
    "# test statistic and pvalue\n",
    "\n",
    "pairedtest = stats.ttest_rel(sections['English'], sections['Math'])\n",
    "pairedtest"
   ]
  },
  {
   "cell_type": "code",
   "execution_count": 55,
   "id": "6b568646",
   "metadata": {},
   "outputs": [
    {
     "name": "stdout",
     "output_type": "stream",
     "text": [
      "Reject The Null\n"
     ]
    }
   ],
   "source": [
    "# DECISION\n",
    "\n",
    "alpha = 0.001\n",
    "\n",
    "if pairedtest.pvalue < alpha:\n",
    "    print('Reject The Null')\n",
    "else:\n",
    "    print('Fail to Reject The Null')"
   ]
  },
  {
   "cell_type": "code",
   "execution_count": null,
   "id": "756c1eb8",
   "metadata": {},
   "outputs": [],
   "source": [
    "# There is a significant average difference between English and Math scores\n",
    "# On average, English scores were 17.3 points higher than Math scores (Confidence Interval: 95% , [16.36, 18.23])"
   ]
  }
 ],
 "metadata": {
  "kernelspec": {
   "display_name": "Python 3 (ipykernel)",
   "language": "python",
   "name": "python3"
  },
  "language_info": {
   "codemirror_mode": {
    "name": "ipython",
    "version": 3
   },
   "file_extension": ".py",
   "mimetype": "text/x-python",
   "name": "python",
   "nbconvert_exporter": "python",
   "pygments_lexer": "ipython3",
   "version": "3.9.6"
  }
 },
 "nbformat": 4,
 "nbformat_minor": 5
}
