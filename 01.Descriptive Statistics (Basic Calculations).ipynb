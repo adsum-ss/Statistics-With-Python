{
 "cells": [
  {
   "cell_type": "code",
   "execution_count": 1,
   "id": "78cdeca5",
   "metadata": {},
   "outputs": [],
   "source": [
    "# Basic Library\n",
    "import numpy as np\n",
    "import pandas as pd\n",
    "\n",
    "# Libraries for Visualization\n",
    "import matplotlib.pyplot as plt\n",
    "%matplotlib inline\n",
    "import seaborn as sns\n",
    "\n",
    "from scipy import stats\n",
    "\n",
    "import warnings;\n",
    "warnings.filterwarnings('ignore')"
   ]
  },
  {
   "cell_type": "markdown",
   "id": "44868477",
   "metadata": {},
   "source": [
    "### Euroleague 2020-2021 Season's Stats"
   ]
  },
  {
   "cell_type": "code",
   "execution_count": 2,
   "id": "c1ad8e11",
   "metadata": {},
   "outputs": [
    {
     "data": {
      "text/html": [
       "<div>\n",
       "<style scoped>\n",
       "    .dataframe tbody tr th:only-of-type {\n",
       "        vertical-align: middle;\n",
       "    }\n",
       "\n",
       "    .dataframe tbody tr th {\n",
       "        vertical-align: top;\n",
       "    }\n",
       "\n",
       "    .dataframe thead th {\n",
       "        text-align: right;\n",
       "    }\n",
       "</style>\n",
       "<table border=\"1\" class=\"dataframe\">\n",
       "  <thead>\n",
       "    <tr style=\"text-align: right;\">\n",
       "      <th></th>\n",
       "      <th>Player</th>\n",
       "      <th>Club</th>\n",
       "      <th>Number</th>\n",
       "      <th>Position</th>\n",
       "      <th>Nation</th>\n",
       "      <th>Age</th>\n",
       "      <th>Height</th>\n",
       "      <th>Games</th>\n",
       "      <th>Min</th>\n",
       "      <th>Pts</th>\n",
       "      <th>...</th>\n",
       "      <th>Blocks(Fv)</th>\n",
       "      <th>Blocks(Fv)_avg</th>\n",
       "      <th>Blocks(Ag)</th>\n",
       "      <th>Blocks(Ag)_avg</th>\n",
       "      <th>Fouls(Cm)</th>\n",
       "      <th>Fouls(Cm)_avg</th>\n",
       "      <th>Fouls(Rv)</th>\n",
       "      <th>Fouls(Rv)_avg</th>\n",
       "      <th>PIR</th>\n",
       "      <th>PIR_avg</th>\n",
       "    </tr>\n",
       "  </thead>\n",
       "  <tbody>\n",
       "    <tr>\n",
       "      <th>0</th>\n",
       "      <td>Abalde, Alberto</td>\n",
       "      <td>Real Madrid</td>\n",
       "      <td>6</td>\n",
       "      <td>Forward</td>\n",
       "      <td>Spain</td>\n",
       "      <td>25</td>\n",
       "      <td>202</td>\n",
       "      <td>39</td>\n",
       "      <td>761</td>\n",
       "      <td>281</td>\n",
       "      <td>...</td>\n",
       "      <td>0</td>\n",
       "      <td>0.00</td>\n",
       "      <td>6</td>\n",
       "      <td>0.15</td>\n",
       "      <td>60</td>\n",
       "      <td>1.54</td>\n",
       "      <td>57</td>\n",
       "      <td>1.46</td>\n",
       "      <td>325</td>\n",
       "      <td>8.33</td>\n",
       "    </tr>\n",
       "    <tr>\n",
       "      <th>1</th>\n",
       "      <td>Abrines, Alex</td>\n",
       "      <td>FC Barcelona</td>\n",
       "      <td>21</td>\n",
       "      <td>Forward</td>\n",
       "      <td>Spain</td>\n",
       "      <td>27</td>\n",
       "      <td>198</td>\n",
       "      <td>39</td>\n",
       "      <td>730</td>\n",
       "      <td>237</td>\n",
       "      <td>...</td>\n",
       "      <td>8</td>\n",
       "      <td>0.21</td>\n",
       "      <td>7</td>\n",
       "      <td>0.18</td>\n",
       "      <td>96</td>\n",
       "      <td>2.46</td>\n",
       "      <td>39</td>\n",
       "      <td>1.00</td>\n",
       "      <td>182</td>\n",
       "      <td>4.67</td>\n",
       "    </tr>\n",
       "    <tr>\n",
       "      <th>2</th>\n",
       "      <td>Alocen, Carlos</td>\n",
       "      <td>Real Madrid</td>\n",
       "      <td>12</td>\n",
       "      <td>Guard</td>\n",
       "      <td>Spain</td>\n",
       "      <td>20</td>\n",
       "      <td>194</td>\n",
       "      <td>28</td>\n",
       "      <td>376</td>\n",
       "      <td>110</td>\n",
       "      <td>...</td>\n",
       "      <td>2</td>\n",
       "      <td>0.07</td>\n",
       "      <td>4</td>\n",
       "      <td>0.14</td>\n",
       "      <td>46</td>\n",
       "      <td>1.64</td>\n",
       "      <td>31</td>\n",
       "      <td>1.11</td>\n",
       "      <td>93</td>\n",
       "      <td>3.32</td>\n",
       "    </tr>\n",
       "    <tr>\n",
       "      <th>3</th>\n",
       "      <td>Amaize, Robin</td>\n",
       "      <td>FC Bayern Munich</td>\n",
       "      <td>15</td>\n",
       "      <td>Forward</td>\n",
       "      <td>Germany</td>\n",
       "      <td>26</td>\n",
       "      <td>188</td>\n",
       "      <td>9</td>\n",
       "      <td>51</td>\n",
       "      <td>4</td>\n",
       "      <td>...</td>\n",
       "      <td>0</td>\n",
       "      <td>0.00</td>\n",
       "      <td>1</td>\n",
       "      <td>0.11</td>\n",
       "      <td>6</td>\n",
       "      <td>0.67</td>\n",
       "      <td>2</td>\n",
       "      <td>0.22</td>\n",
       "      <td>-1</td>\n",
       "      <td>-0.11</td>\n",
       "    </tr>\n",
       "    <tr>\n",
       "      <th>4</th>\n",
       "      <td>Anderson, James</td>\n",
       "      <td>Anadolu Efes</td>\n",
       "      <td>23</td>\n",
       "      <td>Forward</td>\n",
       "      <td>USA</td>\n",
       "      <td>31</td>\n",
       "      <td>198</td>\n",
       "      <td>41</td>\n",
       "      <td>622</td>\n",
       "      <td>172</td>\n",
       "      <td>...</td>\n",
       "      <td>6</td>\n",
       "      <td>0.15</td>\n",
       "      <td>3</td>\n",
       "      <td>0.07</td>\n",
       "      <td>55</td>\n",
       "      <td>1.34</td>\n",
       "      <td>39</td>\n",
       "      <td>0.95</td>\n",
       "      <td>234</td>\n",
       "      <td>5.71</td>\n",
       "    </tr>\n",
       "    <tr>\n",
       "      <th>...</th>\n",
       "      <td>...</td>\n",
       "      <td>...</td>\n",
       "      <td>...</td>\n",
       "      <td>...</td>\n",
       "      <td>...</td>\n",
       "      <td>...</td>\n",
       "      <td>...</td>\n",
       "      <td>...</td>\n",
       "      <td>...</td>\n",
       "      <td>...</td>\n",
       "      <td>...</td>\n",
       "      <td>...</td>\n",
       "      <td>...</td>\n",
       "      <td>...</td>\n",
       "      <td>...</td>\n",
       "      <td>...</td>\n",
       "      <td>...</td>\n",
       "      <td>...</td>\n",
       "      <td>...</td>\n",
       "      <td>...</td>\n",
       "      <td>...</td>\n",
       "    </tr>\n",
       "    <tr>\n",
       "      <th>289</th>\n",
       "      <td>Zakharov, Denis</td>\n",
       "      <td>Zenit St Petersburg</td>\n",
       "      <td>3</td>\n",
       "      <td>Guard</td>\n",
       "      <td>Russian Federation</td>\n",
       "      <td>27</td>\n",
       "      <td>192</td>\n",
       "      <td>17</td>\n",
       "      <td>82</td>\n",
       "      <td>15</td>\n",
       "      <td>...</td>\n",
       "      <td>1</td>\n",
       "      <td>0.06</td>\n",
       "      <td>0</td>\n",
       "      <td>0.00</td>\n",
       "      <td>20</td>\n",
       "      <td>1.18</td>\n",
       "      <td>12</td>\n",
       "      <td>0.71</td>\n",
       "      <td>6</td>\n",
       "      <td>0.35</td>\n",
       "    </tr>\n",
       "    <tr>\n",
       "      <th>290</th>\n",
       "      <td>Zipser, Paul</td>\n",
       "      <td>FC Bayern Munich</td>\n",
       "      <td>16</td>\n",
       "      <td>Forward</td>\n",
       "      <td>Germany</td>\n",
       "      <td>26</td>\n",
       "      <td>203</td>\n",
       "      <td>39</td>\n",
       "      <td>858</td>\n",
       "      <td>356</td>\n",
       "      <td>...</td>\n",
       "      <td>10</td>\n",
       "      <td>0.26</td>\n",
       "      <td>5</td>\n",
       "      <td>0.13</td>\n",
       "      <td>86</td>\n",
       "      <td>2.21</td>\n",
       "      <td>74</td>\n",
       "      <td>1.90</td>\n",
       "      <td>371</td>\n",
       "      <td>9.51</td>\n",
       "    </tr>\n",
       "    <tr>\n",
       "      <th>291</th>\n",
       "      <td>Zizic, Ante</td>\n",
       "      <td>Maccabi Playtika Tel Aviv</td>\n",
       "      <td>23</td>\n",
       "      <td>Center</td>\n",
       "      <td>Croatia</td>\n",
       "      <td>23</td>\n",
       "      <td>210</td>\n",
       "      <td>34</td>\n",
       "      <td>676</td>\n",
       "      <td>309</td>\n",
       "      <td>...</td>\n",
       "      <td>26</td>\n",
       "      <td>0.76</td>\n",
       "      <td>17</td>\n",
       "      <td>0.50</td>\n",
       "      <td>56</td>\n",
       "      <td>1.65</td>\n",
       "      <td>58</td>\n",
       "      <td>1.71</td>\n",
       "      <td>386</td>\n",
       "      <td>11.35</td>\n",
       "    </tr>\n",
       "    <tr>\n",
       "      <th>292</th>\n",
       "      <td>Zoosman, Yovel</td>\n",
       "      <td>Maccabi Playtika Tel Aviv</td>\n",
       "      <td>50</td>\n",
       "      <td>Guard</td>\n",
       "      <td>Poland</td>\n",
       "      <td>22</td>\n",
       "      <td>200</td>\n",
       "      <td>11</td>\n",
       "      <td>150</td>\n",
       "      <td>29</td>\n",
       "      <td>...</td>\n",
       "      <td>0</td>\n",
       "      <td>0.00</td>\n",
       "      <td>1</td>\n",
       "      <td>0.09</td>\n",
       "      <td>22</td>\n",
       "      <td>2.00</td>\n",
       "      <td>7</td>\n",
       "      <td>0.64</td>\n",
       "      <td>18</td>\n",
       "      <td>1.64</td>\n",
       "    </tr>\n",
       "    <tr>\n",
       "      <th>293</th>\n",
       "      <td>Zubkov, Andrey</td>\n",
       "      <td>Zenit St Petersburg</td>\n",
       "      <td>20</td>\n",
       "      <td>Forward</td>\n",
       "      <td>Russian Federation</td>\n",
       "      <td>29</td>\n",
       "      <td>206</td>\n",
       "      <td>39</td>\n",
       "      <td>626</td>\n",
       "      <td>197</td>\n",
       "      <td>...</td>\n",
       "      <td>1</td>\n",
       "      <td>0.03</td>\n",
       "      <td>3</td>\n",
       "      <td>0.08</td>\n",
       "      <td>67</td>\n",
       "      <td>1.72</td>\n",
       "      <td>53</td>\n",
       "      <td>1.36</td>\n",
       "      <td>197</td>\n",
       "      <td>5.05</td>\n",
       "    </tr>\n",
       "  </tbody>\n",
       "</table>\n",
       "<p>294 rows × 34 columns</p>\n",
       "</div>"
      ],
      "text/plain": [
       "              Player                       Club  Number Position  \\\n",
       "0    Abalde, Alberto                Real Madrid       6  Forward   \n",
       "1      Abrines, Alex               FC Barcelona      21  Forward   \n",
       "2     Alocen, Carlos                Real Madrid      12    Guard   \n",
       "3      Amaize, Robin           FC Bayern Munich      15  Forward   \n",
       "4    Anderson, James               Anadolu Efes      23  Forward   \n",
       "..               ...                        ...     ...      ...   \n",
       "289  Zakharov, Denis        Zenit St Petersburg       3    Guard   \n",
       "290     Zipser, Paul           FC Bayern Munich      16  Forward   \n",
       "291      Zizic, Ante  Maccabi Playtika Tel Aviv      23   Center   \n",
       "292   Zoosman, Yovel  Maccabi Playtika Tel Aviv      50    Guard   \n",
       "293   Zubkov, Andrey        Zenit St Petersburg      20  Forward   \n",
       "\n",
       "                 Nation  Age  Height  Games  Min  Pts  ...  Blocks(Fv)  \\\n",
       "0                 Spain   25     202     39  761  281  ...           0   \n",
       "1                 Spain   27     198     39  730  237  ...           8   \n",
       "2                 Spain   20     194     28  376  110  ...           2   \n",
       "3               Germany   26     188      9   51    4  ...           0   \n",
       "4                   USA   31     198     41  622  172  ...           6   \n",
       "..                  ...  ...     ...    ...  ...  ...  ...         ...   \n",
       "289  Russian Federation   27     192     17   82   15  ...           1   \n",
       "290             Germany   26     203     39  858  356  ...          10   \n",
       "291             Croatia   23     210     34  676  309  ...          26   \n",
       "292              Poland   22     200     11  150   29  ...           0   \n",
       "293  Russian Federation   29     206     39  626  197  ...           1   \n",
       "\n",
       "    Blocks(Fv)_avg Blocks(Ag) Blocks(Ag)_avg  Fouls(Cm)  Fouls(Cm)_avg  \\\n",
       "0             0.00          6           0.15         60           1.54   \n",
       "1             0.21          7           0.18         96           2.46   \n",
       "2             0.07          4           0.14         46           1.64   \n",
       "3             0.00          1           0.11          6           0.67   \n",
       "4             0.15          3           0.07         55           1.34   \n",
       "..             ...        ...            ...        ...            ...   \n",
       "289           0.06          0           0.00         20           1.18   \n",
       "290           0.26          5           0.13         86           2.21   \n",
       "291           0.76         17           0.50         56           1.65   \n",
       "292           0.00          1           0.09         22           2.00   \n",
       "293           0.03          3           0.08         67           1.72   \n",
       "\n",
       "     Fouls(Rv)  Fouls(Rv)_avg  PIR  PIR_avg  \n",
       "0           57           1.46  325     8.33  \n",
       "1           39           1.00  182     4.67  \n",
       "2           31           1.11   93     3.32  \n",
       "3            2           0.22   -1    -0.11  \n",
       "4           39           0.95  234     5.71  \n",
       "..         ...            ...  ...      ...  \n",
       "289         12           0.71    6     0.35  \n",
       "290         74           1.90  371     9.51  \n",
       "291         58           1.71  386    11.35  \n",
       "292          7           0.64   18     1.64  \n",
       "293         53           1.36  197     5.05  \n",
       "\n",
       "[294 rows x 34 columns]"
      ]
     },
     "execution_count": 2,
     "metadata": {},
     "output_type": "execute_result"
    }
   ],
   "source": [
    "df = pd.read_excel(\"Euroleague 2020-2021.xlsx\")\n",
    "df"
   ]
  },
  {
   "cell_type": "code",
   "execution_count": 3,
   "id": "d24c3994",
   "metadata": {},
   "outputs": [],
   "source": [
    "df = df[['Player','Club','Position','Nation','Age','Height','Games','Min','Pts',\n",
    "         'Rebounds(T)', 'Steals', 'Blocks(Fv)']]"
   ]
  },
  {
   "cell_type": "code",
   "execution_count": 4,
   "id": "483965eb",
   "metadata": {},
   "outputs": [
    {
     "data": {
      "text/html": [
       "<div>\n",
       "<style scoped>\n",
       "    .dataframe tbody tr th:only-of-type {\n",
       "        vertical-align: middle;\n",
       "    }\n",
       "\n",
       "    .dataframe tbody tr th {\n",
       "        vertical-align: top;\n",
       "    }\n",
       "\n",
       "    .dataframe thead th {\n",
       "        text-align: right;\n",
       "    }\n",
       "</style>\n",
       "<table border=\"1\" class=\"dataframe\">\n",
       "  <thead>\n",
       "    <tr style=\"text-align: right;\">\n",
       "      <th></th>\n",
       "      <th>Player</th>\n",
       "      <th>Club</th>\n",
       "      <th>Position</th>\n",
       "      <th>Nation</th>\n",
       "      <th>Age</th>\n",
       "      <th>Height</th>\n",
       "      <th>Games</th>\n",
       "      <th>Min</th>\n",
       "      <th>Pts</th>\n",
       "      <th>Rebounds(T)</th>\n",
       "      <th>Steals</th>\n",
       "      <th>Blocks(Fv)</th>\n",
       "    </tr>\n",
       "  </thead>\n",
       "  <tbody>\n",
       "    <tr>\n",
       "      <th>0</th>\n",
       "      <td>Abalde, Alberto</td>\n",
       "      <td>Real Madrid</td>\n",
       "      <td>Forward</td>\n",
       "      <td>Spain</td>\n",
       "      <td>25</td>\n",
       "      <td>202</td>\n",
       "      <td>39</td>\n",
       "      <td>761</td>\n",
       "      <td>281</td>\n",
       "      <td>104</td>\n",
       "      <td>21</td>\n",
       "      <td>0</td>\n",
       "    </tr>\n",
       "    <tr>\n",
       "      <th>1</th>\n",
       "      <td>Abrines, Alex</td>\n",
       "      <td>FC Barcelona</td>\n",
       "      <td>Forward</td>\n",
       "      <td>Spain</td>\n",
       "      <td>27</td>\n",
       "      <td>198</td>\n",
       "      <td>39</td>\n",
       "      <td>730</td>\n",
       "      <td>237</td>\n",
       "      <td>72</td>\n",
       "      <td>22</td>\n",
       "      <td>8</td>\n",
       "    </tr>\n",
       "    <tr>\n",
       "      <th>2</th>\n",
       "      <td>Alocen, Carlos</td>\n",
       "      <td>Real Madrid</td>\n",
       "      <td>Guard</td>\n",
       "      <td>Spain</td>\n",
       "      <td>20</td>\n",
       "      <td>194</td>\n",
       "      <td>28</td>\n",
       "      <td>376</td>\n",
       "      <td>110</td>\n",
       "      <td>38</td>\n",
       "      <td>6</td>\n",
       "      <td>2</td>\n",
       "    </tr>\n",
       "    <tr>\n",
       "      <th>3</th>\n",
       "      <td>Amaize, Robin</td>\n",
       "      <td>FC Bayern Munich</td>\n",
       "      <td>Forward</td>\n",
       "      <td>Germany</td>\n",
       "      <td>26</td>\n",
       "      <td>188</td>\n",
       "      <td>9</td>\n",
       "      <td>51</td>\n",
       "      <td>4</td>\n",
       "      <td>4</td>\n",
       "      <td>2</td>\n",
       "      <td>0</td>\n",
       "    </tr>\n",
       "    <tr>\n",
       "      <th>4</th>\n",
       "      <td>Anderson, James</td>\n",
       "      <td>Anadolu Efes</td>\n",
       "      <td>Forward</td>\n",
       "      <td>USA</td>\n",
       "      <td>31</td>\n",
       "      <td>198</td>\n",
       "      <td>41</td>\n",
       "      <td>622</td>\n",
       "      <td>172</td>\n",
       "      <td>113</td>\n",
       "      <td>18</td>\n",
       "      <td>6</td>\n",
       "    </tr>\n",
       "    <tr>\n",
       "      <th>...</th>\n",
       "      <td>...</td>\n",
       "      <td>...</td>\n",
       "      <td>...</td>\n",
       "      <td>...</td>\n",
       "      <td>...</td>\n",
       "      <td>...</td>\n",
       "      <td>...</td>\n",
       "      <td>...</td>\n",
       "      <td>...</td>\n",
       "      <td>...</td>\n",
       "      <td>...</td>\n",
       "      <td>...</td>\n",
       "    </tr>\n",
       "    <tr>\n",
       "      <th>289</th>\n",
       "      <td>Zakharov, Denis</td>\n",
       "      <td>Zenit St Petersburg</td>\n",
       "      <td>Guard</td>\n",
       "      <td>Russian Federation</td>\n",
       "      <td>27</td>\n",
       "      <td>192</td>\n",
       "      <td>17</td>\n",
       "      <td>82</td>\n",
       "      <td>15</td>\n",
       "      <td>7</td>\n",
       "      <td>5</td>\n",
       "      <td>1</td>\n",
       "    </tr>\n",
       "    <tr>\n",
       "      <th>290</th>\n",
       "      <td>Zipser, Paul</td>\n",
       "      <td>FC Bayern Munich</td>\n",
       "      <td>Forward</td>\n",
       "      <td>Germany</td>\n",
       "      <td>26</td>\n",
       "      <td>203</td>\n",
       "      <td>39</td>\n",
       "      <td>858</td>\n",
       "      <td>356</td>\n",
       "      <td>116</td>\n",
       "      <td>26</td>\n",
       "      <td>10</td>\n",
       "    </tr>\n",
       "    <tr>\n",
       "      <th>291</th>\n",
       "      <td>Zizic, Ante</td>\n",
       "      <td>Maccabi Playtika Tel Aviv</td>\n",
       "      <td>Center</td>\n",
       "      <td>Croatia</td>\n",
       "      <td>23</td>\n",
       "      <td>210</td>\n",
       "      <td>34</td>\n",
       "      <td>676</td>\n",
       "      <td>309</td>\n",
       "      <td>182</td>\n",
       "      <td>14</td>\n",
       "      <td>26</td>\n",
       "    </tr>\n",
       "    <tr>\n",
       "      <th>292</th>\n",
       "      <td>Zoosman, Yovel</td>\n",
       "      <td>Maccabi Playtika Tel Aviv</td>\n",
       "      <td>Guard</td>\n",
       "      <td>Poland</td>\n",
       "      <td>22</td>\n",
       "      <td>200</td>\n",
       "      <td>11</td>\n",
       "      <td>150</td>\n",
       "      <td>29</td>\n",
       "      <td>17</td>\n",
       "      <td>6</td>\n",
       "      <td>0</td>\n",
       "    </tr>\n",
       "    <tr>\n",
       "      <th>293</th>\n",
       "      <td>Zubkov, Andrey</td>\n",
       "      <td>Zenit St Petersburg</td>\n",
       "      <td>Forward</td>\n",
       "      <td>Russian Federation</td>\n",
       "      <td>29</td>\n",
       "      <td>206</td>\n",
       "      <td>39</td>\n",
       "      <td>626</td>\n",
       "      <td>197</td>\n",
       "      <td>81</td>\n",
       "      <td>12</td>\n",
       "      <td>1</td>\n",
       "    </tr>\n",
       "  </tbody>\n",
       "</table>\n",
       "<p>294 rows × 12 columns</p>\n",
       "</div>"
      ],
      "text/plain": [
       "              Player                       Club Position              Nation  \\\n",
       "0    Abalde, Alberto                Real Madrid  Forward               Spain   \n",
       "1      Abrines, Alex               FC Barcelona  Forward               Spain   \n",
       "2     Alocen, Carlos                Real Madrid    Guard               Spain   \n",
       "3      Amaize, Robin           FC Bayern Munich  Forward             Germany   \n",
       "4    Anderson, James               Anadolu Efes  Forward                 USA   \n",
       "..               ...                        ...      ...                 ...   \n",
       "289  Zakharov, Denis        Zenit St Petersburg    Guard  Russian Federation   \n",
       "290     Zipser, Paul           FC Bayern Munich  Forward             Germany   \n",
       "291      Zizic, Ante  Maccabi Playtika Tel Aviv   Center             Croatia   \n",
       "292   Zoosman, Yovel  Maccabi Playtika Tel Aviv    Guard              Poland   \n",
       "293   Zubkov, Andrey        Zenit St Petersburg  Forward  Russian Federation   \n",
       "\n",
       "     Age  Height  Games  Min  Pts  Rebounds(T)  Steals  Blocks(Fv)  \n",
       "0     25     202     39  761  281          104      21           0  \n",
       "1     27     198     39  730  237           72      22           8  \n",
       "2     20     194     28  376  110           38       6           2  \n",
       "3     26     188      9   51    4            4       2           0  \n",
       "4     31     198     41  622  172          113      18           6  \n",
       "..   ...     ...    ...  ...  ...          ...     ...         ...  \n",
       "289   27     192     17   82   15            7       5           1  \n",
       "290   26     203     39  858  356          116      26          10  \n",
       "291   23     210     34  676  309          182      14          26  \n",
       "292   22     200     11  150   29           17       6           0  \n",
       "293   29     206     39  626  197           81      12           1  \n",
       "\n",
       "[294 rows x 12 columns]"
      ]
     },
     "execution_count": 4,
     "metadata": {},
     "output_type": "execute_result"
    }
   ],
   "source": [
    "df"
   ]
  },
  {
   "cell_type": "code",
   "execution_count": 5,
   "id": "0203096d",
   "metadata": {},
   "outputs": [
    {
     "name": "stdout",
     "output_type": "stream",
     "text": [
      "<class 'pandas.core.frame.DataFrame'>\n",
      "RangeIndex: 294 entries, 0 to 293\n",
      "Data columns (total 12 columns):\n",
      " #   Column       Non-Null Count  Dtype \n",
      "---  ------       --------------  ----- \n",
      " 0   Player       294 non-null    object\n",
      " 1   Club         294 non-null    object\n",
      " 2   Position     294 non-null    object\n",
      " 3   Nation       294 non-null    object\n",
      " 4   Age          294 non-null    int64 \n",
      " 5   Height       294 non-null    int64 \n",
      " 6   Games        294 non-null    int64 \n",
      " 7   Min          294 non-null    int64 \n",
      " 8   Pts          294 non-null    int64 \n",
      " 9   Rebounds(T)  294 non-null    int64 \n",
      " 10  Steals       294 non-null    int64 \n",
      " 11  Blocks(Fv)   294 non-null    int64 \n",
      "dtypes: int64(8), object(4)\n",
      "memory usage: 27.7+ KB\n"
     ]
    }
   ],
   "source": [
    "df.info()"
   ]
  },
  {
   "cell_type": "code",
   "execution_count": 6,
   "id": "27364d34",
   "metadata": {},
   "outputs": [
    {
     "data": {
      "text/html": [
       "<div>\n",
       "<style scoped>\n",
       "    .dataframe tbody tr th:only-of-type {\n",
       "        vertical-align: middle;\n",
       "    }\n",
       "\n",
       "    .dataframe tbody tr th {\n",
       "        vertical-align: top;\n",
       "    }\n",
       "\n",
       "    .dataframe thead th {\n",
       "        text-align: right;\n",
       "    }\n",
       "</style>\n",
       "<table border=\"1\" class=\"dataframe\">\n",
       "  <thead>\n",
       "    <tr style=\"text-align: right;\">\n",
       "      <th></th>\n",
       "      <th>Age</th>\n",
       "      <th>Height</th>\n",
       "      <th>Games</th>\n",
       "      <th>Min</th>\n",
       "      <th>Pts</th>\n",
       "      <th>Rebounds(T)</th>\n",
       "      <th>Steals</th>\n",
       "      <th>Blocks(Fv)</th>\n",
       "    </tr>\n",
       "  </thead>\n",
       "  <tbody>\n",
       "    <tr>\n",
       "      <th>count</th>\n",
       "      <td>294.000000</td>\n",
       "      <td>294.000000</td>\n",
       "      <td>294.000000</td>\n",
       "      <td>294.000000</td>\n",
       "      <td>294.000000</td>\n",
       "      <td>294.000000</td>\n",
       "      <td>294.000000</td>\n",
       "      <td>294.000000</td>\n",
       "    </tr>\n",
       "    <tr>\n",
       "      <th>mean</th>\n",
       "      <td>27.578231</td>\n",
       "      <td>199.710884</td>\n",
       "      <td>24.057823</td>\n",
       "      <td>450.500000</td>\n",
       "      <td>177.105442</td>\n",
       "      <td>65.227891</td>\n",
       "      <td>15.006803</td>\n",
       "      <td>5.404762</td>\n",
       "    </tr>\n",
       "    <tr>\n",
       "      <th>std</th>\n",
       "      <td>4.565676</td>\n",
       "      <td>8.186067</td>\n",
       "      <td>11.480807</td>\n",
       "      <td>305.773386</td>\n",
       "      <td>147.231397</td>\n",
       "      <td>54.368033</td>\n",
       "      <td>12.529554</td>\n",
       "      <td>8.139742</td>\n",
       "    </tr>\n",
       "    <tr>\n",
       "      <th>min</th>\n",
       "      <td>17.000000</td>\n",
       "      <td>178.000000</td>\n",
       "      <td>1.000000</td>\n",
       "      <td>2.000000</td>\n",
       "      <td>0.000000</td>\n",
       "      <td>0.000000</td>\n",
       "      <td>0.000000</td>\n",
       "      <td>0.000000</td>\n",
       "    </tr>\n",
       "    <tr>\n",
       "      <th>25%</th>\n",
       "      <td>25.000000</td>\n",
       "      <td>193.000000</td>\n",
       "      <td>15.000000</td>\n",
       "      <td>168.500000</td>\n",
       "      <td>42.250000</td>\n",
       "      <td>19.250000</td>\n",
       "      <td>5.000000</td>\n",
       "      <td>0.000000</td>\n",
       "    </tr>\n",
       "    <tr>\n",
       "      <th>50%</th>\n",
       "      <td>28.000000</td>\n",
       "      <td>200.000000</td>\n",
       "      <td>28.000000</td>\n",
       "      <td>471.000000</td>\n",
       "      <td>151.500000</td>\n",
       "      <td>52.000000</td>\n",
       "      <td>13.000000</td>\n",
       "      <td>2.000000</td>\n",
       "    </tr>\n",
       "    <tr>\n",
       "      <th>75%</th>\n",
       "      <td>31.000000</td>\n",
       "      <td>205.000000</td>\n",
       "      <td>33.000000</td>\n",
       "      <td>700.750000</td>\n",
       "      <td>281.000000</td>\n",
       "      <td>101.750000</td>\n",
       "      <td>23.000000</td>\n",
       "      <td>7.000000</td>\n",
       "    </tr>\n",
       "    <tr>\n",
       "      <th>max</th>\n",
       "      <td>40.000000</td>\n",
       "      <td>223.000000</td>\n",
       "      <td>41.000000</td>\n",
       "      <td>1200.000000</td>\n",
       "      <td>668.000000</td>\n",
       "      <td>289.000000</td>\n",
       "      <td>59.000000</td>\n",
       "      <td>63.000000</td>\n",
       "    </tr>\n",
       "  </tbody>\n",
       "</table>\n",
       "</div>"
      ],
      "text/plain": [
       "              Age      Height       Games          Min         Pts  \\\n",
       "count  294.000000  294.000000  294.000000   294.000000  294.000000   \n",
       "mean    27.578231  199.710884   24.057823   450.500000  177.105442   \n",
       "std      4.565676    8.186067   11.480807   305.773386  147.231397   \n",
       "min     17.000000  178.000000    1.000000     2.000000    0.000000   \n",
       "25%     25.000000  193.000000   15.000000   168.500000   42.250000   \n",
       "50%     28.000000  200.000000   28.000000   471.000000  151.500000   \n",
       "75%     31.000000  205.000000   33.000000   700.750000  281.000000   \n",
       "max     40.000000  223.000000   41.000000  1200.000000  668.000000   \n",
       "\n",
       "       Rebounds(T)      Steals  Blocks(Fv)  \n",
       "count   294.000000  294.000000  294.000000  \n",
       "mean     65.227891   15.006803    5.404762  \n",
       "std      54.368033   12.529554    8.139742  \n",
       "min       0.000000    0.000000    0.000000  \n",
       "25%      19.250000    5.000000    0.000000  \n",
       "50%      52.000000   13.000000    2.000000  \n",
       "75%     101.750000   23.000000    7.000000  \n",
       "max     289.000000   59.000000   63.000000  "
      ]
     },
     "execution_count": 6,
     "metadata": {},
     "output_type": "execute_result"
    }
   ],
   "source": [
    "df.describe()"
   ]
  },
  {
   "cell_type": "code",
   "execution_count": 7,
   "id": "07d1ce41",
   "metadata": {},
   "outputs": [
    {
     "data": {
      "text/plain": [
       "DescribeResult(nobs=294, minmax=(178, 223), mean=199.7108843537415, variance=67.01169000023216, skewness=0.05045624442792811, kurtosis=-0.14685846239443956)"
      ]
     },
     "execution_count": 7,
     "metadata": {},
     "output_type": "execute_result"
    }
   ],
   "source": [
    "# scipy\n",
    "\n",
    "stats.describe(df.Height)"
   ]
  },
  {
   "cell_type": "code",
   "execution_count": 8,
   "id": "fc97da40",
   "metadata": {},
   "outputs": [
    {
     "data": {
      "image/png": "[encoded data removed]",
      "text/plain": [
       "<Figure size 432x288 with 1 Axes>"
      ]
     },
     "metadata": {
      "needs_background": "light"
     },
     "output_type": "display_data"
    }
   ],
   "source": [
    "plt.hist(df.Height, bins='auto');"
   ]
  },
  {
   "cell_type": "markdown",
   "id": "966452a6",
   "metadata": {},
   "source": [
    "<div class=\"alert alert-block alert-danger\">\n",
    "    \n",
    "<b>Count - Sum - Max - Min</b>\n",
    "    \n",
    "</div>"
   ]
  },
  {
   "cell_type": "code",
   "execution_count": 9,
   "id": "0337081a",
   "metadata": {},
   "outputs": [
    {
     "data": {
      "text/plain": [
       "count      294\n",
       "max        223\n",
       "min        178\n",
       "sum      58715\n",
       "Name: Height, dtype: int64"
      ]
     },
     "execution_count": 9,
     "metadata": {},
     "output_type": "execute_result"
    }
   ],
   "source": [
    "df.Height.agg(['count', max, min, np.sum])"
   ]
  },
  {
   "cell_type": "code",
   "execution_count": 10,
   "id": "e20d4544",
   "metadata": {},
   "outputs": [
    {
     "data": {
      "text/html": [
       "<div>\n",
       "<style scoped>\n",
       "    .dataframe tbody tr th:only-of-type {\n",
       "        vertical-align: middle;\n",
       "    }\n",
       "\n",
       "    .dataframe tbody tr th {\n",
       "        vertical-align: top;\n",
       "    }\n",
       "\n",
       "    .dataframe thead th {\n",
       "        text-align: right;\n",
       "    }\n",
       "</style>\n",
       "<table border=\"1\" class=\"dataframe\">\n",
       "  <thead>\n",
       "    <tr style=\"text-align: right;\">\n",
       "      <th></th>\n",
       "      <th>count</th>\n",
       "      <th>mean</th>\n",
       "      <th>std</th>\n",
       "      <th>min</th>\n",
       "      <th>25%</th>\n",
       "      <th>50%</th>\n",
       "      <th>75%</th>\n",
       "      <th>max</th>\n",
       "    </tr>\n",
       "  </thead>\n",
       "  <tbody>\n",
       "    <tr>\n",
       "      <th>Height</th>\n",
       "      <td>294.0</td>\n",
       "      <td>199.710884</td>\n",
       "      <td>8.186067</td>\n",
       "      <td>178.0</td>\n",
       "      <td>193.0</td>\n",
       "      <td>200.0</td>\n",
       "      <td>205.0</td>\n",
       "      <td>223.0</td>\n",
       "    </tr>\n",
       "  </tbody>\n",
       "</table>\n",
       "</div>"
      ],
      "text/plain": [
       "        count        mean       std    min    25%    50%    75%    max\n",
       "Height  294.0  199.710884  8.186067  178.0  193.0  200.0  205.0  223.0"
      ]
     },
     "execution_count": 10,
     "metadata": {},
     "output_type": "execute_result"
    }
   ],
   "source": [
    "df[['Height']].describe().T"
   ]
  },
  {
   "cell_type": "markdown",
   "id": "11ec891f",
   "metadata": {},
   "source": [
    "***"
   ]
  },
  {
   "cell_type": "markdown",
   "id": "07f8d415",
   "metadata": {},
   "source": [
    "<div class=\"alert alert-block alert-danger\">\n",
    "    \n",
    "<b>Mean</b>\n",
    "    \n",
    "</div>"
   ]
  },
  {
   "cell_type": "code",
   "execution_count": 11,
   "id": "f0094a45",
   "metadata": {},
   "outputs": [
    {
     "data": {
      "text/plain": [
       "199.7108843537415"
      ]
     },
     "execution_count": 11,
     "metadata": {},
     "output_type": "execute_result"
    }
   ],
   "source": [
    "# NumPy\n",
    "\n",
    "np.mean(df.Height)"
   ]
  },
  {
   "cell_type": "code",
   "execution_count": 12,
   "id": "379b160c",
   "metadata": {},
   "outputs": [
    {
     "data": {
      "text/plain": [
       "Age             27.578231\n",
       "Height         199.710884\n",
       "Games           24.057823\n",
       "Min            450.500000\n",
       "Pts            177.105442\n",
       "Rebounds(T)     65.227891\n",
       "Steals          15.006803\n",
       "Blocks(Fv)       5.404762\n",
       "dtype: float64"
      ]
     },
     "execution_count": 12,
     "metadata": {},
     "output_type": "execute_result"
    }
   ],
   "source": [
    "np.mean(df)"
   ]
  },
  {
   "cell_type": "code",
   "execution_count": 13,
   "id": "eda64dac",
   "metadata": {},
   "outputs": [
    {
     "data": {
      "text/plain": [
       "Age             27.578231\n",
       "Height         199.710884\n",
       "Games           24.057823\n",
       "Min            450.500000\n",
       "Pts            177.105442\n",
       "Rebounds(T)     65.227891\n",
       "Steals          15.006803\n",
       "Blocks(Fv)       5.404762\n",
       "dtype: float64"
      ]
     },
     "execution_count": 13,
     "metadata": {},
     "output_type": "execute_result"
    }
   ],
   "source": [
    "# Pandas\n",
    "\n",
    "df.mean()"
   ]
  },
  {
   "cell_type": "code",
   "execution_count": 14,
   "id": "52f36c03",
   "metadata": {},
   "outputs": [
    {
     "data": {
      "text/plain": [
       "199.7108843537415"
      ]
     },
     "execution_count": 14,
     "metadata": {},
     "output_type": "execute_result"
    }
   ],
   "source": [
    "# Pandas\n",
    "\n",
    "df.Height.mean()"
   ]
  },
  {
   "cell_type": "markdown",
   "id": "c4ea3bc5",
   "metadata": {},
   "source": [
    "***"
   ]
  },
  {
   "cell_type": "markdown",
   "id": "48ba7a26",
   "metadata": {},
   "source": [
    "<div class=\"alert alert-block alert-danger\">\n",
    "    \n",
    "<b>Mode</b>\n",
    "    \n",
    "</div>"
   ]
  },
  {
   "cell_type": "code",
   "execution_count": 15,
   "id": "2e0086dd",
   "metadata": {},
   "outputs": [
    {
     "data": {
      "text/plain": [
       "0    198\n",
       "1    203\n",
       "dtype: int64"
      ]
     },
     "execution_count": 15,
     "metadata": {},
     "output_type": "execute_result"
    }
   ],
   "source": [
    "# Pandas\n",
    "\n",
    "df.Height.mode()"
   ]
  },
  {
   "cell_type": "code",
   "execution_count": 16,
   "id": "54b2d174",
   "metadata": {},
   "outputs": [
    {
     "data": {
      "text/plain": [
       "198"
      ]
     },
     "execution_count": 16,
     "metadata": {},
     "output_type": "execute_result"
    }
   ],
   "source": [
    "df.Height.mode()[0]"
   ]
  },
  {
   "cell_type": "code",
   "execution_count": 17,
   "id": "aa039a3f",
   "metadata": {},
   "outputs": [
    {
     "data": {
      "text/plain": [
       "0    USA\n",
       "dtype: object"
      ]
     },
     "execution_count": 17,
     "metadata": {},
     "output_type": "execute_result"
    }
   ],
   "source": [
    "df.Nation.mode()"
   ]
  },
  {
   "cell_type": "code",
   "execution_count": 18,
   "id": "03b2a200",
   "metadata": {},
   "outputs": [
    {
     "data": {
      "text/plain": [
       "ModeResult(mode=array([198], dtype=int64), count=array([21]))"
      ]
     },
     "execution_count": 18,
     "metadata": {},
     "output_type": "execute_result"
    }
   ],
   "source": [
    "# Scipy\n",
    "\n",
    "stats.mode(df.Height)"
   ]
  },
  {
   "cell_type": "code",
   "execution_count": 19,
   "id": "ed7b6985",
   "metadata": {},
   "outputs": [
    {
     "data": {
      "text/plain": [
       "ModeResult(mode=array(['USA'], dtype=object), count=array([81]))"
      ]
     },
     "execution_count": 19,
     "metadata": {},
     "output_type": "execute_result"
    }
   ],
   "source": [
    "stats.mode(df.Nation)"
   ]
  },
  {
   "cell_type": "markdown",
   "id": "44f780d6",
   "metadata": {},
   "source": [
    "***"
   ]
  },
  {
   "cell_type": "markdown",
   "id": "bab6eaff",
   "metadata": {},
   "source": [
    "<div class=\"alert alert-block alert-danger\">\n",
    "    \n",
    "<b>Median</b>\n",
    "    \n",
    "</div>"
   ]
  },
  {
   "cell_type": "code",
   "execution_count": 20,
   "id": "e4e559a4",
   "metadata": {},
   "outputs": [
    {
     "data": {
      "text/plain": [
       "200.0"
      ]
     },
     "execution_count": 20,
     "metadata": {},
     "output_type": "execute_result"
    }
   ],
   "source": [
    "# Numpy\n",
    "\n",
    "np.median(df.Height)"
   ]
  },
  {
   "cell_type": "code",
   "execution_count": 21,
   "id": "27453006",
   "metadata": {},
   "outputs": [
    {
     "data": {
      "text/plain": [
       "Age             28.0\n",
       "Height         200.0\n",
       "Games           28.0\n",
       "Min            471.0\n",
       "Pts            151.5\n",
       "Rebounds(T)     52.0\n",
       "Steals          13.0\n",
       "Blocks(Fv)       2.0\n",
       "dtype: float64"
      ]
     },
     "execution_count": 21,
     "metadata": {},
     "output_type": "execute_result"
    }
   ],
   "source": [
    "# Pandas\n",
    "\n",
    "df.median()"
   ]
  },
  {
   "cell_type": "code",
   "execution_count": 22,
   "id": "273a47ce",
   "metadata": {},
   "outputs": [
    {
     "data": {
      "text/plain": [
       "200.0"
      ]
     },
     "execution_count": 22,
     "metadata": {},
     "output_type": "execute_result"
    }
   ],
   "source": [
    "df['Height'].median()"
   ]
  },
  {
   "cell_type": "code",
   "execution_count": 23,
   "id": "61e41597",
   "metadata": {},
   "outputs": [
    {
     "data": {
      "text/plain": [
       "0    71.5\n",
       "dtype: float64"
      ]
     },
     "execution_count": 23,
     "metadata": {},
     "output_type": "execute_result"
    }
   ],
   "source": [
    "df.iloc[[0]].median(axis=1, skipna=True)  # If we set skipna=True, it ignores the NaN in the dataframe."
   ]
  },
  {
   "cell_type": "code",
   "execution_count": 24,
   "id": "89477181",
   "metadata": {},
   "outputs": [
    {
     "data": {
      "text/plain": [
       "200.0"
      ]
     },
     "execution_count": 24,
     "metadata": {},
     "output_type": "execute_result"
    }
   ],
   "source": [
    "# with pandas quantile\n",
    "\n",
    "df.Height.quantile(.5)"
   ]
  },
  {
   "cell_type": "code",
   "execution_count": 25,
   "id": "3c0c9aec",
   "metadata": {},
   "outputs": [
    {
     "data": {
      "text/plain": [
       "200.0"
      ]
     },
     "execution_count": 25,
     "metadata": {},
     "output_type": "execute_result"
    }
   ],
   "source": [
    "# with numpy percentile\n",
    "\n",
    "np.percentile(df.Height, 50)"
   ]
  },
  {
   "cell_type": "code",
   "execution_count": 26,
   "id": "4d76cd7c",
   "metadata": {},
   "outputs": [
    {
     "data": {
      "text/plain": [
       "True"
      ]
     },
     "execution_count": 26,
     "metadata": {},
     "output_type": "execute_result"
    }
   ],
   "source": [
    "np.percentile(df.Height, 50) == np.median(df.Height)"
   ]
  },
  {
   "cell_type": "markdown",
   "id": "89615a7d",
   "metadata": {},
   "source": [
    "***"
   ]
  },
  {
   "cell_type": "markdown",
   "id": "c1cbed26",
   "metadata": {},
   "source": [
    "<div class=\"alert alert-block alert-danger\">\n",
    "    \n",
    "<b>Range</b>\n",
    "    \n",
    "</div>"
   ]
  },
  {
   "cell_type": "code",
   "execution_count": 27,
   "id": "5e3bc22b",
   "metadata": {},
   "outputs": [
    {
     "data": {
      "text/plain": [
       "45"
      ]
     },
     "execution_count": 27,
     "metadata": {},
     "output_type": "execute_result"
    }
   ],
   "source": [
    "# with Pandas\n",
    "\n",
    "df.Height.max() - df.Height.min()"
   ]
  },
  {
   "cell_type": "code",
   "execution_count": 28,
   "id": "3adff8f1",
   "metadata": {},
   "outputs": [
    {
     "data": {
      "text/plain": [
       "45"
      ]
     },
     "execution_count": 28,
     "metadata": {},
     "output_type": "execute_result"
    }
   ],
   "source": [
    "# with NumPy\n",
    "\n",
    "np.max(df.Height) - np.min(df.Height)"
   ]
  },
  {
   "cell_type": "markdown",
   "id": "182216db",
   "metadata": {},
   "source": [
    "***"
   ]
  },
  {
   "cell_type": "markdown",
   "id": "c1b4f9cc",
   "metadata": {},
   "source": [
    "<div class=\"alert alert-block alert-danger\">\n",
    "    \n",
    "<b>Variance and Standard Deviation</b>\n",
    "    \n",
    "</div>"
   ]
  },
  {
   "cell_type": "code",
   "execution_count": 29,
   "id": "797f7e11",
   "metadata": {},
   "outputs": [
    {
     "data": {
      "text/plain": [
       "66.78375908186403"
      ]
     },
     "execution_count": 29,
     "metadata": {},
     "output_type": "execute_result"
    }
   ],
   "source": [
    "np.var(df.Height)  # population variance"
   ]
  },
  {
   "cell_type": "code",
   "execution_count": 30,
   "id": "eb424506",
   "metadata": {},
   "outputs": [
    {
     "data": {
      "text/plain": [
       "8.172133080283508"
      ]
     },
     "execution_count": 30,
     "metadata": {},
     "output_type": "execute_result"
    }
   ],
   "source": [
    "np.std(df.Height)  # population standard deviation"
   ]
  },
  {
   "cell_type": "code",
   "execution_count": 31,
   "id": "0989f727",
   "metadata": {},
   "outputs": [
    {
     "data": {
      "text/plain": [
       "8.172133080283508"
      ]
     },
     "execution_count": 31,
     "metadata": {},
     "output_type": "execute_result"
    }
   ],
   "source": [
    "np.sqrt(np.var(df.Height))"
   ]
  },
  {
   "cell_type": "code",
   "execution_count": 32,
   "id": "01e82aa7",
   "metadata": {},
   "outputs": [
    {
     "data": {
      "text/plain": [
       "67.01169000023216"
      ]
     },
     "execution_count": 32,
     "metadata": {},
     "output_type": "execute_result"
    }
   ],
   "source": [
    "np.var(df.Height, ddof=1)  # sample variance"
   ]
  },
  {
   "cell_type": "code",
   "execution_count": 33,
   "id": "9a5cc6c1",
   "metadata": {},
   "outputs": [
    {
     "data": {
      "text/plain": [
       "8.186066821143848"
      ]
     },
     "execution_count": 33,
     "metadata": {},
     "output_type": "execute_result"
    }
   ],
   "source": [
    "np.std(df.Height, ddof=1)  # sample standard deviation"
   ]
  },
  {
   "cell_type": "code",
   "execution_count": null,
   "id": "8d1f3eb0",
   "metadata": {},
   "outputs": [],
   "source": []
  },
  {
   "cell_type": "code",
   "execution_count": 34,
   "id": "c80388e3",
   "metadata": {},
   "outputs": [
    {
     "data": {
      "text/plain": [
       "8.186066821143848"
      ]
     },
     "execution_count": 34,
     "metadata": {},
     "output_type": "execute_result"
    }
   ],
   "source": [
    "# with pandas\n",
    "# default value is sample standard deviation and sample variance\n",
    "\n",
    "df.Height.std()"
   ]
  },
  {
   "cell_type": "code",
   "execution_count": 35,
   "id": "43be8ead",
   "metadata": {},
   "outputs": [
    {
     "data": {
      "text/plain": [
       "8.186066821143848"
      ]
     },
     "execution_count": 35,
     "metadata": {},
     "output_type": "execute_result"
    }
   ],
   "source": [
    "df.Height.agg(np.std)"
   ]
  },
  {
   "cell_type": "code",
   "execution_count": 36,
   "id": "271fa5a7",
   "metadata": {},
   "outputs": [
    {
     "data": {
      "text/plain": [
       "67.01169000023216"
      ]
     },
     "execution_count": 36,
     "metadata": {},
     "output_type": "execute_result"
    }
   ],
   "source": [
    "df.Height.var()"
   ]
  },
  {
   "cell_type": "markdown",
   "id": "57a9567a",
   "metadata": {},
   "source": [
    "***"
   ]
  },
  {
   "cell_type": "markdown",
   "id": "795fae37",
   "metadata": {},
   "source": [
    "<div class=\"alert alert-block alert-danger\">\n",
    "    \n",
    "<b>Standard Error (SE)</b>\n",
    "    \n",
    "</div>"
   ]
  },
  {
   "cell_type": "code",
   "execution_count": 37,
   "id": "4e596dcd",
   "metadata": {},
   "outputs": [
    {
     "data": {
      "text/plain": [
       "294"
      ]
     },
     "execution_count": 37,
     "metadata": {},
     "output_type": "execute_result"
    }
   ],
   "source": [
    "df.Height.count()"
   ]
  },
  {
   "cell_type": "code",
   "execution_count": 38,
   "id": "72a423a0",
   "metadata": {},
   "outputs": [
    {
     "data": {
      "text/plain": [
       "8.186066821143848"
      ]
     },
     "execution_count": 38,
     "metadata": {},
     "output_type": "execute_result"
    }
   ],
   "source": [
    "df.Height.std()"
   ]
  },
  {
   "cell_type": "code",
   "execution_count": 39,
   "id": "22b7fa19",
   "metadata": {},
   "outputs": [],
   "source": [
    "se = df.Height.std() / df.Height.count()**0.5"
   ]
  },
  {
   "cell_type": "code",
   "execution_count": 40,
   "id": "9989a0cb",
   "metadata": {},
   "outputs": [
    {
     "data": {
      "text/plain": [
       "0.47742111219356076"
      ]
     },
     "execution_count": 40,
     "metadata": {},
     "output_type": "execute_result"
    }
   ],
   "source": [
    "se"
   ]
  },
  {
   "cell_type": "code",
   "execution_count": 41,
   "id": "3359f833",
   "metadata": {},
   "outputs": [
    {
     "data": {
      "text/plain": [
       "0.47742111219356076"
      ]
     },
     "execution_count": 41,
     "metadata": {},
     "output_type": "execute_result"
    }
   ],
   "source": [
    "# with pandas function\n",
    "\n",
    "df.Height.sem()"
   ]
  },
  {
   "cell_type": "code",
   "execution_count": 42,
   "id": "6a33b77a",
   "metadata": {},
   "outputs": [
    {
     "data": {
      "text/plain": [
       "0.47742111219356076"
      ]
     },
     "execution_count": 42,
     "metadata": {},
     "output_type": "execute_result"
    }
   ],
   "source": [
    "df.Height.sem(ddof=1)  # delta degrees of freedom"
   ]
  },
  {
   "cell_type": "markdown",
   "id": "4ccc56a2",
   "metadata": {},
   "source": [
    "<div class=\"alert alert-block alert-danger\">\n",
    "    \n",
    "<b>Inter Quartile Range (IQR)</b>\n",
    "    \n",
    "</div>"
   ]
  },
  {
   "cell_type": "code",
   "execution_count": null,
   "id": "74467d2f",
   "metadata": {},
   "outputs": [],
   "source": [
    "# WITH NUMPY"
   ]
  },
  {
   "cell_type": "code",
   "execution_count": 43,
   "id": "6a8d2cd0",
   "metadata": {},
   "outputs": [
    {
     "data": {
      "text/plain": [
       "193.0"
      ]
     },
     "execution_count": 43,
     "metadata": {},
     "output_type": "execute_result"
    }
   ],
   "source": [
    "np.percentile(df.Height, 25)"
   ]
  },
  {
   "cell_type": "code",
   "execution_count": 44,
   "id": "e4df7766",
   "metadata": {},
   "outputs": [
    {
     "data": {
      "text/plain": [
       "205.0"
      ]
     },
     "execution_count": 44,
     "metadata": {},
     "output_type": "execute_result"
    }
   ],
   "source": [
    "np.percentile(df.Height, 75)"
   ]
  },
  {
   "cell_type": "code",
   "execution_count": 45,
   "id": "86ab6470",
   "metadata": {},
   "outputs": [
    {
     "data": {
      "text/plain": [
       "array([193., 205.])"
      ]
     },
     "execution_count": 45,
     "metadata": {},
     "output_type": "execute_result"
    }
   ],
   "source": [
    "np.percentile(df.Height, [25, 75])"
   ]
  },
  {
   "cell_type": "code",
   "execution_count": 46,
   "id": "5bd843da",
   "metadata": {},
   "outputs": [
    {
     "data": {
      "text/plain": [
       "12.0"
      ]
     },
     "execution_count": 46,
     "metadata": {},
     "output_type": "execute_result"
    }
   ],
   "source": [
    "IQR = np.percentile(df.Height, 75)-np.percentile(df.Height, 25)\n",
    "IQR"
   ]
  },
  {
   "cell_type": "code",
   "execution_count": 47,
   "id": "7580a5c5",
   "metadata": {},
   "outputs": [
    {
     "data": {
      "text/plain": [
       "12.0"
      ]
     },
     "execution_count": 47,
     "metadata": {},
     "output_type": "execute_result"
    }
   ],
   "source": [
    "# WITH SCIPY\n",
    "\n",
    "stats.iqr(df.Height)"
   ]
  },
  {
   "cell_type": "code",
   "execution_count": null,
   "id": "17320c48",
   "metadata": {},
   "outputs": [],
   "source": [
    "# WITH PANDAS"
   ]
  },
  {
   "cell_type": "code",
   "execution_count": 48,
   "id": "0d432177",
   "metadata": {},
   "outputs": [],
   "source": [
    "Q1 = df['Height'].quantile(0.25)\n",
    "Q3 = df['Height'].quantile(0.75)\n",
    "IQR = Q3 - Q1"
   ]
  },
  {
   "cell_type": "code",
   "execution_count": 49,
   "id": "9008a0c2",
   "metadata": {},
   "outputs": [
    {
     "data": {
      "text/plain": [
       "12.0"
      ]
     },
     "execution_count": 49,
     "metadata": {},
     "output_type": "execute_result"
    }
   ],
   "source": [
    "IQR"
   ]
  },
  {
   "cell_type": "code",
   "execution_count": 50,
   "id": "905cdf44",
   "metadata": {},
   "outputs": [
    {
     "data": {
      "text/plain": [
       "0.10    190.0\n",
       "0.25    193.0\n",
       "0.50    200.0\n",
       "0.75    205.0\n",
       "1.00    223.0\n",
       "Name: Height, dtype: float64"
      ]
     },
     "execution_count": 50,
     "metadata": {},
     "output_type": "execute_result"
    }
   ],
   "source": [
    "df.Height.quantile([.1, .25, .5, .75, 1])"
   ]
  },
  {
   "cell_type": "markdown",
   "id": "c8f4c2a8",
   "metadata": {},
   "source": [
    "***"
   ]
  },
  {
   "cell_type": "markdown",
   "id": "04b717ca",
   "metadata": {},
   "source": [
    "<div class=\"alert alert-block alert-danger\">\n",
    "    \n",
    "<b>Skewness and Kurtosis</b>\n",
    "    \n",
    "</div>"
   ]
  },
  {
   "cell_type": "markdown",
   "id": "1928efcc",
   "metadata": {},
   "source": [
    "#### SHAPE OF A DISTRIBUTION"
   ]
  },
  {
   "cell_type": "code",
   "execution_count": 51,
   "id": "0f919c7d",
   "metadata": {},
   "outputs": [],
   "source": [
    "skewness = stats.skew(df.Height)      # \"stats.skew(samples, bias=False)\" for sample\n",
    "kurtosis = stats.kurtosis(df.Height)  # \"stats.kurtosis(samples, bias=False)\" for sample"
   ]
  },
  {
   "cell_type": "code",
   "execution_count": 52,
   "id": "c9de2003",
   "metadata": {},
   "outputs": [
    {
     "data": {
      "text/plain": [
       "0.05045624442792811"
      ]
     },
     "execution_count": 52,
     "metadata": {},
     "output_type": "execute_result"
    }
   ],
   "source": [
    "skewness"
   ]
  },
  {
   "cell_type": "code",
   "execution_count": 53,
   "id": "2afdbe19",
   "metadata": {},
   "outputs": [
    {
     "data": {
      "text/plain": [
       "0.050715363871748145"
      ]
     },
     "execution_count": 53,
     "metadata": {},
     "output_type": "execute_result"
    }
   ],
   "source": [
    "stats.skew(df.Height, bias=False)"
   ]
  },
  {
   "cell_type": "code",
   "execution_count": 54,
   "id": "2331b1f8",
   "metadata": {},
   "outputs": [
    {
     "data": {
      "text/plain": [
       "-0.14685846239443956"
      ]
     },
     "execution_count": 54,
     "metadata": {},
     "output_type": "execute_result"
    }
   ],
   "source": [
    "kurtosis"
   ]
  },
  {
   "cell_type": "code",
   "execution_count": 55,
   "id": "f6161acd",
   "metadata": {},
   "outputs": [
    {
     "data": {
      "text/plain": [
       "-0.12869782042394418"
      ]
     },
     "execution_count": 55,
     "metadata": {},
     "output_type": "execute_result"
    }
   ],
   "source": [
    "stats.kurtosis(df.Height, bias=False)"
   ]
  },
  {
   "cell_type": "code",
   "execution_count": null,
   "id": "fda99c7b",
   "metadata": {},
   "outputs": [],
   "source": [
    "# with pandas"
   ]
  },
  {
   "cell_type": "code",
   "execution_count": 56,
   "id": "c35ba8e6",
   "metadata": {},
   "outputs": [
    {
     "data": {
      "text/plain": [
       "0.050715363871748166"
      ]
     },
     "execution_count": 56,
     "metadata": {},
     "output_type": "execute_result"
    }
   ],
   "source": [
    "df.Height.skew() # default value is for samples"
   ]
  },
  {
   "cell_type": "code",
   "execution_count": 57,
   "id": "e5a2ebd6",
   "metadata": {},
   "outputs": [
    {
     "data": {
      "text/plain": [
       "-0.12869782042394373"
      ]
     },
     "execution_count": 57,
     "metadata": {},
     "output_type": "execute_result"
    }
   ],
   "source": [
    "df.Height.kurtosis()\n",
    "# df.Height.kurt()"
   ]
  },
  {
   "cell_type": "code",
   "execution_count": 58,
   "id": "bc9a19db",
   "metadata": {},
   "outputs": [
    {
     "data": {
      "text/html": [
       "<div>\n",
       "<style scoped>\n",
       "    .dataframe tbody tr th:only-of-type {\n",
       "        vertical-align: middle;\n",
       "    }\n",
       "\n",
       "    .dataframe tbody tr th {\n",
       "        vertical-align: top;\n",
       "    }\n",
       "\n",
       "    .dataframe thead th {\n",
       "        text-align: right;\n",
       "    }\n",
       "</style>\n",
       "<table border=\"1\" class=\"dataframe\">\n",
       "  <thead>\n",
       "    <tr style=\"text-align: right;\">\n",
       "      <th></th>\n",
       "      <th>Age</th>\n",
       "      <th>Height</th>\n",
       "      <th>Games</th>\n",
       "      <th>Min</th>\n",
       "      <th>Pts</th>\n",
       "      <th>Rebounds(T)</th>\n",
       "      <th>Steals</th>\n",
       "      <th>Blocks(Fv)</th>\n",
       "    </tr>\n",
       "    <tr>\n",
       "      <th>Position</th>\n",
       "      <th></th>\n",
       "      <th></th>\n",
       "      <th></th>\n",
       "      <th></th>\n",
       "      <th></th>\n",
       "      <th></th>\n",
       "      <th></th>\n",
       "      <th></th>\n",
       "    </tr>\n",
       "  </thead>\n",
       "  <tbody>\n",
       "    <tr>\n",
       "      <th>Center</th>\n",
       "      <td>-0.117843</td>\n",
       "      <td>0.540566</td>\n",
       "      <td>-0.350123</td>\n",
       "      <td>0.258308</td>\n",
       "      <td>0.595392</td>\n",
       "      <td>0.480182</td>\n",
       "      <td>1.026888</td>\n",
       "      <td>1.792508</td>\n",
       "    </tr>\n",
       "    <tr>\n",
       "      <th>Forward</th>\n",
       "      <td>-0.011640</td>\n",
       "      <td>-0.770066</td>\n",
       "      <td>-0.633730</td>\n",
       "      <td>-0.133303</td>\n",
       "      <td>0.465465</td>\n",
       "      <td>0.374201</td>\n",
       "      <td>0.454310</td>\n",
       "      <td>1.141684</td>\n",
       "    </tr>\n",
       "    <tr>\n",
       "      <th>Guard</th>\n",
       "      <td>-0.195171</td>\n",
       "      <td>-0.530791</td>\n",
       "      <td>-0.550831</td>\n",
       "      <td>0.265926</td>\n",
       "      <td>0.781297</td>\n",
       "      <td>0.592102</td>\n",
       "      <td>0.812287</td>\n",
       "      <td>2.188251</td>\n",
       "    </tr>\n",
       "  </tbody>\n",
       "</table>\n",
       "</div>"
      ],
      "text/plain": [
       "               Age    Height     Games       Min       Pts  Rebounds(T)  \\\n",
       "Position                                                                  \n",
       "Center   -0.117843  0.540566 -0.350123  0.258308  0.595392     0.480182   \n",
       "Forward  -0.011640 -0.770066 -0.633730 -0.133303  0.465465     0.374201   \n",
       "Guard    -0.195171 -0.530791 -0.550831  0.265926  0.781297     0.592102   \n",
       "\n",
       "            Steals  Blocks(Fv)  \n",
       "Position                        \n",
       "Center    1.026888    1.792508  \n",
       "Forward   0.454310    1.141684  \n",
       "Guard     0.812287    2.188251  "
      ]
     },
     "execution_count": 58,
     "metadata": {},
     "output_type": "execute_result"
    }
   ],
   "source": [
    "df.groupby('Position').skew(numeric_only=True)"
   ]
  },
  {
   "cell_type": "markdown",
   "id": "f0f21dfc",
   "metadata": {},
   "source": [
    "***"
   ]
  },
  {
   "cell_type": "markdown",
   "id": "bcab8d06",
   "metadata": {},
   "source": [
    "<div class=\"alert alert-block alert-danger\">\n",
    "    \n",
    "<b>Covariance</b>\n",
    "    \n",
    "</div>"
   ]
  },
  {
   "cell_type": "code",
   "execution_count": 59,
   "id": "cec1dba1",
   "metadata": {},
   "outputs": [
    {
     "data": {
      "text/plain": [
       "Index(['Player', 'Club', 'Position', 'Nation', 'Age', 'Height', 'Games', 'Min',\n",
       "       'Pts', 'Rebounds(T)', 'Steals', 'Blocks(Fv)'],\n",
       "      dtype='object')"
      ]
     },
     "execution_count": 59,
     "metadata": {},
     "output_type": "execute_result"
    }
   ],
   "source": [
    "df.columns"
   ]
  },
  {
   "cell_type": "code",
   "execution_count": 60,
   "id": "9a444527",
   "metadata": {},
   "outputs": [
    {
     "data": {
      "text/plain": [
       "array([[ 67.01169   , -13.76253163],\n",
       "       [-13.76253163, 156.98971466]])"
      ]
     },
     "execution_count": 60,
     "metadata": {},
     "output_type": "execute_result"
    }
   ],
   "source": [
    "np.cov(df.Height, df.Steals)"
   ]
  },
  {
   "cell_type": "code",
   "execution_count": 61,
   "id": "f4fa558e",
   "metadata": {},
   "outputs": [
    {
     "data": {
      "text/plain": [
       "array([[ 66.78375908, -13.7157203 ],\n",
       "       [-13.7157203 , 156.45573604]])"
      ]
     },
     "execution_count": 61,
     "metadata": {},
     "output_type": "execute_result"
    }
   ],
   "source": [
    "np.cov(df.Height, df.Steals, bias=True)  # for sample"
   ]
  },
  {
   "cell_type": "code",
   "execution_count": 62,
   "id": "d293476f",
   "metadata": {},
   "outputs": [
    {
     "data": {
      "text/plain": [
       "67.01169000023216"
      ]
     },
     "execution_count": 62,
     "metadata": {},
     "output_type": "execute_result"
    }
   ],
   "source": [
    "# with scipy\n",
    "\n",
    "stats.tvar(df.Height)"
   ]
  },
  {
   "cell_type": "code",
   "execution_count": 63,
   "id": "2553703f",
   "metadata": {},
   "outputs": [
    {
     "data": {
      "text/plain": [
       "156.98971465719396"
      ]
     },
     "execution_count": 63,
     "metadata": {},
     "output_type": "execute_result"
    }
   ],
   "source": [
    "stats.tvar(df.Steals)"
   ]
  },
  {
   "cell_type": "markdown",
   "id": "a20d71e0",
   "metadata": {},
   "source": [
    "***"
   ]
  },
  {
   "cell_type": "markdown",
   "id": "a3046c02",
   "metadata": {},
   "source": [
    "<div class=\"alert alert-block alert-danger\">\n",
    "    \n",
    "<b>Correlation</b>\n",
    "    \n",
    "</div>"
   ]
  },
  {
   "cell_type": "markdown",
   "id": "cfcf582e",
   "metadata": {},
   "source": [
    "### Numpy"
   ]
  },
  {
   "cell_type": "code",
   "execution_count": 64,
   "id": "9cc83bdf",
   "metadata": {},
   "outputs": [
    {
     "data": {
      "text/plain": [
       "array([[ 1.        , -0.13417989],\n",
       "       [-0.13417989,  1.        ]])"
      ]
     },
     "execution_count": 64,
     "metadata": {},
     "output_type": "execute_result"
    }
   ],
   "source": [
    "np.corrcoef(df.Height, df.Steals)"
   ]
  },
  {
   "cell_type": "markdown",
   "id": "74e24028",
   "metadata": {},
   "source": [
    "### Pandas"
   ]
  },
  {
   "cell_type": "code",
   "execution_count": 65,
   "id": "47e4dd69",
   "metadata": {},
   "outputs": [
    {
     "data": {
      "text/html": [
       "<div>\n",
       "<style scoped>\n",
       "    .dataframe tbody tr th:only-of-type {\n",
       "        vertical-align: middle;\n",
       "    }\n",
       "\n",
       "    .dataframe tbody tr th {\n",
       "        vertical-align: top;\n",
       "    }\n",
       "\n",
       "    .dataframe thead th {\n",
       "        text-align: right;\n",
       "    }\n",
       "</style>\n",
       "<table border=\"1\" class=\"dataframe\">\n",
       "  <thead>\n",
       "    <tr style=\"text-align: right;\">\n",
       "      <th></th>\n",
       "      <th>Age</th>\n",
       "      <th>Height</th>\n",
       "      <th>Games</th>\n",
       "      <th>Min</th>\n",
       "      <th>Pts</th>\n",
       "      <th>Rebounds(T)</th>\n",
       "      <th>Steals</th>\n",
       "      <th>Blocks(Fv)</th>\n",
       "    </tr>\n",
       "  </thead>\n",
       "  <tbody>\n",
       "    <tr>\n",
       "      <th>Age</th>\n",
       "      <td>1.000000</td>\n",
       "      <td>-0.065369</td>\n",
       "      <td>0.329799</td>\n",
       "      <td>0.317331</td>\n",
       "      <td>0.251841</td>\n",
       "      <td>0.206932</td>\n",
       "      <td>0.255639</td>\n",
       "      <td>0.049518</td>\n",
       "    </tr>\n",
       "    <tr>\n",
       "      <th>Height</th>\n",
       "      <td>-0.065369</td>\n",
       "      <td>1.000000</td>\n",
       "      <td>-0.003925</td>\n",
       "      <td>-0.039851</td>\n",
       "      <td>-0.052875</td>\n",
       "      <td>0.362994</td>\n",
       "      <td>-0.134180</td>\n",
       "      <td>0.465772</td>\n",
       "    </tr>\n",
       "    <tr>\n",
       "      <th>Games</th>\n",
       "      <td>0.329799</td>\n",
       "      <td>-0.003925</td>\n",
       "      <td>1.000000</td>\n",
       "      <td>0.877602</td>\n",
       "      <td>0.748415</td>\n",
       "      <td>0.726125</td>\n",
       "      <td>0.734245</td>\n",
       "      <td>0.382385</td>\n",
       "    </tr>\n",
       "    <tr>\n",
       "      <th>Min</th>\n",
       "      <td>0.317331</td>\n",
       "      <td>-0.039851</td>\n",
       "      <td>0.877602</td>\n",
       "      <td>1.000000</td>\n",
       "      <td>0.925177</td>\n",
       "      <td>0.796655</td>\n",
       "      <td>0.873610</td>\n",
       "      <td>0.398799</td>\n",
       "    </tr>\n",
       "    <tr>\n",
       "      <th>Pts</th>\n",
       "      <td>0.251841</td>\n",
       "      <td>-0.052875</td>\n",
       "      <td>0.748415</td>\n",
       "      <td>0.925177</td>\n",
       "      <td>1.000000</td>\n",
       "      <td>0.729195</td>\n",
       "      <td>0.821172</td>\n",
       "      <td>0.370077</td>\n",
       "    </tr>\n",
       "    <tr>\n",
       "      <th>Rebounds(T)</th>\n",
       "      <td>0.206932</td>\n",
       "      <td>0.362994</td>\n",
       "      <td>0.726125</td>\n",
       "      <td>0.796655</td>\n",
       "      <td>0.729195</td>\n",
       "      <td>1.000000</td>\n",
       "      <td>0.660039</td>\n",
       "      <td>0.690989</td>\n",
       "    </tr>\n",
       "    <tr>\n",
       "      <th>Steals</th>\n",
       "      <td>0.255639</td>\n",
       "      <td>-0.134180</td>\n",
       "      <td>0.734245</td>\n",
       "      <td>0.873610</td>\n",
       "      <td>0.821172</td>\n",
       "      <td>0.660039</td>\n",
       "      <td>1.000000</td>\n",
       "      <td>0.322773</td>\n",
       "    </tr>\n",
       "    <tr>\n",
       "      <th>Blocks(Fv)</th>\n",
       "      <td>0.049518</td>\n",
       "      <td>0.465772</td>\n",
       "      <td>0.382385</td>\n",
       "      <td>0.398799</td>\n",
       "      <td>0.370077</td>\n",
       "      <td>0.690989</td>\n",
       "      <td>0.322773</td>\n",
       "      <td>1.000000</td>\n",
       "    </tr>\n",
       "  </tbody>\n",
       "</table>\n",
       "</div>"
      ],
      "text/plain": [
       "                  Age    Height     Games       Min       Pts  Rebounds(T)  \\\n",
       "Age          1.000000 -0.065369  0.329799  0.317331  0.251841     0.206932   \n",
       "Height      -0.065369  1.000000 -0.003925 -0.039851 -0.052875     0.362994   \n",
       "Games        0.329799 -0.003925  1.000000  0.877602  0.748415     0.726125   \n",
       "Min          0.317331 -0.039851  0.877602  1.000000  0.925177     0.796655   \n",
       "Pts          0.251841 -0.052875  0.748415  0.925177  1.000000     0.729195   \n",
       "Rebounds(T)  0.206932  0.362994  0.726125  0.796655  0.729195     1.000000   \n",
       "Steals       0.255639 -0.134180  0.734245  0.873610  0.821172     0.660039   \n",
       "Blocks(Fv)   0.049518  0.465772  0.382385  0.398799  0.370077     0.690989   \n",
       "\n",
       "               Steals  Blocks(Fv)  \n",
       "Age          0.255639    0.049518  \n",
       "Height      -0.134180    0.465772  \n",
       "Games        0.734245    0.382385  \n",
       "Min          0.873610    0.398799  \n",
       "Pts          0.821172    0.370077  \n",
       "Rebounds(T)  0.660039    0.690989  \n",
       "Steals       1.000000    0.322773  \n",
       "Blocks(Fv)   0.322773    1.000000  "
      ]
     },
     "execution_count": 65,
     "metadata": {},
     "output_type": "execute_result"
    }
   ],
   "source": [
    "df.corr()"
   ]
  },
  {
   "cell_type": "code",
   "execution_count": 66,
   "id": "45ea3c68",
   "metadata": {},
   "outputs": [
    {
     "data": {
      "text/plain": [
       "-0.1341798941077568"
      ]
     },
     "execution_count": 66,
     "metadata": {},
     "output_type": "execute_result"
    }
   ],
   "source": [
    "df.Height.corr(df.Steals)"
   ]
  },
  {
   "cell_type": "code",
   "execution_count": 67,
   "id": "903fc52f",
   "metadata": {},
   "outputs": [
    {
     "data": {
      "text/plain": [
       "-0.13417989410775719"
      ]
     },
     "execution_count": 67,
     "metadata": {},
     "output_type": "execute_result"
    }
   ],
   "source": [
    "df.corr().loc['Height', 'Steals']"
   ]
  },
  {
   "cell_type": "code",
   "execution_count": null,
   "id": "7592ae0a",
   "metadata": {},
   "outputs": [],
   "source": [
    "# spearman"
   ]
  },
  {
   "cell_type": "code",
   "execution_count": 68,
   "id": "660d92b0",
   "metadata": {},
   "outputs": [
    {
     "data": {
      "text/html": [
       "<div>\n",
       "<style scoped>\n",
       "    .dataframe tbody tr th:only-of-type {\n",
       "        vertical-align: middle;\n",
       "    }\n",
       "\n",
       "    .dataframe tbody tr th {\n",
       "        vertical-align: top;\n",
       "    }\n",
       "\n",
       "    .dataframe thead th {\n",
       "        text-align: right;\n",
       "    }\n",
       "</style>\n",
       "<table border=\"1\" class=\"dataframe\">\n",
       "  <thead>\n",
       "    <tr style=\"text-align: right;\">\n",
       "      <th></th>\n",
       "      <th>Age</th>\n",
       "      <th>Height</th>\n",
       "      <th>Games</th>\n",
       "      <th>Min</th>\n",
       "      <th>Pts</th>\n",
       "      <th>Rebounds(T)</th>\n",
       "      <th>Steals</th>\n",
       "      <th>Blocks(Fv)</th>\n",
       "    </tr>\n",
       "  </thead>\n",
       "  <tbody>\n",
       "    <tr>\n",
       "      <th>Age</th>\n",
       "      <td>1.000000</td>\n",
       "      <td>-0.077992</td>\n",
       "      <td>0.294219</td>\n",
       "      <td>0.320439</td>\n",
       "      <td>0.297643</td>\n",
       "      <td>0.256063</td>\n",
       "      <td>0.303392</td>\n",
       "      <td>0.166543</td>\n",
       "    </tr>\n",
       "    <tr>\n",
       "      <th>Height</th>\n",
       "      <td>-0.077992</td>\n",
       "      <td>1.000000</td>\n",
       "      <td>0.003762</td>\n",
       "      <td>-0.035377</td>\n",
       "      <td>-0.026214</td>\n",
       "      <td>0.319475</td>\n",
       "      <td>-0.116501</td>\n",
       "      <td>0.519252</td>\n",
       "    </tr>\n",
       "    <tr>\n",
       "      <th>Games</th>\n",
       "      <td>0.294219</td>\n",
       "      <td>0.003762</td>\n",
       "      <td>1.000000</td>\n",
       "      <td>0.884516</td>\n",
       "      <td>0.812355</td>\n",
       "      <td>0.811797</td>\n",
       "      <td>0.803117</td>\n",
       "      <td>0.510379</td>\n",
       "    </tr>\n",
       "    <tr>\n",
       "      <th>Min</th>\n",
       "      <td>0.320439</td>\n",
       "      <td>-0.035377</td>\n",
       "      <td>0.884516</td>\n",
       "      <td>1.000000</td>\n",
       "      <td>0.955337</td>\n",
       "      <td>0.875682</td>\n",
       "      <td>0.918351</td>\n",
       "      <td>0.531931</td>\n",
       "    </tr>\n",
       "    <tr>\n",
       "      <th>Pts</th>\n",
       "      <td>0.297643</td>\n",
       "      <td>-0.026214</td>\n",
       "      <td>0.812355</td>\n",
       "      <td>0.955337</td>\n",
       "      <td>1.000000</td>\n",
       "      <td>0.847482</td>\n",
       "      <td>0.875183</td>\n",
       "      <td>0.518173</td>\n",
       "    </tr>\n",
       "    <tr>\n",
       "      <th>Rebounds(T)</th>\n",
       "      <td>0.256063</td>\n",
       "      <td>0.319475</td>\n",
       "      <td>0.811797</td>\n",
       "      <td>0.875682</td>\n",
       "      <td>0.847482</td>\n",
       "      <td>1.000000</td>\n",
       "      <td>0.791083</td>\n",
       "      <td>0.744558</td>\n",
       "    </tr>\n",
       "    <tr>\n",
       "      <th>Steals</th>\n",
       "      <td>0.303392</td>\n",
       "      <td>-0.116501</td>\n",
       "      <td>0.803117</td>\n",
       "      <td>0.918351</td>\n",
       "      <td>0.875183</td>\n",
       "      <td>0.791083</td>\n",
       "      <td>1.000000</td>\n",
       "      <td>0.490664</td>\n",
       "    </tr>\n",
       "    <tr>\n",
       "      <th>Blocks(Fv)</th>\n",
       "      <td>0.166543</td>\n",
       "      <td>0.519252</td>\n",
       "      <td>0.510379</td>\n",
       "      <td>0.531931</td>\n",
       "      <td>0.518173</td>\n",
       "      <td>0.744558</td>\n",
       "      <td>0.490664</td>\n",
       "      <td>1.000000</td>\n",
       "    </tr>\n",
       "  </tbody>\n",
       "</table>\n",
       "</div>"
      ],
      "text/plain": [
       "                  Age    Height     Games       Min       Pts  Rebounds(T)  \\\n",
       "Age          1.000000 -0.077992  0.294219  0.320439  0.297643     0.256063   \n",
       "Height      -0.077992  1.000000  0.003762 -0.035377 -0.026214     0.319475   \n",
       "Games        0.294219  0.003762  1.000000  0.884516  0.812355     0.811797   \n",
       "Min          0.320439 -0.035377  0.884516  1.000000  0.955337     0.875682   \n",
       "Pts          0.297643 -0.026214  0.812355  0.955337  1.000000     0.847482   \n",
       "Rebounds(T)  0.256063  0.319475  0.811797  0.875682  0.847482     1.000000   \n",
       "Steals       0.303392 -0.116501  0.803117  0.918351  0.875183     0.791083   \n",
       "Blocks(Fv)   0.166543  0.519252  0.510379  0.531931  0.518173     0.744558   \n",
       "\n",
       "               Steals  Blocks(Fv)  \n",
       "Age          0.303392    0.166543  \n",
       "Height      -0.116501    0.519252  \n",
       "Games        0.803117    0.510379  \n",
       "Min          0.918351    0.531931  \n",
       "Pts          0.875183    0.518173  \n",
       "Rebounds(T)  0.791083    0.744558  \n",
       "Steals       1.000000    0.490664  \n",
       "Blocks(Fv)   0.490664    1.000000  "
      ]
     },
     "execution_count": 68,
     "metadata": {},
     "output_type": "execute_result"
    }
   ],
   "source": [
    "df.corr(\"spearman\")\n",
    "# df.corr(method=\"spearman\")"
   ]
  },
  {
   "cell_type": "code",
   "execution_count": 69,
   "id": "65404c03",
   "metadata": {},
   "outputs": [
    {
     "data": {
      "text/plain": [
       "-0.11650141655743865"
      ]
     },
     "execution_count": 69,
     "metadata": {},
     "output_type": "execute_result"
    }
   ],
   "source": [
    "df.Height.corr(df.Steals, method=\"spearman\")"
   ]
  },
  {
   "cell_type": "code",
   "execution_count": null,
   "id": "f178ae6f",
   "metadata": {},
   "outputs": [],
   "source": [
    "# heatmap"
   ]
  },
  {
   "cell_type": "code",
   "execution_count": 70,
   "id": "76214ad0",
   "metadata": {},
   "outputs": [
    {
     "data": {
      "image/png": "[encoded data removed]",
      "text/plain": [
       "<Figure size 432x288 with 2 Axes>"
      ]
     },
     "metadata": {
      "needs_background": "light"
     },
     "output_type": "display_data"
    }
   ],
   "source": [
    "sns.heatmap(df.corr(), annot=True, cmap=\"RdYlGn\", fmt='.2f', linewidth=1, linecolor='black');"
   ]
  },
  {
   "cell_type": "markdown",
   "id": "17215b7f",
   "metadata": {},
   "source": [
    "### Scipy"
   ]
  },
  {
   "cell_type": "code",
   "execution_count": 71,
   "id": "20a4a73f",
   "metadata": {},
   "outputs": [
    {
     "data": {
      "text/plain": [
       "-0.13417989410775674"
      ]
     },
     "execution_count": 71,
     "metadata": {},
     "output_type": "execute_result"
    }
   ],
   "source": [
    "r, p = stats.pearsonr(df.Height, df.Steals)\n",
    "r"
   ]
  },
  {
   "cell_type": "code",
   "execution_count": 72,
   "id": "b110486b",
   "metadata": {},
   "outputs": [
    {
     "data": {
      "text/plain": [
       "(-0.13417989410775674, 0.02137348824376893)"
      ]
     },
     "execution_count": 72,
     "metadata": {},
     "output_type": "execute_result"
    }
   ],
   "source": [
    "stats.pearsonr(df.Height, df.Steals)"
   ]
  },
  {
   "cell_type": "code",
   "execution_count": 73,
   "id": "84bcbf4d",
   "metadata": {},
   "outputs": [
    {
     "data": {
      "text/plain": [
       "SpearmanrResult(correlation=-0.11650141655743865, pvalue=0.045947571943971914)"
      ]
     },
     "execution_count": 73,
     "metadata": {},
     "output_type": "execute_result"
    }
   ],
   "source": [
    "stats.spearmanr(df.Height, df.Steals)"
   ]
  },
  {
   "cell_type": "code",
   "execution_count": 74,
   "id": "aa8d8567",
   "metadata": {},
   "outputs": [
    {
     "data": {
      "text/plain": [
       "KendalltauResult(correlation=-0.08247675483307715, pvalue=0.04153344991911273)"
      ]
     },
     "execution_count": 74,
     "metadata": {},
     "output_type": "execute_result"
    }
   ],
   "source": [
    "stats.kendalltau(df.Height, df.Steals)"
   ]
  },
  {
   "cell_type": "code",
   "execution_count": null,
   "id": "6f594e17",
   "metadata": {},
   "outputs": [],
   "source": []
  }
 ],
 "metadata": {
  "kernelspec": {
   "display_name": "Python 3 (ipykernel)",
   "language": "python",
   "name": "python3"
  },
  "language_info": {
   "codemirror_mode": {
    "name": "ipython",
    "version": 3
   },
   "file_extension": ".py",
   "mimetype": "text/x-python",
   "name": "python",
   "nbconvert_exporter": "python",
   "pygments_lexer": "ipython3",
   "version": "3.9.6"
  }
 },
 "nbformat": 4,
 "nbformat_minor": 5
}
